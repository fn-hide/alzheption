{
 "cells": [
  {
   "cell_type": "markdown",
   "id": "d7cfddf0",
   "metadata": {},
   "source": [
    "# Visualization"
   ]
  },
  {
   "cell_type": "markdown",
   "id": "b32ea99c",
   "metadata": {},
   "source": [
    "## Packages"
   ]
  },
  {
   "cell_type": "code",
   "execution_count": 1,
   "id": "3a8acb59",
   "metadata": {},
   "outputs": [],
   "source": [
    "import os\n",
    "import pandas as pd\n",
    "import plotly.express as px\n",
    "import matplotlib.pyplot as plt"
   ]
  },
  {
   "cell_type": "markdown",
   "id": "1c5b8d96",
   "metadata": {},
   "source": [
    "## Load Result"
   ]
  },
  {
   "cell_type": "code",
   "execution_count": null,
   "id": "1d98b4ba",
   "metadata": {},
   "outputs": [],
   "source": [
    "list_name = [path[11:].split(\".\")[0] for path in os.listdir(\"result\") if path.startswith(\"TrainOSELM_Original\")]\n",
    "\n",
    "dict_df = {\n",
    "    name: pd.read_parquet(f'result/TrainOSELM_{name}.parquet').drop(columns=[\"scores\"])\n",
    "    for name in list_name\n",
    "}"
   ]
  },
  {
   "cell_type": "markdown",
   "id": "fc72b7ed",
   "metadata": {},
   "source": [
    "Tampilkan semua hasil train yg sudah dilakukan untuk membuat visualisasi"
   ]
  },
  {
   "cell_type": "code",
   "execution_count": 4,
   "id": "e5bcd206",
   "metadata": {},
   "outputs": [
    {
     "data": {
      "text/plain": [
       "dict_keys(['Original', 'Original_Brightness_Contrast', 'Original_HflipRotateBlur', 'Original_Fairly', 'Original_HflipBrightness_Contrast', 'Original_HflipRotateBlurShear', 'Original_Rotate', 'Original_Vflip', 'Original_HflipRotate', 'Original_Hflip'])"
      ]
     },
     "execution_count": 4,
     "metadata": {},
     "output_type": "execute_result"
    }
   ],
   "source": [
    "dict_df.keys()"
   ]
  },
  {
   "cell_type": "markdown",
   "id": "c6e14a32",
   "metadata": {},
   "source": [
    "## Visualize Experiment with `\"Original\"` Pre-Processing"
   ]
  },
  {
   "cell_type": "markdown",
   "id": "aa5f76fd",
   "metadata": {},
   "source": [
    "Hasil visualisasi di bawah menunjukkan bahwa semakin tinggi jumlah batch size dan neuron pada ELM, akurasi juga semakin meningkat"
   ]
  },
  {
   "cell_type": "code",
   "execution_count": null,
   "id": "dabdca30",
   "metadata": {},
   "outputs": [
    {
     "data": {
      "application/vnd.plotly.v1+json": {
       "config": {
        "plotlyServerURL": "https://plot.ly"
       },
       "data": [
        {
         "alignmentgroup": "True",
         "hovertemplate": "activation=sigmoid<br>batch_size=32<br>num_neurons=%{x}<br>final_score=%{y}<extra></extra>",
         "legendgroup": "sigmoid",
         "marker": {
          "color": "#636efa",
          "pattern": {
           "shape": ""
          }
         },
         "name": "sigmoid",
         "offsetgroup": "sigmoid",
         "orientation": "v",
         "showlegend": true,
         "textposition": "auto",
         "texttemplate": "%{y}",
         "type": "bar",
         "x": {
          "bdata": "MgBkAMgAkAEgA0AGgAw=",
          "dtype": "i2"
         },
         "xaxis": "x7",
         "y": {
          "bdata": "8QUaRUSm0D9aHJktuHfSPwj2UCxGBdI/kT9ApKx1zD+dP/5tloHVPxf4fEWh+d0/1N0UC5v+4D8=",
          "dtype": "f8"
         },
         "yaxis": "y7"
        },
        {
         "alignmentgroup": "True",
         "hovertemplate": "activation=sigmoid<br>batch_size=64<br>num_neurons=%{x}<br>final_score=%{y}<extra></extra>",
         "legendgroup": "sigmoid",
         "marker": {
          "color": "#636efa",
          "pattern": {
           "shape": ""
          }
         },
         "name": "sigmoid",
         "offsetgroup": "sigmoid",
         "orientation": "v",
         "showlegend": false,
         "textposition": "auto",
         "texttemplate": "%{y}",
         "type": "bar",
         "x": {
          "bdata": "MgBkAMgAkAEgA0AGgAw=",
          "dtype": "i2"
         },
         "xaxis": "x6",
         "y": {
          "bdata": "TsnO7jF60D94vlbmOCrSP36Z9xBkf9I/kYUsZCELyT+MBHNPvdLWP5hDaC1TS9w/SGrBlx6X4D8=",
          "dtype": "f8"
         },
         "yaxis": "y6"
        },
        {
         "alignmentgroup": "True",
         "hovertemplate": "activation=sigmoid<br>batch_size=128<br>num_neurons=%{x}<br>final_score=%{y}<extra></extra>",
         "legendgroup": "sigmoid",
         "marker": {
          "color": "#636efa",
          "pattern": {
           "shape": ""
          }
         },
         "name": "sigmoid",
         "offsetgroup": "sigmoid",
         "orientation": "v",
         "showlegend": false,
         "textposition": "auto",
         "texttemplate": "%{y}",
         "type": "bar",
         "x": {
          "bdata": "MgBkAMgAkAEgA0AGgAw=",
          "dtype": "i2"
         },
         "xaxis": "x5",
         "y": {
          "bdata": "qOqueEEy0D+8cd1Ksq7RP7Rqtr/DftI/bbcJZuj3zT+quXS2V5jWPy8CGoxUE90/C0hf6TwG4T8=",
          "dtype": "f8"
         },
         "yaxis": "y5"
        },
        {
         "alignmentgroup": "True",
         "hovertemplate": "activation=sigmoid<br>batch_size=256<br>num_neurons=%{x}<br>final_score=%{y}<extra></extra>",
         "legendgroup": "sigmoid",
         "marker": {
          "color": "#636efa",
          "pattern": {
           "shape": ""
          }
         },
         "name": "sigmoid",
         "offsetgroup": "sigmoid",
         "orientation": "v",
         "showlegend": false,
         "textposition": "auto",
         "texttemplate": "%{y}",
         "type": "bar",
         "x": {
          "bdata": "MgBkAMgAkAEgA0AGgAw=",
          "dtype": "i2"
         },
         "xaxis": "x4",
         "y": {
          "bdata": "E6Uk5kADyz+9ebajgsrQP4L/ACStB9M/twKxPC8Vzj9vcx7wFczWP4k+qhd/e94/GH0zFPN84T8=",
          "dtype": "f8"
         },
         "yaxis": "y4"
        },
        {
         "alignmentgroup": "True",
         "hovertemplate": "activation=sigmoid<br>batch_size=512<br>num_neurons=%{x}<br>final_score=%{y}<extra></extra>",
         "legendgroup": "sigmoid",
         "marker": {
          "color": "#636efa",
          "pattern": {
           "shape": ""
          }
         },
         "name": "sigmoid",
         "offsetgroup": "sigmoid",
         "orientation": "v",
         "showlegend": false,
         "textposition": "auto",
         "texttemplate": "%{y}",
         "type": "bar",
         "x": {
          "bdata": "MgBkAMgAkAEgA0AGgAw=",
          "dtype": "i2"
         },
         "xaxis": "x3",
         "y": {
          "bdata": "4Ev8UAsryj+GzcipHX3PP6oJFSTdsNI/oD4AtvCQyz8tR7ypX7PVP4bhMAU/g94/Z89IhpVG4T8=",
          "dtype": "f8"
         },
         "yaxis": "y3"
        },
        {
         "alignmentgroup": "True",
         "hovertemplate": "activation=sigmoid<br>batch_size=1024<br>num_neurons=%{x}<br>final_score=%{y}<extra></extra>",
         "legendgroup": "sigmoid",
         "marker": {
          "color": "#636efa",
          "pattern": {
           "shape": ""
          }
         },
         "name": "sigmoid",
         "offsetgroup": "sigmoid",
         "orientation": "v",
         "showlegend": false,
         "textposition": "auto",
         "texttemplate": "%{y}",
         "type": "bar",
         "x": {
          "bdata": "MgBkAMgAkAEgA0AGgAw=",
          "dtype": "i2"
         },
         "xaxis": "x2",
         "y": {
          "bdata": "m7G3njtuyT8WyNM1jtHQP7+/yFhZYtI/JcRuUCiQyz+PbXtkTrXWP1SUl3Jald0/oQQ28/1m4T8=",
          "dtype": "f8"
         },
         "yaxis": "y2"
        },
        {
         "alignmentgroup": "True",
         "hovertemplate": "activation=sigmoid<br>batch_size=2048<br>num_neurons=%{x}<br>final_score=%{y}<extra></extra>",
         "legendgroup": "sigmoid",
         "marker": {
          "color": "#636efa",
          "pattern": {
           "shape": ""
          }
         },
         "name": "sigmoid",
         "offsetgroup": "sigmoid",
         "orientation": "v",
         "showlegend": false,
         "textposition": "auto",
         "texttemplate": "%{y}",
         "type": "bar",
         "x": {
          "bdata": "MgBkAMgAkAEgA0AGgAw=",
          "dtype": "i2"
         },
         "xaxis": "x",
         "y": {
          "bdata": "jNmjljJsyT9PvvaTGQTSP4H2cCOkd9I/nMBrmDa1zT/Bt4L6ucfVP0Fwc7HqRt0/lGvs+dFS4D8=",
          "dtype": "f8"
         },
         "yaxis": "y"
        },
        {
         "alignmentgroup": "True",
         "hovertemplate": "activation=tanh<br>batch_size=32<br>num_neurons=%{x}<br>final_score=%{y}<extra></extra>",
         "legendgroup": "tanh",
         "marker": {
          "color": "#EF553B",
          "pattern": {
           "shape": ""
          }
         },
         "name": "tanh",
         "offsetgroup": "tanh",
         "orientation": "v",
         "showlegend": true,
         "textposition": "auto",
         "texttemplate": "%{y}",
         "type": "bar",
         "x": {
          "bdata": "MgBkAMgAkAEgA0AGgAw=",
          "dtype": "i2"
         },
         "xaxis": "x7",
         "y": {
          "bdata": "nZib4fOozz/6Ea4h7BjSP6ogfIFGEdE/UVGEv8tXyz/pxnBRcjLVP4ym+4TX6dw/cYzznPAU4D8=",
          "dtype": "f8"
         },
         "yaxis": "y7"
        },
        {
         "alignmentgroup": "True",
         "hovertemplate": "activation=tanh<br>batch_size=64<br>num_neurons=%{x}<br>final_score=%{y}<extra></extra>",
         "legendgroup": "tanh",
         "marker": {
          "color": "#EF553B",
          "pattern": {
           "shape": ""
          }
         },
         "name": "tanh",
         "offsetgroup": "tanh",
         "orientation": "v",
         "showlegend": false,
         "textposition": "auto",
         "texttemplate": "%{y}",
         "type": "bar",
         "x": {
          "bdata": "MgBkAMgAkAEgA0AGgAw=",
          "dtype": "i2"
         },
         "xaxis": "x6",
         "y": {
          "bdata": "HQHsKp8Pyz91i4jfe6XQP1s72ePx888/MTN6Q6Cvyz8vkhW7jYvUP+Fh0vudGdw/THvj4IrG3z8=",
          "dtype": "f8"
         },
         "yaxis": "y6"
        },
        {
         "alignmentgroup": "True",
         "hovertemplate": "activation=tanh<br>batch_size=128<br>num_neurons=%{x}<br>final_score=%{y}<extra></extra>",
         "legendgroup": "tanh",
         "marker": {
          "color": "#EF553B",
          "pattern": {
           "shape": ""
          }
         },
         "name": "tanh",
         "offsetgroup": "tanh",
         "orientation": "v",
         "showlegend": false,
         "textposition": "auto",
         "texttemplate": "%{y}",
         "type": "bar",
         "x": {
          "bdata": "MgBkAMgAkAEgA0AGgAw=",
          "dtype": "i2"
         },
         "xaxis": "x5",
         "y": {
          "bdata": "/O7dtpPQyD+AUDJECZLLPzpNC3IK9c8/0pqUUj1CyT/dXz63yi7UP+AxlvFZcNw/g2HBkkRA4D8=",
          "dtype": "f8"
         },
         "yaxis": "y5"
        },
        {
         "alignmentgroup": "True",
         "hovertemplate": "activation=tanh<br>batch_size=256<br>num_neurons=%{x}<br>final_score=%{y}<extra></extra>",
         "legendgroup": "tanh",
         "marker": {
          "color": "#EF553B",
          "pattern": {
           "shape": ""
          }
         },
         "name": "tanh",
         "offsetgroup": "tanh",
         "orientation": "v",
         "showlegend": false,
         "textposition": "auto",
         "texttemplate": "%{y}",
         "type": "bar",
         "x": {
          "bdata": "MgBkAMgAkAEgA0AGgAw=",
          "dtype": "i2"
         },
         "xaxis": "x4",
         "y": {
          "bdata": "AK1gkDKNxD80DvV4aQLHP2BoYtaxR8o/ulq9/bXKyz88Pey6mj7UPy3sQ+HBJNs/d+sA9AP43z8=",
          "dtype": "f8"
         },
         "yaxis": "y4"
        },
        {
         "alignmentgroup": "True",
         "hovertemplate": "activation=tanh<br>batch_size=512<br>num_neurons=%{x}<br>final_score=%{y}<extra></extra>",
         "legendgroup": "tanh",
         "marker": {
          "color": "#EF553B",
          "pattern": {
           "shape": ""
          }
         },
         "name": "tanh",
         "offsetgroup": "tanh",
         "orientation": "v",
         "showlegend": false,
         "textposition": "auto",
         "texttemplate": "%{y}",
         "type": "bar",
         "x": {
          "bdata": "MgBkAMgAkAEgA0AGgAw=",
          "dtype": "i2"
         },
         "xaxis": "x3",
         "y": {
          "bdata": "KuhnQt9TxT8gdxT1V07HP8OkZEECt8o/87Uyx1ERzD/2iokDKa3TPw7qDRS5H9w/M1wnl30y4D8=",
          "dtype": "f8"
         },
         "yaxis": "y3"
        },
        {
         "alignmentgroup": "True",
         "hovertemplate": "activation=tanh<br>batch_size=1024<br>num_neurons=%{x}<br>final_score=%{y}<extra></extra>",
         "legendgroup": "tanh",
         "marker": {
          "color": "#EF553B",
          "pattern": {
           "shape": ""
          }
         },
         "name": "tanh",
         "offsetgroup": "tanh",
         "orientation": "v",
         "showlegend": false,
         "textposition": "auto",
         "texttemplate": "%{y}",
         "type": "bar",
         "x": {
          "bdata": "MgBkAMgAkAEgA0AGgAw=",
          "dtype": "i2"
         },
         "xaxis": "x2",
         "y": {
          "bdata": "8ZgUdsV4xz+IdpmFMT7IP5N4DK/5rsw/zNETKSQNyj8Iqa/ACEfVPzpuk4JTV9s/Q0d/TaBH4D8=",
          "dtype": "f8"
         },
         "yaxis": "y2"
        },
        {
         "alignmentgroup": "True",
         "hovertemplate": "activation=tanh<br>batch_size=2048<br>num_neurons=%{x}<br>final_score=%{y}<extra></extra>",
         "legendgroup": "tanh",
         "marker": {
          "color": "#EF553B",
          "pattern": {
           "shape": ""
          }
         },
         "name": "tanh",
         "offsetgroup": "tanh",
         "orientation": "v",
         "showlegend": false,
         "textposition": "auto",
         "texttemplate": "%{y}",
         "type": "bar",
         "x": {
          "bdata": "MgBkAMgAkAEgA0AGgAw=",
          "dtype": "i2"
         },
         "xaxis": "x",
         "y": {
          "bdata": "m/2hYkC4xD93hPkoFX/FP9ucB3wFs80/HRB6LzhUyj9TGwOhin3UP3J1Hzq4Ndw/esnnMOQj4D8=",
          "dtype": "f8"
         },
         "yaxis": "y"
        },
        {
         "alignmentgroup": "True",
         "hovertemplate": "activation=relu<br>batch_size=32<br>num_neurons=%{x}<br>final_score=%{y}<extra></extra>",
         "legendgroup": "relu",
         "marker": {
          "color": "#00cc96",
          "pattern": {
           "shape": ""
          }
         },
         "name": "relu",
         "offsetgroup": "relu",
         "orientation": "v",
         "showlegend": true,
         "textposition": "auto",
         "texttemplate": "%{y}",
         "type": "bar",
         "x": {
          "bdata": "MgBkAMgAkAEgA0AGgAw=",
          "dtype": "i2"
         },
         "xaxis": "x7",
         "y": {
          "bdata": "TWcOgJpB0z89YlBqxnHVP2QVfFZ3WNY/ryugxiKMyT8MsUEJbObbPwdE8E8ptOA/FiKVVvPr4T8=",
          "dtype": "f8"
         },
         "yaxis": "y7"
        },
        {
         "alignmentgroup": "True",
         "hovertemplate": "activation=relu<br>batch_size=64<br>num_neurons=%{x}<br>final_score=%{y}<extra></extra>",
         "legendgroup": "relu",
         "marker": {
          "color": "#00cc96",
          "pattern": {
           "shape": ""
          }
         },
         "name": "relu",
         "offsetgroup": "relu",
         "orientation": "v",
         "showlegend": false,
         "textposition": "auto",
         "texttemplate": "%{y}",
         "type": "bar",
         "x": {
          "bdata": "MgBkAMgAkAEgA0AGgAw=",
          "dtype": "i2"
         },
         "xaxis": "x6",
         "y": {
          "bdata": "nGJh0x9L0T+sIcYjsAbVP2Uqm1nR0tY/rfjRv2UHyD9O9wmv07naPwEVHwNaeuA/XYPG7Qjz4T8=",
          "dtype": "f8"
         },
         "yaxis": "y6"
        },
        {
         "alignmentgroup": "True",
         "hovertemplate": "activation=relu<br>batch_size=128<br>num_neurons=%{x}<br>final_score=%{y}<extra></extra>",
         "legendgroup": "relu",
         "marker": {
          "color": "#00cc96",
          "pattern": {
           "shape": ""
          }
         },
         "name": "relu",
         "offsetgroup": "relu",
         "orientation": "v",
         "showlegend": false,
         "textposition": "auto",
         "texttemplate": "%{y}",
         "type": "bar",
         "x": {
          "bdata": "MgBkAMgAkAEgA0AGgAw=",
          "dtype": "i2"
         },
         "xaxis": "x5",
         "y": {
          "bdata": "dqw25SYK0T9P2+7vQ5rRPzQ5xDH0aNQ/aF6NDZZKxz9pcEAJ2evaP7WZOyLPs+A/Ojh/aeH74T8=",
          "dtype": "f8"
         },
         "yaxis": "y5"
        },
        {
         "alignmentgroup": "True",
         "hovertemplate": "activation=relu<br>batch_size=256<br>num_neurons=%{x}<br>final_score=%{y}<extra></extra>",
         "legendgroup": "relu",
         "marker": {
          "color": "#00cc96",
          "pattern": {
           "shape": ""
          }
         },
         "name": "relu",
         "offsetgroup": "relu",
         "orientation": "v",
         "showlegend": false,
         "textposition": "auto",
         "texttemplate": "%{y}",
         "type": "bar",
         "x": {
          "bdata": "MgBkAMgAkAEgA0AGgAw=",
          "dtype": "i2"
         },
         "xaxis": "x4",
         "y": {
          "bdata": "PKY74JidzD9RC5j/VsLOP9jBH0Ft4dQ/jAdyUQUtxj/c0YrioJzaPxZHZgvuneA/RiFD2zAm4j8=",
          "dtype": "f8"
         },
         "yaxis": "y4"
        },
        {
         "alignmentgroup": "True",
         "hovertemplate": "activation=relu<br>batch_size=512<br>num_neurons=%{x}<br>final_score=%{y}<extra></extra>",
         "legendgroup": "relu",
         "marker": {
          "color": "#00cc96",
          "pattern": {
           "shape": ""
          }
         },
         "name": "relu",
         "offsetgroup": "relu",
         "orientation": "v",
         "showlegend": false,
         "textposition": "auto",
         "texttemplate": "%{y}",
         "type": "bar",
         "x": {
          "bdata": "MgBkAMgAkAEgA0AGgAw=",
          "dtype": "i2"
         },
         "xaxis": "x3",
         "y": {
          "bdata": "gX3cUdRfyT+o7PbSUBjOP7RGCbjQv9I/UaNsh2BWxT9uEhUptwfbP52eLOC03uA/ypoicxc74j8=",
          "dtype": "f8"
         },
         "yaxis": "y3"
        },
        {
         "alignmentgroup": "True",
         "hovertemplate": "activation=relu<br>batch_size=1024<br>num_neurons=%{x}<br>final_score=%{y}<extra></extra>",
         "legendgroup": "relu",
         "marker": {
          "color": "#00cc96",
          "pattern": {
           "shape": ""
          }
         },
         "name": "relu",
         "offsetgroup": "relu",
         "orientation": "v",
         "showlegend": false,
         "textposition": "auto",
         "texttemplate": "%{y}",
         "type": "bar",
         "x": {
          "bdata": "MgBkAMgAkAEgA0AGgAw=",
          "dtype": "i2"
         },
         "xaxis": "x2",
         "y": {
          "bdata": "IZGgSWsLyj/oFuvJlUjMP5vpOQcfstU/KYuBKtDcxz+SsUW/FWfaPzYwWiZN2+A/XZjl8GJt4j8=",
          "dtype": "f8"
         },
         "yaxis": "y2"
        },
        {
         "alignmentgroup": "True",
         "hovertemplate": "activation=relu<br>batch_size=2048<br>num_neurons=%{x}<br>final_score=%{y}<extra></extra>",
         "legendgroup": "relu",
         "marker": {
          "color": "#00cc96",
          "pattern": {
           "shape": ""
          }
         },
         "name": "relu",
         "offsetgroup": "relu",
         "orientation": "v",
         "showlegend": false,
         "textposition": "auto",
         "texttemplate": "%{y}",
         "type": "bar",
         "x": {
          "bdata": "MgBkAMgAkAEgA0AGgAw=",
          "dtype": "i2"
         },
         "xaxis": "x",
         "y": {
          "bdata": "W/k1yC6uxj9uAxofT0TOP3r42Zi+19M/aKDpGOwTyD+RMvr5IhfbP9UUBsGn0OA/k7FFvxVn4j8=",
          "dtype": "f8"
         },
         "yaxis": "y"
        },
        {
         "alignmentgroup": "True",
         "hovertemplate": "activation=leaky_relu<br>batch_size=32<br>num_neurons=%{x}<br>final_score=%{y}<extra></extra>",
         "legendgroup": "leaky_relu",
         "marker": {
          "color": "#ab63fa",
          "pattern": {
           "shape": ""
          }
         },
         "name": "leaky_relu",
         "offsetgroup": "leaky_relu",
         "orientation": "v",
         "showlegend": true,
         "textposition": "auto",
         "texttemplate": "%{y}",
         "type": "bar",
         "x": {
          "bdata": "MgBkAMgAkAEgA0AGgAw=",
          "dtype": "i2"
         },
         "xaxis": "x7",
         "y": {
          "bdata": "K3AdE3kx0D8/5wY5GPXQPyqvwSz0HMo/rGLYjJza0T9oEX+ciQ3dPw2ZSfkrFOE/c1GYJyd54T8=",
          "dtype": "f8"
         },
         "yaxis": "y7"
        },
        {
         "alignmentgroup": "True",
         "hovertemplate": "activation=leaky_relu<br>batch_size=64<br>num_neurons=%{x}<br>final_score=%{y}<extra></extra>",
         "legendgroup": "leaky_relu",
         "marker": {
          "color": "#ab63fa",
          "pattern": {
           "shape": ""
          }
         },
         "name": "leaky_relu",
         "offsetgroup": "leaky_relu",
         "orientation": "v",
         "showlegend": false,
         "textposition": "auto",
         "texttemplate": "%{y}",
         "type": "bar",
         "x": {
          "bdata": "MgBkAMgAkAEgA0AGgAw=",
          "dtype": "i2"
         },
         "xaxis": "x6",
         "y": {
          "bdata": "zvLBLs9xyj83QucsLnrHP6z+z8P1u8Y/iPEIrEG90T9/GB3h9MzcPz4tzQMriOA/TZhuN+bd4T8=",
          "dtype": "f8"
         },
         "yaxis": "y6"
        },
        {
         "alignmentgroup": "True",
         "hovertemplate": "activation=leaky_relu<br>batch_size=128<br>num_neurons=%{x}<br>final_score=%{y}<extra></extra>",
         "legendgroup": "leaky_relu",
         "marker": {
          "color": "#ab63fa",
          "pattern": {
           "shape": ""
          }
         },
         "name": "leaky_relu",
         "offsetgroup": "leaky_relu",
         "orientation": "v",
         "showlegend": false,
         "textposition": "auto",
         "texttemplate": "%{y}",
         "type": "bar",
         "x": {
          "bdata": "MgBkAMgAkAEgA0AGgAw=",
          "dtype": "i2"
         },
         "xaxis": "x5",
         "y": {
          "bdata": "HRZ4M8gIyT9tSeDpYdfFPz9iUGrGccU/CiaNNoqu0T8hPgHanZjeP6ZOJEe3z+A/fZGLvWLi4D8=",
          "dtype": "f8"
         },
         "yaxis": "y5"
        },
        {
         "alignmentgroup": "True",
         "hovertemplate": "activation=leaky_relu<br>batch_size=256<br>num_neurons=%{x}<br>final_score=%{y}<extra></extra>",
         "legendgroup": "leaky_relu",
         "marker": {
          "color": "#ab63fa",
          "pattern": {
           "shape": ""
          }
         },
         "name": "leaky_relu",
         "offsetgroup": "leaky_relu",
         "orientation": "v",
         "showlegend": false,
         "textposition": "auto",
         "texttemplate": "%{y}",
         "type": "bar",
         "x": {
          "bdata": "MgBkAMgAkAEgA0AGgAw=",
          "dtype": "i2"
         },
         "xaxis": "x4",
         "y": {
          "bdata": "iKRnQAT/xD+mU2ujDhDGPwrxCdDuxMQ/lqOUVxeZ0T8FvDp/j9bdP6GIoh/m9OA/1q9sRSpA4T8=",
          "dtype": "f8"
         },
         "yaxis": "y4"
        },
        {
         "alignmentgroup": "True",
         "hovertemplate": "activation=leaky_relu<br>batch_size=512<br>num_neurons=%{x}<br>final_score=%{y}<extra></extra>",
         "legendgroup": "leaky_relu",
         "marker": {
          "color": "#ab63fa",
          "pattern": {
           "shape": ""
          }
         },
         "name": "leaky_relu",
         "offsetgroup": "leaky_relu",
         "orientation": "v",
         "showlegend": false,
         "textposition": "auto",
         "texttemplate": "%{y}",
         "type": "bar",
         "x": {
          "bdata": "MgBkAMgAkAEgA0AGgAw=",
          "dtype": "i2"
         },
         "xaxis": "x3",
         "y": {
          "bdata": "7EqWbe1DxD8kFlcYvY7FP9Z5xTGHY8U/B9ihKOP60D8smRF3wzDdPyh+znp3/+A/PYDZeMd54T8=",
          "dtype": "f8"
         },
         "yaxis": "y3"
        },
        {
         "alignmentgroup": "True",
         "hovertemplate": "activation=leaky_relu<br>batch_size=1024<br>num_neurons=%{x}<br>final_score=%{y}<extra></extra>",
         "legendgroup": "leaky_relu",
         "marker": {
          "color": "#ab63fa",
          "pattern": {
           "shape": ""
          }
         },
         "name": "leaky_relu",
         "offsetgroup": "leaky_relu",
         "orientation": "v",
         "showlegend": false,
         "textposition": "auto",
         "texttemplate": "%{y}",
         "type": "bar",
         "x": {
          "bdata": "MgBkAMgAkAEgA0AGgAw=",
          "dtype": "i2"
         },
         "xaxis": "x2",
         "y": {
          "bdata": "6tL/U8McxT9a5xXHHI7FP1IJ4594XcM/mflYvo5o0T+FzBEC5QjeP40Ouvf+1uA/nQlXWvOk4T8=",
          "dtype": "f8"
         },
         "yaxis": "y2"
        },
        {
         "alignmentgroup": "True",
         "hovertemplate": "activation=leaky_relu<br>batch_size=2048<br>num_neurons=%{x}<br>final_score=%{y}<extra></extra>",
         "legendgroup": "leaky_relu",
         "marker": {
          "color": "#ab63fa",
          "pattern": {
           "shape": ""
          }
         },
         "name": "leaky_relu",
         "offsetgroup": "leaky_relu",
         "orientation": "v",
         "showlegend": false,
         "textposition": "auto",
         "texttemplate": "%{y}",
         "type": "bar",
         "x": {
          "bdata": "MgBkAMgAkAEgA0AGgAw=",
          "dtype": "i2"
         },
         "xaxis": "x",
         "y": {
          "bdata": "WIGfrgSHxz87IPRecKjEPz1oTm5WJsQ/HGSqUdw40j8UjHUuyLzeP344gUQ2POE/xhNrWiNO4T8=",
          "dtype": "f8"
         },
         "yaxis": "y"
        },
        {
         "alignmentgroup": "True",
         "hovertemplate": "activation=silu<br>batch_size=32<br>num_neurons=%{x}<br>final_score=%{y}<extra></extra>",
         "legendgroup": "silu",
         "marker": {
          "color": "#FFA15A",
          "pattern": {
           "shape": ""
          }
         },
         "name": "silu",
         "offsetgroup": "silu",
         "orientation": "v",
         "showlegend": true,
         "textposition": "auto",
         "texttemplate": "%{y}",
         "type": "bar",
         "x": {
          "bdata": "MgBkAMgAkAEgA0AGgAw=",
          "dtype": "i2"
         },
         "xaxis": "x7",
         "y": {
          "bdata": "J8JM63qs0j8R1INT6jXUP5QvR+KewdU/JTcFHmjzxT/N6TEuxuHZP1ACm/l+s+A/WWYVokvZ4j8=",
          "dtype": "f8"
         },
         "yaxis": "y7"
        },
        {
         "alignmentgroup": "True",
         "hovertemplate": "activation=silu<br>batch_size=64<br>num_neurons=%{x}<br>final_score=%{y}<extra></extra>",
         "legendgroup": "silu",
         "marker": {
          "color": "#FFA15A",
          "pattern": {
           "shape": ""
          }
         },
         "name": "silu",
         "offsetgroup": "silu",
         "orientation": "v",
         "showlegend": false,
         "textposition": "auto",
         "texttemplate": "%{y}",
         "type": "bar",
         "x": {
          "bdata": "MgBkAMgAkAEgA0AGgAw=",
          "dtype": "i2"
         },
         "xaxis": "x6",
         "y": {
          "bdata": "TY66idVa0j8dNtyWCXjVPzq9fEig+9U/wcYQ/1IMxT9qoHwTHZXaP/WP0F+A7eA/PifP/5rT4T8=",
          "dtype": "f8"
         },
         "yaxis": "y6"
        },
        {
         "alignmentgroup": "True",
         "hovertemplate": "activation=silu<br>batch_size=128<br>num_neurons=%{x}<br>final_score=%{y}<extra></extra>",
         "legendgroup": "silu",
         "marker": {
          "color": "#FFA15A",
          "pattern": {
           "shape": ""
          }
         },
         "name": "silu",
         "offsetgroup": "silu",
         "orientation": "v",
         "showlegend": false,
         "textposition": "auto",
         "texttemplate": "%{y}",
         "type": "bar",
         "x": {
          "bdata": "MgBkAMgAkAEgA0AGgAw=",
          "dtype": "i2"
         },
         "xaxis": "x5",
         "y": {
          "bdata": "8qfIb8C/yz+DU+o15G/SP2HirU+609Q/2wwMTcw6xj9GCAEph17bP/9LV8nTyOA/FislV/x74j8=",
          "dtype": "f8"
         },
         "yaxis": "y5"
        },
        {
         "alignmentgroup": "True",
         "hovertemplate": "activation=silu<br>batch_size=256<br>num_neurons=%{x}<br>final_score=%{y}<extra></extra>",
         "legendgroup": "silu",
         "marker": {
          "color": "#FFA15A",
          "pattern": {
           "shape": ""
          }
         },
         "name": "silu",
         "offsetgroup": "silu",
         "orientation": "v",
         "showlegend": false,
         "textposition": "auto",
         "texttemplate": "%{y}",
         "type": "bar",
         "x": {
          "bdata": "MgBkAMgAkAEgA0AGgAw=",
          "dtype": "i2"
         },
         "xaxis": "x4",
         "y": {
          "bdata": "xj7NDd81yT+kuSjMk5PMP1rkg8qjstM/rRDwxAfcxz+qur5YwY3aP763XAVYxeA/vW7eSGpU4j8=",
          "dtype": "f8"
         },
         "yaxis": "y4"
        },
        {
         "alignmentgroup": "True",
         "hovertemplate": "activation=silu<br>batch_size=512<br>num_neurons=%{x}<br>final_score=%{y}<extra></extra>",
         "legendgroup": "silu",
         "marker": {
          "color": "#FFA15A",
          "pattern": {
           "shape": ""
          }
         },
         "name": "silu",
         "offsetgroup": "silu",
         "orientation": "v",
         "showlegend": false,
         "textposition": "auto",
         "texttemplate": "%{y}",
         "type": "bar",
         "x": {
          "bdata": "MgBkAMgAkAEgA0AGgAw=",
          "dtype": "i2"
         },
         "xaxis": "x3",
         "y": {
          "bdata": "EqiQ7Vfcxz8WJksAdLrKP0VlwUs009M/Qa08diXLxj93GvNb3qvbP0EXQ0NcnuA//fZJCpVt4j8=",
          "dtype": "f8"
         },
         "yaxis": "y3"
        },
        {
         "alignmentgroup": "True",
         "hovertemplate": "activation=silu<br>batch_size=1024<br>num_neurons=%{x}<br>final_score=%{y}<extra></extra>",
         "legendgroup": "silu",
         "marker": {
          "color": "#FFA15A",
          "pattern": {
           "shape": ""
          }
         },
         "name": "silu",
         "offsetgroup": "silu",
         "orientation": "v",
         "showlegend": false,
         "textposition": "auto",
         "texttemplate": "%{y}",
         "type": "bar",
         "x": {
          "bdata": "MgBkAMgAkAEgA0AGgAw=",
          "dtype": "i2"
         },
         "xaxis": "x2",
         "y": {
          "bdata": "QbM6erV/xT8fKJg02ijKP/aKiQMprdM/WsBpveF0xj8Je3QAZwfbP1YxbEZO7eA/i60dNm+R4j8=",
          "dtype": "f8"
         },
         "yaxis": "y2"
        },
        {
         "alignmentgroup": "True",
         "hovertemplate": "activation=silu<br>batch_size=2048<br>num_neurons=%{x}<br>final_score=%{y}<extra></extra>",
         "legendgroup": "silu",
         "marker": {
          "color": "#FFA15A",
          "pattern": {
           "shape": ""
          }
         },
         "name": "silu",
         "offsetgroup": "silu",
         "orientation": "v",
         "showlegend": false,
         "textposition": "auto",
         "texttemplate": "%{y}",
         "type": "bar",
         "x": {
          "bdata": "MgBkAMgAkAEgA0AGgAw=",
          "dtype": "i2"
         },
         "xaxis": "x",
         "y": {
          "bdata": "Dj+I2Mb5xz+4Sy/5HIbMP2rk+oMgQtQ/xTKrEF3Kxj9ILK4weh3bP8qzZCXBAuE/p0gmQycb4j8=",
          "dtype": "f8"
         },
         "yaxis": "y"
        },
        {
         "alignmentgroup": "True",
         "hovertemplate": "activation=mish<br>batch_size=32<br>num_neurons=%{x}<br>final_score=%{y}<extra></extra>",
         "legendgroup": "mish",
         "marker": {
          "color": "#19d3f3",
          "pattern": {
           "shape": ""
          }
         },
         "name": "mish",
         "offsetgroup": "mish",
         "orientation": "v",
         "showlegend": true,
         "textposition": "auto",
         "texttemplate": "%{y}",
         "type": "bar",
         "x": {
          "bdata": "MgBkAMgAkAEgA0AGgAw=",
          "dtype": "i2"
         },
         "xaxis": "x7",
         "y": {
          "bdata": "MhWEL9Ao0j+j8GCSDeLUP6whxiOwBtU/9k91nsyNxT+TpJIPvYnbP1arJMUl+OA/WjLc3Rnl4T8=",
          "dtype": "f8"
         },
         "yaxis": "y7"
        },
        {
         "alignmentgroup": "True",
         "hovertemplate": "activation=mish<br>batch_size=64<br>num_neurons=%{x}<br>final_score=%{y}<extra></extra>",
         "legendgroup": "mish",
         "marker": {
          "color": "#19d3f3",
          "pattern": {
           "shape": ""
          }
         },
         "name": "mish",
         "offsetgroup": "mish",
         "orientation": "v",
         "showlegend": false,
         "textposition": "auto",
         "texttemplate": "%{y}",
         "type": "bar",
         "x": {
          "bdata": "MgBkAMgAkAEgA0AGgAw=",
          "dtype": "i2"
         },
         "xaxis": "x6",
         "y": {
          "bdata": "lF45Snl10T8rIH2l8xjUP9LX8BGpR9U/L12SVPKhxz/08EYsrjDaP7x+kPoKjOA/opMNdS/s4T8=",
          "dtype": "f8"
         },
         "yaxis": "y6"
        },
        {
         "alignmentgroup": "True",
         "hovertemplate": "activation=mish<br>batch_size=128<br>num_neurons=%{x}<br>final_score=%{y}<extra></extra>",
         "legendgroup": "mish",
         "marker": {
          "color": "#19d3f3",
          "pattern": {
           "shape": ""
          }
         },
         "name": "mish",
         "offsetgroup": "mish",
         "orientation": "v",
         "showlegend": false,
         "textposition": "auto",
         "texttemplate": "%{y}",
         "type": "bar",
         "x": {
          "bdata": "MgBkAMgAkAEgA0AGgAw=",
          "dtype": "i2"
         },
         "xaxis": "x5",
         "y": {
          "bdata": "K0W7X71J0D+jOgP8AkbSP+ZJAOG/SdY/xkrJFf+exj9uBoYmZh3bP0NcnlD6weA/bRM51r764T8=",
          "dtype": "f8"
         },
         "yaxis": "y5"
        },
        {
         "alignmentgroup": "True",
         "hovertemplate": "activation=mish<br>batch_size=256<br>num_neurons=%{x}<br>final_score=%{y}<extra></extra>",
         "legendgroup": "mish",
         "marker": {
          "color": "#19d3f3",
          "pattern": {
           "shape": ""
          }
         },
         "name": "mish",
         "offsetgroup": "mish",
         "orientation": "v",
         "showlegend": false,
         "textposition": "auto",
         "texttemplate": "%{y}",
         "type": "bar",
         "x": {
          "bdata": "MgBkAMgAkAEgA0AGgAw=",
          "dtype": "i2"
         },
         "xaxis": "x4",
         "y": {
          "bdata": "iY/bN9sFxz9JJNXXqQHMP3H0sQ8YAtQ/v28o69NJxj/W5YBenJvaP8IgZRrpp+A/fzddly5J4j8=",
          "dtype": "f8"
         },
         "yaxis": "y4"
        },
        {
         "alignmentgroup": "True",
         "hovertemplate": "activation=mish<br>batch_size=512<br>num_neurons=%{x}<br>final_score=%{y}<extra></extra>",
         "legendgroup": "mish",
         "marker": {
          "color": "#19d3f3",
          "pattern": {
           "shape": ""
          }
         },
         "name": "mish",
         "offsetgroup": "mish",
         "orientation": "v",
         "showlegend": false,
         "textposition": "auto",
         "texttemplate": "%{y}",
         "type": "bar",
         "x": {
          "bdata": "MgBkAMgAkAEgA0AGgAw=",
          "dtype": "i2"
         },
         "xaxis": "x3",
         "y": {
          "bdata": "EvboAM4Oxj8Ow2EKfgbNP7LnR0uB4dQ/7la4am+vxj+RShj/xOvaP4YnisqCl+A/1q5ImCJN4j8=",
          "dtype": "f8"
         },
         "yaxis": "y3"
        },
        {
         "alignmentgroup": "True",
         "hovertemplate": "activation=mish<br>batch_size=1024<br>num_neurons=%{x}<br>final_score=%{y}<extra></extra>",
         "legendgroup": "mish",
         "marker": {
          "color": "#19d3f3",
          "pattern": {
           "shape": ""
          }
         },
         "name": "mish",
         "offsetgroup": "mish",
         "orientation": "v",
         "showlegend": false,
         "textposition": "auto",
         "texttemplate": "%{y}",
         "type": "bar",
         "x": {
          "bdata": "MgBkAMgAkAEgA0AGgAw=",
          "dtype": "i2"
         },
         "xaxis": "x2",
         "y": {
          "bdata": "aGSLESb/xT8020xnDoDKPx1u8fkdPdQ/ZM7Y7slOyD/qmDWR0PLaP6EaeaNf1OA/2f8yqBFb4j8=",
          "dtype": "f8"
         },
         "yaxis": "y2"
        },
        {
         "alignmentgroup": "True",
         "hovertemplate": "activation=mish<br>batch_size=2048<br>num_neurons=%{x}<br>final_score=%{y}<extra></extra>",
         "legendgroup": "mish",
         "marker": {
          "color": "#19d3f3",
          "pattern": {
           "shape": ""
          }
         },
         "name": "mish",
         "offsetgroup": "mish",
         "orientation": "v",
         "showlegend": false,
         "textposition": "auto",
         "texttemplate": "%{y}",
         "type": "bar",
         "x": {
          "bdata": "MgBkAMgAkAEgA0AGgAw=",
          "dtype": "i2"
         },
         "xaxis": "x",
         "y": {
          "bdata": "RO+YgXuUxz9ODyi0dY7KP5DSOtUtSNM/RShljMjNxz8t3P408GvaP7GLGNuq3uA/RG6+UQzi4T8=",
          "dtype": "f8"
         },
         "yaxis": "y"
        }
       ],
       "layout": {
        "annotations": [
         {
          "font": {},
          "showarrow": false,
          "text": "batch_size=2048",
          "textangle": 90,
          "x": 0.98,
          "xanchor": "left",
          "xref": "paper",
          "y": 0.05857142857142857,
          "yanchor": "middle",
          "yref": "paper"
         },
         {
          "font": {},
          "showarrow": false,
          "text": "batch_size=1024",
          "textangle": 90,
          "x": 0.98,
          "xanchor": "left",
          "xref": "paper",
          "y": 0.2057142857142857,
          "yanchor": "middle",
          "yref": "paper"
         },
         {
          "font": {},
          "showarrow": false,
          "text": "batch_size=512",
          "textangle": 90,
          "x": 0.98,
          "xanchor": "left",
          "xref": "paper",
          "y": 0.35285714285714287,
          "yanchor": "middle",
          "yref": "paper"
         },
         {
          "font": {},
          "showarrow": false,
          "text": "batch_size=256",
          "textangle": 90,
          "x": 0.98,
          "xanchor": "left",
          "xref": "paper",
          "y": 0.49999999999999994,
          "yanchor": "middle",
          "yref": "paper"
         },
         {
          "font": {},
          "showarrow": false,
          "text": "batch_size=128",
          "textangle": 90,
          "x": 0.98,
          "xanchor": "left",
          "xref": "paper",
          "y": 0.647142857142857,
          "yanchor": "middle",
          "yref": "paper"
         },
         {
          "font": {},
          "showarrow": false,
          "text": "batch_size=64",
          "textangle": 90,
          "x": 0.98,
          "xanchor": "left",
          "xref": "paper",
          "y": 0.7942857142857143,
          "yanchor": "middle",
          "yref": "paper"
         },
         {
          "font": {},
          "showarrow": false,
          "text": "batch_size=32",
          "textangle": 90,
          "x": 0.98,
          "xanchor": "left",
          "xref": "paper",
          "y": 0.9414285714285713,
          "yanchor": "middle",
          "yref": "paper"
         }
        ],
        "barmode": "group",
        "height": 2000,
        "legend": {
         "title": {
          "text": "activation"
         },
         "tracegroupgap": 0
        },
        "template": {
         "data": {
          "bar": [
           {
            "error_x": {
             "color": "#2a3f5f"
            },
            "error_y": {
             "color": "#2a3f5f"
            },
            "marker": {
             "line": {
              "color": "#E5ECF6",
              "width": 0.5
             },
             "pattern": {
              "fillmode": "overlay",
              "size": 10,
              "solidity": 0.2
             }
            },
            "type": "bar"
           }
          ],
          "barpolar": [
           {
            "marker": {
             "line": {
              "color": "#E5ECF6",
              "width": 0.5
             },
             "pattern": {
              "fillmode": "overlay",
              "size": 10,
              "solidity": 0.2
             }
            },
            "type": "barpolar"
           }
          ],
          "carpet": [
           {
            "aaxis": {
             "endlinecolor": "#2a3f5f",
             "gridcolor": "white",
             "linecolor": "white",
             "minorgridcolor": "white",
             "startlinecolor": "#2a3f5f"
            },
            "baxis": {
             "endlinecolor": "#2a3f5f",
             "gridcolor": "white",
             "linecolor": "white",
             "minorgridcolor": "white",
             "startlinecolor": "#2a3f5f"
            },
            "type": "carpet"
           }
          ],
          "choropleth": [
           {
            "colorbar": {
             "outlinewidth": 0,
             "ticks": ""
            },
            "type": "choropleth"
           }
          ],
          "contour": [
           {
            "colorbar": {
             "outlinewidth": 0,
             "ticks": ""
            },
            "colorscale": [
             [
              0,
              "#0d0887"
             ],
             [
              0.1111111111111111,
              "#46039f"
             ],
             [
              0.2222222222222222,
              "#7201a8"
             ],
             [
              0.3333333333333333,
              "#9c179e"
             ],
             [
              0.4444444444444444,
              "#bd3786"
             ],
             [
              0.5555555555555556,
              "#d8576b"
             ],
             [
              0.6666666666666666,
              "#ed7953"
             ],
             [
              0.7777777777777778,
              "#fb9f3a"
             ],
             [
              0.8888888888888888,
              "#fdca26"
             ],
             [
              1,
              "#f0f921"
             ]
            ],
            "type": "contour"
           }
          ],
          "contourcarpet": [
           {
            "colorbar": {
             "outlinewidth": 0,
             "ticks": ""
            },
            "type": "contourcarpet"
           }
          ],
          "heatmap": [
           {
            "colorbar": {
             "outlinewidth": 0,
             "ticks": ""
            },
            "colorscale": [
             [
              0,
              "#0d0887"
             ],
             [
              0.1111111111111111,
              "#46039f"
             ],
             [
              0.2222222222222222,
              "#7201a8"
             ],
             [
              0.3333333333333333,
              "#9c179e"
             ],
             [
              0.4444444444444444,
              "#bd3786"
             ],
             [
              0.5555555555555556,
              "#d8576b"
             ],
             [
              0.6666666666666666,
              "#ed7953"
             ],
             [
              0.7777777777777778,
              "#fb9f3a"
             ],
             [
              0.8888888888888888,
              "#fdca26"
             ],
             [
              1,
              "#f0f921"
             ]
            ],
            "type": "heatmap"
           }
          ],
          "histogram": [
           {
            "marker": {
             "pattern": {
              "fillmode": "overlay",
              "size": 10,
              "solidity": 0.2
             }
            },
            "type": "histogram"
           }
          ],
          "histogram2d": [
           {
            "colorbar": {
             "outlinewidth": 0,
             "ticks": ""
            },
            "colorscale": [
             [
              0,
              "#0d0887"
             ],
             [
              0.1111111111111111,
              "#46039f"
             ],
             [
              0.2222222222222222,
              "#7201a8"
             ],
             [
              0.3333333333333333,
              "#9c179e"
             ],
             [
              0.4444444444444444,
              "#bd3786"
             ],
             [
              0.5555555555555556,
              "#d8576b"
             ],
             [
              0.6666666666666666,
              "#ed7953"
             ],
             [
              0.7777777777777778,
              "#fb9f3a"
             ],
             [
              0.8888888888888888,
              "#fdca26"
             ],
             [
              1,
              "#f0f921"
             ]
            ],
            "type": "histogram2d"
           }
          ],
          "histogram2dcontour": [
           {
            "colorbar": {
             "outlinewidth": 0,
             "ticks": ""
            },
            "colorscale": [
             [
              0,
              "#0d0887"
             ],
             [
              0.1111111111111111,
              "#46039f"
             ],
             [
              0.2222222222222222,
              "#7201a8"
             ],
             [
              0.3333333333333333,
              "#9c179e"
             ],
             [
              0.4444444444444444,
              "#bd3786"
             ],
             [
              0.5555555555555556,
              "#d8576b"
             ],
             [
              0.6666666666666666,
              "#ed7953"
             ],
             [
              0.7777777777777778,
              "#fb9f3a"
             ],
             [
              0.8888888888888888,
              "#fdca26"
             ],
             [
              1,
              "#f0f921"
             ]
            ],
            "type": "histogram2dcontour"
           }
          ],
          "mesh3d": [
           {
            "colorbar": {
             "outlinewidth": 0,
             "ticks": ""
            },
            "type": "mesh3d"
           }
          ],
          "parcoords": [
           {
            "line": {
             "colorbar": {
              "outlinewidth": 0,
              "ticks": ""
             }
            },
            "type": "parcoords"
           }
          ],
          "pie": [
           {
            "automargin": true,
            "type": "pie"
           }
          ],
          "scatter": [
           {
            "fillpattern": {
             "fillmode": "overlay",
             "size": 10,
             "solidity": 0.2
            },
            "type": "scatter"
           }
          ],
          "scatter3d": [
           {
            "line": {
             "colorbar": {
              "outlinewidth": 0,
              "ticks": ""
             }
            },
            "marker": {
             "colorbar": {
              "outlinewidth": 0,
              "ticks": ""
             }
            },
            "type": "scatter3d"
           }
          ],
          "scattercarpet": [
           {
            "marker": {
             "colorbar": {
              "outlinewidth": 0,
              "ticks": ""
             }
            },
            "type": "scattercarpet"
           }
          ],
          "scattergeo": [
           {
            "marker": {
             "colorbar": {
              "outlinewidth": 0,
              "ticks": ""
             }
            },
            "type": "scattergeo"
           }
          ],
          "scattergl": [
           {
            "marker": {
             "colorbar": {
              "outlinewidth": 0,
              "ticks": ""
             }
            },
            "type": "scattergl"
           }
          ],
          "scattermap": [
           {
            "marker": {
             "colorbar": {
              "outlinewidth": 0,
              "ticks": ""
             }
            },
            "type": "scattermap"
           }
          ],
          "scattermapbox": [
           {
            "marker": {
             "colorbar": {
              "outlinewidth": 0,
              "ticks": ""
             }
            },
            "type": "scattermapbox"
           }
          ],
          "scatterpolar": [
           {
            "marker": {
             "colorbar": {
              "outlinewidth": 0,
              "ticks": ""
             }
            },
            "type": "scatterpolar"
           }
          ],
          "scatterpolargl": [
           {
            "marker": {
             "colorbar": {
              "outlinewidth": 0,
              "ticks": ""
             }
            },
            "type": "scatterpolargl"
           }
          ],
          "scatterternary": [
           {
            "marker": {
             "colorbar": {
              "outlinewidth": 0,
              "ticks": ""
             }
            },
            "type": "scatterternary"
           }
          ],
          "surface": [
           {
            "colorbar": {
             "outlinewidth": 0,
             "ticks": ""
            },
            "colorscale": [
             [
              0,
              "#0d0887"
             ],
             [
              0.1111111111111111,
              "#46039f"
             ],
             [
              0.2222222222222222,
              "#7201a8"
             ],
             [
              0.3333333333333333,
              "#9c179e"
             ],
             [
              0.4444444444444444,
              "#bd3786"
             ],
             [
              0.5555555555555556,
              "#d8576b"
             ],
             [
              0.6666666666666666,
              "#ed7953"
             ],
             [
              0.7777777777777778,
              "#fb9f3a"
             ],
             [
              0.8888888888888888,
              "#fdca26"
             ],
             [
              1,
              "#f0f921"
             ]
            ],
            "type": "surface"
           }
          ],
          "table": [
           {
            "cells": {
             "fill": {
              "color": "#EBF0F8"
             },
             "line": {
              "color": "white"
             }
            },
            "header": {
             "fill": {
              "color": "#C8D4E3"
             },
             "line": {
              "color": "white"
             }
            },
            "type": "table"
           }
          ]
         },
         "layout": {
          "annotationdefaults": {
           "arrowcolor": "#2a3f5f",
           "arrowhead": 0,
           "arrowwidth": 1
          },
          "autotypenumbers": "strict",
          "coloraxis": {
           "colorbar": {
            "outlinewidth": 0,
            "ticks": ""
           }
          },
          "colorscale": {
           "diverging": [
            [
             0,
             "#8e0152"
            ],
            [
             0.1,
             "#c51b7d"
            ],
            [
             0.2,
             "#de77ae"
            ],
            [
             0.3,
             "#f1b6da"
            ],
            [
             0.4,
             "#fde0ef"
            ],
            [
             0.5,
             "#f7f7f7"
            ],
            [
             0.6,
             "#e6f5d0"
            ],
            [
             0.7,
             "#b8e186"
            ],
            [
             0.8,
             "#7fbc41"
            ],
            [
             0.9,
             "#4d9221"
            ],
            [
             1,
             "#276419"
            ]
           ],
           "sequential": [
            [
             0,
             "#0d0887"
            ],
            [
             0.1111111111111111,
             "#46039f"
            ],
            [
             0.2222222222222222,
             "#7201a8"
            ],
            [
             0.3333333333333333,
             "#9c179e"
            ],
            [
             0.4444444444444444,
             "#bd3786"
            ],
            [
             0.5555555555555556,
             "#d8576b"
            ],
            [
             0.6666666666666666,
             "#ed7953"
            ],
            [
             0.7777777777777778,
             "#fb9f3a"
            ],
            [
             0.8888888888888888,
             "#fdca26"
            ],
            [
             1,
             "#f0f921"
            ]
           ],
           "sequentialminus": [
            [
             0,
             "#0d0887"
            ],
            [
             0.1111111111111111,
             "#46039f"
            ],
            [
             0.2222222222222222,
             "#7201a8"
            ],
            [
             0.3333333333333333,
             "#9c179e"
            ],
            [
             0.4444444444444444,
             "#bd3786"
            ],
            [
             0.5555555555555556,
             "#d8576b"
            ],
            [
             0.6666666666666666,
             "#ed7953"
            ],
            [
             0.7777777777777778,
             "#fb9f3a"
            ],
            [
             0.8888888888888888,
             "#fdca26"
            ],
            [
             1,
             "#f0f921"
            ]
           ]
          },
          "colorway": [
           "#636efa",
           "#EF553B",
           "#00cc96",
           "#ab63fa",
           "#FFA15A",
           "#19d3f3",
           "#FF6692",
           "#B6E880",
           "#FF97FF",
           "#FECB52"
          ],
          "font": {
           "color": "#2a3f5f"
          },
          "geo": {
           "bgcolor": "white",
           "lakecolor": "white",
           "landcolor": "#E5ECF6",
           "showlakes": true,
           "showland": true,
           "subunitcolor": "white"
          },
          "hoverlabel": {
           "align": "left"
          },
          "hovermode": "closest",
          "mapbox": {
           "style": "light"
          },
          "paper_bgcolor": "white",
          "plot_bgcolor": "#E5ECF6",
          "polar": {
           "angularaxis": {
            "gridcolor": "white",
            "linecolor": "white",
            "ticks": ""
           },
           "bgcolor": "#E5ECF6",
           "radialaxis": {
            "gridcolor": "white",
            "linecolor": "white",
            "ticks": ""
           }
          },
          "scene": {
           "xaxis": {
            "backgroundcolor": "#E5ECF6",
            "gridcolor": "white",
            "gridwidth": 2,
            "linecolor": "white",
            "showbackground": true,
            "ticks": "",
            "zerolinecolor": "white"
           },
           "yaxis": {
            "backgroundcolor": "#E5ECF6",
            "gridcolor": "white",
            "gridwidth": 2,
            "linecolor": "white",
            "showbackground": true,
            "ticks": "",
            "zerolinecolor": "white"
           },
           "zaxis": {
            "backgroundcolor": "#E5ECF6",
            "gridcolor": "white",
            "gridwidth": 2,
            "linecolor": "white",
            "showbackground": true,
            "ticks": "",
            "zerolinecolor": "white"
           }
          },
          "shapedefaults": {
           "line": {
            "color": "#2a3f5f"
           }
          },
          "ternary": {
           "aaxis": {
            "gridcolor": "white",
            "linecolor": "white",
            "ticks": ""
           },
           "baxis": {
            "gridcolor": "white",
            "linecolor": "white",
            "ticks": ""
           },
           "bgcolor": "#E5ECF6",
           "caxis": {
            "gridcolor": "white",
            "linecolor": "white",
            "ticks": ""
           }
          },
          "title": {
           "x": 0.05
          },
          "xaxis": {
           "automargin": true,
           "gridcolor": "white",
           "linecolor": "white",
           "ticks": "",
           "title": {
            "standoff": 15
           },
           "zerolinecolor": "white",
           "zerolinewidth": 2
          },
          "yaxis": {
           "automargin": true,
           "gridcolor": "white",
           "linecolor": "white",
           "ticks": "",
           "title": {
            "standoff": 15
           },
           "zerolinecolor": "white",
           "zerolinewidth": 2
          }
         }
        },
        "title": {
         "text": "Original"
        },
        "width": 1000,
        "xaxis": {
         "anchor": "y",
         "domain": [
          0,
          0.98
         ],
         "title": {
          "text": "num_neurons"
         },
         "type": "category"
        },
        "xaxis2": {
         "anchor": "y2",
         "domain": [
          0,
          0.98
         ],
         "matches": "x",
         "showticklabels": false,
         "type": "category"
        },
        "xaxis3": {
         "anchor": "y3",
         "domain": [
          0,
          0.98
         ],
         "matches": "x",
         "showticklabels": false,
         "type": "category"
        },
        "xaxis4": {
         "anchor": "y4",
         "domain": [
          0,
          0.98
         ],
         "matches": "x",
         "showticklabels": false,
         "type": "category"
        },
        "xaxis5": {
         "anchor": "y5",
         "domain": [
          0,
          0.98
         ],
         "matches": "x",
         "showticklabels": false,
         "type": "category"
        },
        "xaxis6": {
         "anchor": "y6",
         "domain": [
          0,
          0.98
         ],
         "matches": "x",
         "showticklabels": false,
         "type": "category"
        },
        "xaxis7": {
         "anchor": "y7",
         "domain": [
          0,
          0.98
         ],
         "matches": "x",
         "showticklabels": false,
         "type": "category"
        },
        "yaxis": {
         "anchor": "x",
         "domain": [
          0,
          0.11714285714285715
         ],
         "range": [
          0,
          1
         ],
         "title": {
          "text": "final_score"
         }
        },
        "yaxis2": {
         "anchor": "x2",
         "domain": [
          0.14714285714285713,
          0.2642857142857143
         ],
         "matches": "y",
         "range": [
          0,
          1
         ],
         "title": {
          "text": "final_score"
         }
        },
        "yaxis3": {
         "anchor": "x3",
         "domain": [
          0.29428571428571426,
          0.4114285714285714
         ],
         "matches": "y",
         "range": [
          0,
          1
         ],
         "title": {
          "text": "final_score"
         }
        },
        "yaxis4": {
         "anchor": "x4",
         "domain": [
          0.4414285714285714,
          0.5585714285714285
         ],
         "matches": "y",
         "range": [
          0,
          1
         ],
         "title": {
          "text": "final_score"
         }
        },
        "yaxis5": {
         "anchor": "x5",
         "domain": [
          0.5885714285714285,
          0.7057142857142856
         ],
         "matches": "y",
         "range": [
          0,
          1
         ],
         "title": {
          "text": "final_score"
         }
        },
        "yaxis6": {
         "anchor": "x6",
         "domain": [
          0.7357142857142858,
          0.8528571428571429
         ],
         "matches": "y",
         "range": [
          0,
          1
         ],
         "title": {
          "text": "final_score"
         }
        },
        "yaxis7": {
         "anchor": "x7",
         "domain": [
          0.8828571428571428,
          0.9999999999999999
         ],
         "matches": "y",
         "range": [
          0,
          1
         ],
         "title": {
          "text": "final_score"
         }
        }
       }
      }
     },
     "metadata": {},
     "output_type": "display_data"
    }
   ],
   "source": [
    "# Pilih satu judul (sesuai dengan preprocessing) untuk melakukan visualisasi\n",
    "title = \"Original\"\n",
    "\n",
    "# Visualisasikan salah satu dataframe\n",
    "df = dict_df.get(title)\n",
    "fig = px.bar(\n",
    "    df, \n",
    "    x=\"num_neurons\", \n",
    "    y=\"final_score\", \n",
    "    color=\"activation\",\n",
    "    facet_row=\"batch_size\",\n",
    "    barmode=\"group\", \n",
    "    text_auto=True, \n",
    "    range_y=(0, 1),\n",
    "    title=title.replace(\"_\", \" \"),\n",
    "    height=2000,\n",
    "    width=1000,\n",
    ")\n",
    "fig.update_xaxes(type=\"category\")\n",
    "fig.show()"
   ]
  },
  {
   "cell_type": "markdown",
   "id": "783c26ae",
   "metadata": {},
   "source": [
    "## Visualize Experiment with `\"All\"` Pre-Processing"
   ]
  },
  {
   "cell_type": "markdown",
   "id": "c18deab0",
   "metadata": {},
   "source": [
    "Hasil visualisasi di bawah menunjukkan bahwa pre-processing `Hflip` (Horizontal Flip), `BrightnessContrast`, dan `Rotate` dapat meningkatkan akurasi pada data augmentasi"
   ]
  },
  {
   "cell_type": "code",
   "execution_count": 13,
   "id": "559da207",
   "metadata": {},
   "outputs": [],
   "source": [
    "list_df = []\n",
    "for name in list_name:\n",
    "    df_ = pd.read_parquet(f'result/TrainOSELM_{name}.parquet').drop(columns=[\"scores\"])\n",
    "    df_[\"name\"] = name\n",
    "    list_df.append(df_)\n",
    "df = pd.concat(list_df)\n",
    "df = df.fillna(0)"
   ]
  },
  {
   "cell_type": "code",
   "execution_count": 29,
   "id": "9833386b",
   "metadata": {},
   "outputs": [
    {
     "data": {
      "application/vnd.plotly.v1+json": {
       "config": {
        "plotlyServerURL": "https://plot.ly"
       },
       "data": [
        {
         "alignmentgroup": "True",
         "hovertemplate": "name=Original<br>activation=sigmoid<br>num_neurons=%{x}<br>final_score=%{y}<extra></extra>",
         "legendgroup": "Original",
         "marker": {
          "color": "#636efa",
          "pattern": {
           "shape": ""
          }
         },
         "name": "Original",
         "offsetgroup": "Original",
         "orientation": "v",
         "showlegend": true,
         "textposition": "auto",
         "texttemplate": "%{y}",
         "type": "bar",
         "x": {
          "bdata": "QAaADA==",
          "dtype": "i2"
         },
         "xaxis": "x6",
         "y": {
          "bdata": "QXBzsepG3T+Ua+z50VLgPw==",
          "dtype": "f8"
         },
         "yaxis": "y6"
        },
        {
         "alignmentgroup": "True",
         "hovertemplate": "name=Original<br>activation=tanh<br>num_neurons=%{x}<br>final_score=%{y}<extra></extra>",
         "legendgroup": "Original",
         "marker": {
          "color": "#636efa",
          "pattern": {
           "shape": ""
          }
         },
         "name": "Original",
         "offsetgroup": "Original",
         "orientation": "v",
         "showlegend": false,
         "textposition": "auto",
         "texttemplate": "%{y}",
         "type": "bar",
         "x": {
          "bdata": "QAaADA==",
          "dtype": "i2"
         },
         "xaxis": "x5",
         "y": {
          "bdata": "cnUfOrg13D96yecw5CPgPw==",
          "dtype": "f8"
         },
         "yaxis": "y5"
        },
        {
         "alignmentgroup": "True",
         "hovertemplate": "name=Original<br>activation=relu<br>num_neurons=%{x}<br>final_score=%{y}<extra></extra>",
         "legendgroup": "Original",
         "marker": {
          "color": "#636efa",
          "pattern": {
           "shape": ""
          }
         },
         "name": "Original",
         "offsetgroup": "Original",
         "orientation": "v",
         "showlegend": false,
         "textposition": "auto",
         "texttemplate": "%{y}",
         "type": "bar",
         "x": {
          "bdata": "QAaADA==",
          "dtype": "i2"
         },
         "xaxis": "x4",
         "y": {
          "bdata": "1RQGwafQ4D+TsUW/FWfiPw==",
          "dtype": "f8"
         },
         "yaxis": "y4"
        },
        {
         "alignmentgroup": "True",
         "hovertemplate": "name=Original<br>activation=leaky_relu<br>num_neurons=%{x}<br>final_score=%{y}<extra></extra>",
         "legendgroup": "Original",
         "marker": {
          "color": "#636efa",
          "pattern": {
           "shape": ""
          }
         },
         "name": "Original",
         "offsetgroup": "Original",
         "orientation": "v",
         "showlegend": false,
         "textposition": "auto",
         "texttemplate": "%{y}",
         "type": "bar",
         "x": {
          "bdata": "QAaADA==",
          "dtype": "i2"
         },
         "xaxis": "x3",
         "y": {
          "bdata": "fjiBRDY84T/GE2taI07hPw==",
          "dtype": "f8"
         },
         "yaxis": "y3"
        },
        {
         "alignmentgroup": "True",
         "hovertemplate": "name=Original<br>activation=silu<br>num_neurons=%{x}<br>final_score=%{y}<extra></extra>",
         "legendgroup": "Original",
         "marker": {
          "color": "#636efa",
          "pattern": {
           "shape": ""
          }
         },
         "name": "Original",
         "offsetgroup": "Original",
         "orientation": "v",
         "showlegend": false,
         "textposition": "auto",
         "texttemplate": "%{y}",
         "type": "bar",
         "x": {
          "bdata": "QAaADA==",
          "dtype": "i2"
         },
         "xaxis": "x2",
         "y": {
          "bdata": "yrNkJcEC4T+nSCZDJxviPw==",
          "dtype": "f8"
         },
         "yaxis": "y2"
        },
        {
         "alignmentgroup": "True",
         "hovertemplate": "name=Original<br>activation=mish<br>num_neurons=%{x}<br>final_score=%{y}<extra></extra>",
         "legendgroup": "Original",
         "marker": {
          "color": "#636efa",
          "pattern": {
           "shape": ""
          }
         },
         "name": "Original",
         "offsetgroup": "Original",
         "orientation": "v",
         "showlegend": false,
         "textposition": "auto",
         "texttemplate": "%{y}",
         "type": "bar",
         "x": {
          "bdata": "QAaADA==",
          "dtype": "i2"
         },
         "xaxis": "x",
         "y": {
          "bdata": "sYsY26re4D9Ebr5RDOLhPw==",
          "dtype": "f8"
         },
         "yaxis": "y"
        },
        {
         "alignmentgroup": "True",
         "hovertemplate": "name=Original_Brightness_Contrast<br>activation=sigmoid<br>num_neurons=%{x}<br>final_score=%{y}<extra></extra>",
         "legendgroup": "Original_Brightness_Contrast",
         "marker": {
          "color": "#EF553B",
          "pattern": {
           "shape": ""
          }
         },
         "name": "Original_Brightness_Contrast",
         "offsetgroup": "Original_Brightness_Contrast",
         "orientation": "v",
         "showlegend": true,
         "textposition": "auto",
         "texttemplate": "%{y}",
         "type": "bar",
         "x": {
          "bdata": "QAaADA==",
          "dtype": "i2"
         },
         "xaxis": "x6",
         "y": {
          "bdata": "gBFr3tBH6D+7MhmJXXbqPw==",
          "dtype": "f8"
         },
         "yaxis": "y6"
        },
        {
         "alignmentgroup": "True",
         "hovertemplate": "name=Original_Brightness_Contrast<br>activation=tanh<br>num_neurons=%{x}<br>final_score=%{y}<extra></extra>",
         "legendgroup": "Original_Brightness_Contrast",
         "marker": {
          "color": "#EF553B",
          "pattern": {
           "shape": ""
          }
         },
         "name": "Original_Brightness_Contrast",
         "offsetgroup": "Original_Brightness_Contrast",
         "orientation": "v",
         "showlegend": false,
         "textposition": "auto",
         "texttemplate": "%{y}",
         "type": "bar",
         "x": {
          "bdata": "QAaADA==",
          "dtype": "i2"
         },
         "xaxis": "x5",
         "y": {
          "bdata": "W/11cfIS5z/EtdHPdgzqPw==",
          "dtype": "f8"
         },
         "yaxis": "y5"
        },
        {
         "alignmentgroup": "True",
         "hovertemplate": "name=Original_Brightness_Contrast<br>activation=relu<br>num_neurons=%{x}<br>final_score=%{y}<extra></extra>",
         "legendgroup": "Original_Brightness_Contrast",
         "marker": {
          "color": "#EF553B",
          "pattern": {
           "shape": ""
          }
         },
         "name": "Original_Brightness_Contrast",
         "offsetgroup": "Original_Brightness_Contrast",
         "orientation": "v",
         "showlegend": false,
         "textposition": "auto",
         "texttemplate": "%{y}",
         "type": "bar",
         "x": {
          "bdata": "QAaADA==",
          "dtype": "i2"
         },
         "xaxis": "x4",
         "y": {
          "bdata": "xT+UfwIt6j8XsAVGyYfrPw==",
          "dtype": "f8"
         },
         "yaxis": "y4"
        },
        {
         "alignmentgroup": "True",
         "hovertemplate": "name=Original_Brightness_Contrast<br>activation=leaky_relu<br>num_neurons=%{x}<br>final_score=%{y}<extra></extra>",
         "legendgroup": "Original_Brightness_Contrast",
         "marker": {
          "color": "#EF553B",
          "pattern": {
           "shape": ""
          }
         },
         "name": "Original_Brightness_Contrast",
         "offsetgroup": "Original_Brightness_Contrast",
         "orientation": "v",
         "showlegend": false,
         "textposition": "auto",
         "texttemplate": "%{y}",
         "type": "bar",
         "x": {
          "bdata": "QAaADA==",
          "dtype": "i2"
         },
         "xaxis": "x3",
         "y": {
          "bdata": "476seZwl6j9P5hZbeAnrPw==",
          "dtype": "f8"
         },
         "yaxis": "y3"
        },
        {
         "alignmentgroup": "True",
         "hovertemplate": "name=Original_Brightness_Contrast<br>activation=silu<br>num_neurons=%{x}<br>final_score=%{y}<extra></extra>",
         "legendgroup": "Original_Brightness_Contrast",
         "marker": {
          "color": "#EF553B",
          "pattern": {
           "shape": ""
          }
         },
         "name": "Original_Brightness_Contrast",
         "offsetgroup": "Original_Brightness_Contrast",
         "orientation": "v",
         "showlegend": false,
         "textposition": "auto",
         "texttemplate": "%{y}",
         "type": "bar",
         "x": {
          "bdata": "QAaADA==",
          "dtype": "i2"
         },
         "xaxis": "x2",
         "y": {
          "bdata": "luqbzmbI6T8uBav3FVfrPw==",
          "dtype": "f8"
         },
         "yaxis": "y2"
        },
        {
         "alignmentgroup": "True",
         "hovertemplate": "name=Original_Brightness_Contrast<br>activation=mish<br>num_neurons=%{x}<br>final_score=%{y}<extra></extra>",
         "legendgroup": "Original_Brightness_Contrast",
         "marker": {
          "color": "#EF553B",
          "pattern": {
           "shape": ""
          }
         },
         "name": "Original_Brightness_Contrast",
         "offsetgroup": "Original_Brightness_Contrast",
         "orientation": "v",
         "showlegend": false,
         "textposition": "auto",
         "texttemplate": "%{y}",
         "type": "bar",
         "x": {
          "bdata": "QAaADA==",
          "dtype": "i2"
         },
         "xaxis": "x",
         "y": {
          "bdata": "F4CoETev6T9q3LWxd63rPw==",
          "dtype": "f8"
         },
         "yaxis": "y"
        },
        {
         "alignmentgroup": "True",
         "hovertemplate": "name=Original_HflipRotateBlur<br>activation=sigmoid<br>num_neurons=%{x}<br>final_score=%{y}<extra></extra>",
         "legendgroup": "Original_HflipRotateBlur",
         "marker": {
          "color": "#00cc96",
          "pattern": {
           "shape": ""
          }
         },
         "name": "Original_HflipRotateBlur",
         "offsetgroup": "Original_HflipRotateBlur",
         "orientation": "v",
         "showlegend": true,
         "textposition": "auto",
         "texttemplate": "%{y}",
         "type": "bar",
         "x": {
          "bdata": "QAaADA==",
          "dtype": "i2"
         },
         "xaxis": "x6",
         "y": {
          "bdata": "wQm09bAMzj8h67AWUpPhPw==",
          "dtype": "f8"
         },
         "yaxis": "y6"
        },
        {
         "alignmentgroup": "True",
         "hovertemplate": "name=Original_HflipRotateBlur<br>activation=tanh<br>num_neurons=%{x}<br>final_score=%{y}<extra></extra>",
         "legendgroup": "Original_HflipRotateBlur",
         "marker": {
          "color": "#00cc96",
          "pattern": {
           "shape": ""
          }
         },
         "name": "Original_HflipRotateBlur",
         "offsetgroup": "Original_HflipRotateBlur",
         "orientation": "v",
         "showlegend": false,
         "textposition": "auto",
         "texttemplate": "%{y}",
         "type": "bar",
         "x": {
          "bdata": "QAaADA==",
          "dtype": "i2"
         },
         "xaxis": "x5",
         "y": {
          "bdata": "xZBd9rSbyz/RFO7lXQXgPw==",
          "dtype": "f8"
         },
         "yaxis": "y5"
        },
        {
         "alignmentgroup": "True",
         "hovertemplate": "name=Original_HflipRotateBlur<br>activation=relu<br>num_neurons=%{x}<br>final_score=%{y}<extra></extra>",
         "legendgroup": "Original_HflipRotateBlur",
         "marker": {
          "color": "#00cc96",
          "pattern": {
           "shape": ""
          }
         },
         "name": "Original_HflipRotateBlur",
         "offsetgroup": "Original_HflipRotateBlur",
         "orientation": "v",
         "showlegend": false,
         "textposition": "auto",
         "texttemplate": "%{y}",
         "type": "bar",
         "x": {
          "bdata": "QAaADA==",
          "dtype": "i2"
         },
         "xaxis": "x4",
         "y": {
          "bdata": "xs1ayEGAzT+roR5OOQbkPw==",
          "dtype": "f8"
         },
         "yaxis": "y4"
        },
        {
         "alignmentgroup": "True",
         "hovertemplate": "name=Original_HflipRotateBlur<br>activation=leaky_relu<br>num_neurons=%{x}<br>final_score=%{y}<extra></extra>",
         "legendgroup": "Original_HflipRotateBlur",
         "marker": {
          "color": "#00cc96",
          "pattern": {
           "shape": ""
          }
         },
         "name": "Original_HflipRotateBlur",
         "offsetgroup": "Original_HflipRotateBlur",
         "orientation": "v",
         "showlegend": false,
         "textposition": "auto",
         "texttemplate": "%{y}",
         "type": "bar",
         "x": {
          "bdata": "QAaADA==",
          "dtype": "i2"
         },
         "xaxis": "x3",
         "y": {
          "bdata": "IQsu7Zl01j9/YumTTrfgPw==",
          "dtype": "f8"
         },
         "yaxis": "y3"
        },
        {
         "alignmentgroup": "True",
         "hovertemplate": "name=Original_HflipRotateBlur<br>activation=silu<br>num_neurons=%{x}<br>final_score=%{y}<extra></extra>",
         "legendgroup": "Original_HflipRotateBlur",
         "marker": {
          "color": "#00cc96",
          "pattern": {
           "shape": ""
          }
         },
         "name": "Original_HflipRotateBlur",
         "offsetgroup": "Original_HflipRotateBlur",
         "orientation": "v",
         "showlegend": false,
         "textposition": "auto",
         "texttemplate": "%{y}",
         "type": "bar",
         "x": {
          "bdata": "QAaADA==",
          "dtype": "i2"
         },
         "xaxis": "x2",
         "y": {
          "bdata": "Ai0SLL9A0D+UuNRxLNvjPw==",
          "dtype": "f8"
         },
         "yaxis": "y2"
        },
        {
         "alignmentgroup": "True",
         "hovertemplate": "name=Original_HflipRotateBlur<br>activation=mish<br>num_neurons=%{x}<br>final_score=%{y}<extra></extra>",
         "legendgroup": "Original_HflipRotateBlur",
         "marker": {
          "color": "#00cc96",
          "pattern": {
           "shape": ""
          }
         },
         "name": "Original_HflipRotateBlur",
         "offsetgroup": "Original_HflipRotateBlur",
         "orientation": "v",
         "showlegend": false,
         "textposition": "auto",
         "texttemplate": "%{y}",
         "type": "bar",
         "x": {
          "bdata": "QAaADA==",
          "dtype": "i2"
         },
         "xaxis": "x",
         "y": {
          "bdata": "lvQX36YBzj80l+BerQLkPw==",
          "dtype": "f8"
         },
         "yaxis": "y"
        },
        {
         "alignmentgroup": "True",
         "hovertemplate": "name=Original_Fairly<br>activation=sigmoid<br>num_neurons=%{x}<br>final_score=%{y}<extra></extra>",
         "legendgroup": "Original_Fairly",
         "marker": {
          "color": "#ab63fa",
          "pattern": {
           "shape": ""
          }
         },
         "name": "Original_Fairly",
         "offsetgroup": "Original_Fairly",
         "orientation": "v",
         "showlegend": true,
         "textposition": "auto",
         "texttemplate": "%{y}",
         "type": "bar",
         "x": {
          "bdata": "QAaADA==",
          "dtype": "i2"
         },
         "xaxis": "x6",
         "y": {
          "bdata": "afqZ3q4T3j/tODnZ0HTiPw==",
          "dtype": "f8"
         },
         "yaxis": "y6"
        },
        {
         "alignmentgroup": "True",
         "hovertemplate": "name=Original_Fairly<br>activation=tanh<br>num_neurons=%{x}<br>final_score=%{y}<extra></extra>",
         "legendgroup": "Original_Fairly",
         "marker": {
          "color": "#ab63fa",
          "pattern": {
           "shape": ""
          }
         },
         "name": "Original_Fairly",
         "offsetgroup": "Original_Fairly",
         "orientation": "v",
         "showlegend": false,
         "textposition": "auto",
         "texttemplate": "%{y}",
         "type": "bar",
         "x": {
          "bdata": "QAaADA==",
          "dtype": "i2"
         },
         "xaxis": "x5",
         "y": {
          "bdata": "TAtazFHG2z/8gF9pXwfiPw==",
          "dtype": "f8"
         },
         "yaxis": "y5"
        },
        {
         "alignmentgroup": "True",
         "hovertemplate": "name=Original_Fairly<br>activation=relu<br>num_neurons=%{x}<br>final_score=%{y}<extra></extra>",
         "legendgroup": "Original_Fairly",
         "marker": {
          "color": "#ab63fa",
          "pattern": {
           "shape": ""
          }
         },
         "name": "Original_Fairly",
         "offsetgroup": "Original_Fairly",
         "orientation": "v",
         "showlegend": false,
         "textposition": "auto",
         "texttemplate": "%{y}",
         "type": "bar",
         "x": {
          "bdata": "QAaADA==",
          "dtype": "i2"
         },
         "xaxis": "x4",
         "y": {
          "bdata": "I/tU7pjZ4D9BMqbYPmfjPw==",
          "dtype": "f8"
         },
         "yaxis": "y4"
        },
        {
         "alignmentgroup": "True",
         "hovertemplate": "name=Original_Fairly<br>activation=leaky_relu<br>num_neurons=%{x}<br>final_score=%{y}<extra></extra>",
         "legendgroup": "Original_Fairly",
         "marker": {
          "color": "#ab63fa",
          "pattern": {
           "shape": ""
          }
         },
         "name": "Original_Fairly",
         "offsetgroup": "Original_Fairly",
         "orientation": "v",
         "showlegend": false,
         "textposition": "auto",
         "texttemplate": "%{y}",
         "type": "bar",
         "x": {
          "bdata": "QAaADA==",
          "dtype": "i2"
         },
         "xaxis": "x3",
         "y": {
          "bdata": "z7Ri8Wo64T9JICFQmGLiPw==",
          "dtype": "f8"
         },
         "yaxis": "y3"
        },
        {
         "alignmentgroup": "True",
         "hovertemplate": "name=Original_Fairly<br>activation=silu<br>num_neurons=%{x}<br>final_score=%{y}<extra></extra>",
         "legendgroup": "Original_Fairly",
         "marker": {
          "color": "#ab63fa",
          "pattern": {
           "shape": ""
          }
         },
         "name": "Original_Fairly",
         "offsetgroup": "Original_Fairly",
         "orientation": "v",
         "showlegend": false,
         "textposition": "auto",
         "texttemplate": "%{y}",
         "type": "bar",
         "x": {
          "bdata": "QAaADA==",
          "dtype": "i2"
         },
         "xaxis": "x2",
         "y": {
          "bdata": "12ShclzL4D9WBhnbCKbjPw==",
          "dtype": "f8"
         },
         "yaxis": "y2"
        },
        {
         "alignmentgroup": "True",
         "hovertemplate": "name=Original_Fairly<br>activation=mish<br>num_neurons=%{x}<br>final_score=%{y}<extra></extra>",
         "legendgroup": "Original_Fairly",
         "marker": {
          "color": "#ab63fa",
          "pattern": {
           "shape": ""
          }
         },
         "name": "Original_Fairly",
         "offsetgroup": "Original_Fairly",
         "orientation": "v",
         "showlegend": false,
         "textposition": "auto",
         "texttemplate": "%{y}",
         "type": "bar",
         "x": {
          "bdata": "QAaADA==",
          "dtype": "i2"
         },
         "xaxis": "x",
         "y": {
          "bdata": "vwxOVhkP4T/DH9icrd/jPw==",
          "dtype": "f8"
         },
         "yaxis": "y"
        },
        {
         "alignmentgroup": "True",
         "hovertemplate": "name=Original_HflipBrightness_Contrast<br>activation=sigmoid<br>num_neurons=%{x}<br>final_score=%{y}<extra></extra>",
         "legendgroup": "Original_HflipBrightness_Contrast",
         "marker": {
          "color": "#FFA15A",
          "pattern": {
           "shape": ""
          }
         },
         "name": "Original_HflipBrightness_Contrast",
         "offsetgroup": "Original_HflipBrightness_Contrast",
         "orientation": "v",
         "showlegend": true,
         "textposition": "auto",
         "texttemplate": "%{y}",
         "type": "bar",
         "x": {
          "bdata": "QAaADA==",
          "dtype": "i2"
         },
         "xaxis": "x6",
         "y": {
          "bdata": "Le1emJy+5j92FCn1K03qPw==",
          "dtype": "f8"
         },
         "yaxis": "y6"
        },
        {
         "alignmentgroup": "True",
         "hovertemplate": "name=Original_HflipBrightness_Contrast<br>activation=tanh<br>num_neurons=%{x}<br>final_score=%{y}<extra></extra>",
         "legendgroup": "Original_HflipBrightness_Contrast",
         "marker": {
          "color": "#FFA15A",
          "pattern": {
           "shape": ""
          }
         },
         "name": "Original_HflipBrightness_Contrast",
         "offsetgroup": "Original_HflipBrightness_Contrast",
         "orientation": "v",
         "showlegend": false,
         "textposition": "auto",
         "texttemplate": "%{y}",
         "type": "bar",
         "x": {
          "bdata": "QAaADA==",
          "dtype": "i2"
         },
         "xaxis": "x5",
         "y": {
          "bdata": "3WruCVUo5T+XWzxqoErpPw==",
          "dtype": "f8"
         },
         "yaxis": "y5"
        },
        {
         "alignmentgroup": "True",
         "hovertemplate": "name=Original_HflipBrightness_Contrast<br>activation=relu<br>num_neurons=%{x}<br>final_score=%{y}<extra></extra>",
         "legendgroup": "Original_HflipBrightness_Contrast",
         "marker": {
          "color": "#FFA15A",
          "pattern": {
           "shape": ""
          }
         },
         "name": "Original_HflipBrightness_Contrast",
         "offsetgroup": "Original_HflipBrightness_Contrast",
         "orientation": "v",
         "showlegend": false,
         "textposition": "auto",
         "texttemplate": "%{y}",
         "type": "bar",
         "x": {
          "bdata": "QAaADA==",
          "dtype": "i2"
         },
         "xaxis": "x4",
         "y": {
          "bdata": "pHHFy0FO6T9RSOxZTQbrPw==",
          "dtype": "f8"
         },
         "yaxis": "y4"
        },
        {
         "alignmentgroup": "True",
         "hovertemplate": "name=Original_HflipBrightness_Contrast<br>activation=leaky_relu<br>num_neurons=%{x}<br>final_score=%{y}<extra></extra>",
         "legendgroup": "Original_HflipBrightness_Contrast",
         "marker": {
          "color": "#FFA15A",
          "pattern": {
           "shape": ""
          }
         },
         "name": "Original_HflipBrightness_Contrast",
         "offsetgroup": "Original_HflipBrightness_Contrast",
         "orientation": "v",
         "showlegend": false,
         "textposition": "auto",
         "texttemplate": "%{y}",
         "type": "bar",
         "x": {
          "bdata": "QAaADA==",
          "dtype": "i2"
         },
         "xaxis": "x3",
         "y": {
          "bdata": "M2I8SPlI6T82X68WlEDqPw==",
          "dtype": "f8"
         },
         "yaxis": "y3"
        },
        {
         "alignmentgroup": "True",
         "hovertemplate": "name=Original_HflipBrightness_Contrast<br>activation=silu<br>num_neurons=%{x}<br>final_score=%{y}<extra></extra>",
         "legendgroup": "Original_HflipBrightness_Contrast",
         "marker": {
          "color": "#FFA15A",
          "pattern": {
           "shape": ""
          }
         },
         "name": "Original_HflipBrightness_Contrast",
         "offsetgroup": "Original_HflipBrightness_Contrast",
         "orientation": "v",
         "showlegend": false,
         "textposition": "auto",
         "texttemplate": "%{y}",
         "type": "bar",
         "x": {
          "bdata": "QAaADA==",
          "dtype": "i2"
         },
         "xaxis": "x2",
         "y": {
          "bdata": "elLb/1Ro6D9RQCPQKP/qPw==",
          "dtype": "f8"
         },
         "yaxis": "y2"
        },
        {
         "alignmentgroup": "True",
         "hovertemplate": "name=Original_HflipBrightness_Contrast<br>activation=mish<br>num_neurons=%{x}<br>final_score=%{y}<extra></extra>",
         "legendgroup": "Original_HflipBrightness_Contrast",
         "marker": {
          "color": "#FFA15A",
          "pattern": {
           "shape": ""
          }
         },
         "name": "Original_HflipBrightness_Contrast",
         "offsetgroup": "Original_HflipBrightness_Contrast",
         "orientation": "v",
         "showlegend": false,
         "textposition": "auto",
         "texttemplate": "%{y}",
         "type": "bar",
         "x": {
          "bdata": "QAaADA==",
          "dtype": "i2"
         },
         "xaxis": "x",
         "y": {
          "bdata": "28yTkaTD6D98GqYDqgvrPw==",
          "dtype": "f8"
         },
         "yaxis": "y"
        },
        {
         "alignmentgroup": "True",
         "hovertemplate": "name=Original_HflipRotateBlurShear<br>activation=sigmoid<br>num_neurons=%{x}<br>final_score=%{y}<extra></extra>",
         "legendgroup": "Original_HflipRotateBlurShear",
         "marker": {
          "color": "#19d3f3",
          "pattern": {
           "shape": ""
          }
         },
         "name": "Original_HflipRotateBlurShear",
         "offsetgroup": "Original_HflipRotateBlurShear",
         "orientation": "v",
         "showlegend": true,
         "textposition": "auto",
         "texttemplate": "%{y}",
         "type": "bar",
         "x": {
          "bdata": "QAY=",
          "dtype": "i2"
         },
         "xaxis": "x6",
         "y": {
          "bdata": "471vctN3xT8=",
          "dtype": "f8"
         },
         "yaxis": "y6"
        },
        {
         "alignmentgroup": "True",
         "hovertemplate": "name=Original_HflipRotateBlurShear<br>activation=tanh<br>num_neurons=%{x}<br>final_score=%{y}<extra></extra>",
         "legendgroup": "Original_HflipRotateBlurShear",
         "marker": {
          "color": "#19d3f3",
          "pattern": {
           "shape": ""
          }
         },
         "name": "Original_HflipRotateBlurShear",
         "offsetgroup": "Original_HflipRotateBlurShear",
         "orientation": "v",
         "showlegend": false,
         "textposition": "auto",
         "texttemplate": "%{y}",
         "type": "bar",
         "x": {
          "bdata": "QAY=",
          "dtype": "i2"
         },
         "xaxis": "x5",
         "y": {
          "bdata": "HbPr4FzLxD8=",
          "dtype": "f8"
         },
         "yaxis": "y5"
        },
        {
         "alignmentgroup": "True",
         "hovertemplate": "name=Original_HflipRotateBlurShear<br>activation=relu<br>num_neurons=%{x}<br>final_score=%{y}<extra></extra>",
         "legendgroup": "Original_HflipRotateBlurShear",
         "marker": {
          "color": "#19d3f3",
          "pattern": {
           "shape": ""
          }
         },
         "name": "Original_HflipRotateBlurShear",
         "offsetgroup": "Original_HflipRotateBlurShear",
         "orientation": "v",
         "showlegend": false,
         "textposition": "auto",
         "texttemplate": "%{y}",
         "type": "bar",
         "x": {
          "bdata": "QAY=",
          "dtype": "i2"
         },
         "xaxis": "x4",
         "y": {
          "bdata": "A5Ztvhxg2T8=",
          "dtype": "f8"
         },
         "yaxis": "y4"
        },
        {
         "alignmentgroup": "True",
         "hovertemplate": "name=Original_HflipRotateBlurShear<br>activation=leaky_relu<br>num_neurons=%{x}<br>final_score=%{y}<extra></extra>",
         "legendgroup": "Original_HflipRotateBlurShear",
         "marker": {
          "color": "#19d3f3",
          "pattern": {
           "shape": ""
          }
         },
         "name": "Original_HflipRotateBlurShear",
         "offsetgroup": "Original_HflipRotateBlurShear",
         "orientation": "v",
         "showlegend": false,
         "textposition": "auto",
         "texttemplate": "%{y}",
         "type": "bar",
         "x": {
          "bdata": "QAY=",
          "dtype": "i2"
         },
         "xaxis": "x3",
         "y": {
          "bdata": "d8qJcQhBxj8=",
          "dtype": "f8"
         },
         "yaxis": "y3"
        },
        {
         "alignmentgroup": "True",
         "hovertemplate": "name=Original_HflipRotateBlurShear<br>activation=silu<br>num_neurons=%{x}<br>final_score=%{y}<extra></extra>",
         "legendgroup": "Original_HflipRotateBlurShear",
         "marker": {
          "color": "#19d3f3",
          "pattern": {
           "shape": ""
          }
         },
         "name": "Original_HflipRotateBlurShear",
         "offsetgroup": "Original_HflipRotateBlurShear",
         "orientation": "v",
         "showlegend": false,
         "textposition": "auto",
         "texttemplate": "%{y}",
         "type": "bar",
         "x": {
          "bdata": "QAY=",
          "dtype": "i2"
         },
         "xaxis": "x2",
         "y": {
          "bdata": "hmN2HZxr2T8=",
          "dtype": "f8"
         },
         "yaxis": "y2"
        },
        {
         "alignmentgroup": "True",
         "hovertemplate": "name=Original_HflipRotateBlurShear<br>activation=mish<br>num_neurons=%{x}<br>final_score=%{y}<extra></extra>",
         "legendgroup": "Original_HflipRotateBlurShear",
         "marker": {
          "color": "#19d3f3",
          "pattern": {
           "shape": ""
          }
         },
         "name": "Original_HflipRotateBlurShear",
         "offsetgroup": "Original_HflipRotateBlurShear",
         "orientation": "v",
         "showlegend": false,
         "textposition": "auto",
         "texttemplate": "%{y}",
         "type": "bar",
         "x": {
          "bdata": "QAY=",
          "dtype": "i2"
         },
         "xaxis": "x",
         "y": {
          "bdata": "rDlPV3pn2D8=",
          "dtype": "f8"
         },
         "yaxis": "y"
        },
        {
         "alignmentgroup": "True",
         "hovertemplate": "name=Original_Rotate<br>activation=sigmoid<br>num_neurons=%{x}<br>final_score=%{y}<extra></extra>",
         "legendgroup": "Original_Rotate",
         "marker": {
          "color": "#FF6692",
          "pattern": {
           "shape": ""
          }
         },
         "name": "Original_Rotate",
         "offsetgroup": "Original_Rotate",
         "orientation": "v",
         "showlegend": true,
         "textposition": "auto",
         "texttemplate": "%{y}",
         "type": "bar",
         "x": {
          "bdata": "QAaADA==",
          "dtype": "i2"
         },
         "xaxis": "x6",
         "y": {
          "bdata": "7dJdJSBC1j9oOphkfnfbPw==",
          "dtype": "f8"
         },
         "yaxis": "y6"
        },
        {
         "alignmentgroup": "True",
         "hovertemplate": "name=Original_Rotate<br>activation=tanh<br>num_neurons=%{x}<br>final_score=%{y}<extra></extra>",
         "legendgroup": "Original_Rotate",
         "marker": {
          "color": "#FF6692",
          "pattern": {
           "shape": ""
          }
         },
         "name": "Original_Rotate",
         "offsetgroup": "Original_Rotate",
         "orientation": "v",
         "showlegend": false,
         "textposition": "auto",
         "texttemplate": "%{y}",
         "type": "bar",
         "x": {
          "bdata": "QAaADA==",
          "dtype": "i2"
         },
         "xaxis": "x5",
         "y": {
          "bdata": "Gsf9hXZd1D+IU+C9QjTaPw==",
          "dtype": "f8"
         },
         "yaxis": "y5"
        },
        {
         "alignmentgroup": "True",
         "hovertemplate": "name=Original_Rotate<br>activation=relu<br>num_neurons=%{x}<br>final_score=%{y}<extra></extra>",
         "legendgroup": "Original_Rotate",
         "marker": {
          "color": "#FF6692",
          "pattern": {
           "shape": ""
          }
         },
         "name": "Original_Rotate",
         "offsetgroup": "Original_Rotate",
         "orientation": "v",
         "showlegend": false,
         "textposition": "auto",
         "texttemplate": "%{y}",
         "type": "bar",
         "x": {
          "bdata": "QAaADA==",
          "dtype": "i2"
         },
         "xaxis": "x4",
         "y": {
          "bdata": "VzWgWsJ42T/p9hjVjlTePw==",
          "dtype": "f8"
         },
         "yaxis": "y4"
        },
        {
         "alignmentgroup": "True",
         "hovertemplate": "name=Original_Rotate<br>activation=leaky_relu<br>num_neurons=%{x}<br>final_score=%{y}<extra></extra>",
         "legendgroup": "Original_Rotate",
         "marker": {
          "color": "#FF6692",
          "pattern": {
           "shape": ""
          }
         },
         "name": "Original_Rotate",
         "offsetgroup": "Original_Rotate",
         "orientation": "v",
         "showlegend": false,
         "textposition": "auto",
         "texttemplate": "%{y}",
         "type": "bar",
         "x": {
          "bdata": "QAaADA==",
          "dtype": "i2"
         },
         "xaxis": "x3",
         "y": {
          "bdata": "JQDQ+9G22T/dtCm2QjHdPw==",
          "dtype": "f8"
         },
         "yaxis": "y3"
        },
        {
         "alignmentgroup": "True",
         "hovertemplate": "name=Original_Rotate<br>activation=silu<br>num_neurons=%{x}<br>final_score=%{y}<extra></extra>",
         "legendgroup": "Original_Rotate",
         "marker": {
          "color": "#FF6692",
          "pattern": {
           "shape": ""
          }
         },
         "name": "Original_Rotate",
         "offsetgroup": "Original_Rotate",
         "orientation": "v",
         "showlegend": false,
         "textposition": "auto",
         "texttemplate": "%{y}",
         "type": "bar",
         "x": {
          "bdata": "QAaADA==",
          "dtype": "i2"
         },
         "xaxis": "x2",
         "y": {
          "bdata": "1/mfjKKH2T+6uXvBYAXePw==",
          "dtype": "f8"
         },
         "yaxis": "y2"
        },
        {
         "alignmentgroup": "True",
         "hovertemplate": "name=Original_Rotate<br>activation=mish<br>num_neurons=%{x}<br>final_score=%{y}<extra></extra>",
         "legendgroup": "Original_Rotate",
         "marker": {
          "color": "#FF6692",
          "pattern": {
           "shape": ""
          }
         },
         "name": "Original_Rotate",
         "offsetgroup": "Original_Rotate",
         "orientation": "v",
         "showlegend": false,
         "textposition": "auto",
         "texttemplate": "%{y}",
         "type": "bar",
         "x": {
          "bdata": "QAaADA==",
          "dtype": "i2"
         },
         "xaxis": "x",
         "y": {
          "bdata": "1/jYFb7+2D9SHyn0vdzePw==",
          "dtype": "f8"
         },
         "yaxis": "y"
        },
        {
         "alignmentgroup": "True",
         "hovertemplate": "name=Original_Vflip<br>activation=sigmoid<br>num_neurons=%{x}<br>final_score=%{y}<extra></extra>",
         "legendgroup": "Original_Vflip",
         "marker": {
          "color": "#B6E880",
          "pattern": {
           "shape": ""
          }
         },
         "name": "Original_Vflip",
         "offsetgroup": "Original_Vflip",
         "orientation": "v",
         "showlegend": true,
         "textposition": "auto",
         "texttemplate": "%{y}",
         "type": "bar",
         "x": {
          "bdata": "QAaADA==",
          "dtype": "i2"
         },
         "xaxis": "x6",
         "y": {
          "bdata": "8S172QmW2T/qBndGOXvhPw==",
          "dtype": "f8"
         },
         "yaxis": "y6"
        },
        {
         "alignmentgroup": "True",
         "hovertemplate": "name=Original_Vflip<br>activation=tanh<br>num_neurons=%{x}<br>final_score=%{y}<extra></extra>",
         "legendgroup": "Original_Vflip",
         "marker": {
          "color": "#B6E880",
          "pattern": {
           "shape": ""
          }
         },
         "name": "Original_Vflip",
         "offsetgroup": "Original_Vflip",
         "orientation": "v",
         "showlegend": false,
         "textposition": "auto",
         "texttemplate": "%{y}",
         "type": "bar",
         "x": {
          "bdata": "QAaADA==",
          "dtype": "i2"
         },
         "xaxis": "x5",
         "y": {
          "bdata": "tGbdzkbj1z+C5Wg6SnHgPw==",
          "dtype": "f8"
         },
         "yaxis": "y5"
        },
        {
         "alignmentgroup": "True",
         "hovertemplate": "name=Original_Vflip<br>activation=relu<br>num_neurons=%{x}<br>final_score=%{y}<extra></extra>",
         "legendgroup": "Original_Vflip",
         "marker": {
          "color": "#B6E880",
          "pattern": {
           "shape": ""
          }
         },
         "name": "Original_Vflip",
         "offsetgroup": "Original_Vflip",
         "orientation": "v",
         "showlegend": false,
         "textposition": "auto",
         "texttemplate": "%{y}",
         "type": "bar",
         "x": {
          "bdata": "QAaADA==",
          "dtype": "i2"
         },
         "xaxis": "x4",
         "y": {
          "bdata": "V9M9swVC3j+xcKC1ilHjPw==",
          "dtype": "f8"
         },
         "yaxis": "y4"
        },
        {
         "alignmentgroup": "True",
         "hovertemplate": "name=Original_Vflip<br>activation=leaky_relu<br>num_neurons=%{x}<br>final_score=%{y}<extra></extra>",
         "legendgroup": "Original_Vflip",
         "marker": {
          "color": "#B6E880",
          "pattern": {
           "shape": ""
          }
         },
         "name": "Original_Vflip",
         "offsetgroup": "Original_Vflip",
         "orientation": "v",
         "showlegend": false,
         "textposition": "auto",
         "texttemplate": "%{y}",
         "type": "bar",
         "x": {
          "bdata": "QAaADA==",
          "dtype": "i2"
         },
         "xaxis": "x3",
         "y": {
          "bdata": "bFjCLvEs4D9GqkRcn+HhPw==",
          "dtype": "f8"
         },
         "yaxis": "y3"
        },
        {
         "alignmentgroup": "True",
         "hovertemplate": "name=Original_Vflip<br>activation=silu<br>num_neurons=%{x}<br>final_score=%{y}<extra></extra>",
         "legendgroup": "Original_Vflip",
         "marker": {
          "color": "#B6E880",
          "pattern": {
           "shape": ""
          }
         },
         "name": "Original_Vflip",
         "offsetgroup": "Original_Vflip",
         "orientation": "v",
         "showlegend": false,
         "textposition": "auto",
         "texttemplate": "%{y}",
         "type": "bar",
         "x": {
          "bdata": "QAaADA==",
          "dtype": "i2"
         },
         "xaxis": "x2",
         "y": {
          "bdata": "L612OINI3z94IW2MiTHjPw==",
          "dtype": "f8"
         },
         "yaxis": "y2"
        },
        {
         "alignmentgroup": "True",
         "hovertemplate": "name=Original_Vflip<br>activation=mish<br>num_neurons=%{x}<br>final_score=%{y}<extra></extra>",
         "legendgroup": "Original_Vflip",
         "marker": {
          "color": "#B6E880",
          "pattern": {
           "shape": ""
          }
         },
         "name": "Original_Vflip",
         "offsetgroup": "Original_Vflip",
         "orientation": "v",
         "showlegend": false,
         "textposition": "auto",
         "texttemplate": "%{y}",
         "type": "bar",
         "x": {
          "bdata": "QAaADA==",
          "dtype": "i2"
         },
         "xaxis": "x",
         "y": {
          "bdata": "hF/y3NXV3j8Pi+zRI1fjPw==",
          "dtype": "f8"
         },
         "yaxis": "y"
        },
        {
         "alignmentgroup": "True",
         "hovertemplate": "name=Original_HflipRotate<br>activation=sigmoid<br>num_neurons=%{x}<br>final_score=%{y}<extra></extra>",
         "legendgroup": "Original_HflipRotate",
         "marker": {
          "color": "#FF97FF",
          "pattern": {
           "shape": ""
          }
         },
         "name": "Original_HflipRotate",
         "offsetgroup": "Original_HflipRotate",
         "orientation": "v",
         "showlegend": true,
         "textposition": "auto",
         "texttemplate": "%{y}",
         "type": "bar",
         "x": {
          "bdata": "QAaADA==",
          "dtype": "i2"
         },
         "xaxis": "x6",
         "y": {
          "bdata": "kXDeYPBw2T96yWf8WOjkPw==",
          "dtype": "f8"
         },
         "yaxis": "y6"
        },
        {
         "alignmentgroup": "True",
         "hovertemplate": "name=Original_HflipRotate<br>activation=tanh<br>num_neurons=%{x}<br>final_score=%{y}<extra></extra>",
         "legendgroup": "Original_HflipRotate",
         "marker": {
          "color": "#FF97FF",
          "pattern": {
           "shape": ""
          }
         },
         "name": "Original_HflipRotate",
         "offsetgroup": "Original_HflipRotate",
         "orientation": "v",
         "showlegend": false,
         "textposition": "auto",
         "texttemplate": "%{y}",
         "type": "bar",
         "x": {
          "bdata": "QAaADA==",
          "dtype": "i2"
         },
         "xaxis": "x5",
         "y": {
          "bdata": "qApN8iLo1z+I6M9jEqDjPw==",
          "dtype": "f8"
         },
         "yaxis": "y5"
        },
        {
         "alignmentgroup": "True",
         "hovertemplate": "name=Original_HflipRotate<br>activation=relu<br>num_neurons=%{x}<br>final_score=%{y}<extra></extra>",
         "legendgroup": "Original_HflipRotate",
         "marker": {
          "color": "#FF97FF",
          "pattern": {
           "shape": ""
          }
         },
         "name": "Original_HflipRotate",
         "offsetgroup": "Original_HflipRotate",
         "orientation": "v",
         "showlegend": false,
         "textposition": "auto",
         "texttemplate": "%{y}",
         "type": "bar",
         "x": {
          "bdata": "QAaADA==",
          "dtype": "i2"
         },
         "xaxis": "x4",
         "y": {
          "bdata": "9NbsPV6b3z/sVE4KVt/mPw==",
          "dtype": "f8"
         },
         "yaxis": "y4"
        },
        {
         "alignmentgroup": "True",
         "hovertemplate": "name=Original_HflipRotate<br>activation=leaky_relu<br>num_neurons=%{x}<br>final_score=%{y}<extra></extra>",
         "legendgroup": "Original_HflipRotate",
         "marker": {
          "color": "#FF97FF",
          "pattern": {
           "shape": ""
          }
         },
         "name": "Original_HflipRotate",
         "offsetgroup": "Original_HflipRotate",
         "orientation": "v",
         "showlegend": false,
         "textposition": "auto",
         "texttemplate": "%{y}",
         "type": "bar",
         "x": {
          "bdata": "QAaADA==",
          "dtype": "i2"
         },
         "xaxis": "x3",
         "y": {
          "bdata": "sBOPbBcd4T8D2cf0MWLkPw==",
          "dtype": "f8"
         },
         "yaxis": "y3"
        },
        {
         "alignmentgroup": "True",
         "hovertemplate": "name=Original_HflipRotate<br>activation=silu<br>num_neurons=%{x}<br>final_score=%{y}<extra></extra>",
         "legendgroup": "Original_HflipRotate",
         "marker": {
          "color": "#FF97FF",
          "pattern": {
           "shape": ""
          }
         },
         "name": "Original_HflipRotate",
         "offsetgroup": "Original_HflipRotate",
         "orientation": "v",
         "showlegend": false,
         "textposition": "auto",
         "texttemplate": "%{y}",
         "type": "bar",
         "x": {
          "bdata": "QAaADA==",
          "dtype": "i2"
         },
         "xaxis": "x2",
         "y": {
          "bdata": "DAOJdPrb3j8awISRNrTmPw==",
          "dtype": "f8"
         },
         "yaxis": "y2"
        },
        {
         "alignmentgroup": "True",
         "hovertemplate": "name=Original_HflipRotate<br>activation=mish<br>num_neurons=%{x}<br>final_score=%{y}<extra></extra>",
         "legendgroup": "Original_HflipRotate",
         "marker": {
          "color": "#FF97FF",
          "pattern": {
           "shape": ""
          }
         },
         "name": "Original_HflipRotate",
         "offsetgroup": "Original_HflipRotate",
         "orientation": "v",
         "showlegend": false,
         "textposition": "auto",
         "texttemplate": "%{y}",
         "type": "bar",
         "x": {
          "bdata": "QAaADA==",
          "dtype": "i2"
         },
         "xaxis": "x",
         "y": {
          "bdata": "cm9vbQYM3z+WS2yKMhvnPw==",
          "dtype": "f8"
         },
         "yaxis": "y"
        },
        {
         "alignmentgroup": "True",
         "hovertemplate": "name=Original_Hflip<br>activation=sigmoid<br>num_neurons=%{x}<br>final_score=%{y}<extra></extra>",
         "legendgroup": "Original_Hflip",
         "marker": {
          "color": "#FECB52",
          "pattern": {
           "shape": ""
          }
         },
         "name": "Original_Hflip",
         "offsetgroup": "Original_Hflip",
         "orientation": "v",
         "showlegend": true,
         "textposition": "auto",
         "texttemplate": "%{y}",
         "type": "bar",
         "x": {
          "bdata": "QAaADA==",
          "dtype": "i2"
         },
         "xaxis": "x6",
         "y": {
          "bdata": "D0f31Gw65T8oUKpdP/7pPw==",
          "dtype": "f8"
         },
         "yaxis": "y6"
        },
        {
         "alignmentgroup": "True",
         "hovertemplate": "name=Original_Hflip<br>activation=tanh<br>num_neurons=%{x}<br>final_score=%{y}<extra></extra>",
         "legendgroup": "Original_Hflip",
         "marker": {
          "color": "#FECB52",
          "pattern": {
           "shape": ""
          }
         },
         "name": "Original_Hflip",
         "offsetgroup": "Original_Hflip",
         "orientation": "v",
         "showlegend": false,
         "textposition": "auto",
         "texttemplate": "%{y}",
         "type": "bar",
         "x": {
          "bdata": "QAaADA==",
          "dtype": "i2"
         },
         "xaxis": "x5",
         "y": {
          "bdata": "ZlNWX6zM4j/hCAaicijpPw==",
          "dtype": "f8"
         },
         "yaxis": "y5"
        },
        {
         "alignmentgroup": "True",
         "hovertemplate": "name=Original_Hflip<br>activation=relu<br>num_neurons=%{x}<br>final_score=%{y}<extra></extra>",
         "legendgroup": "Original_Hflip",
         "marker": {
          "color": "#FECB52",
          "pattern": {
           "shape": ""
          }
         },
         "name": "Original_Hflip",
         "offsetgroup": "Original_Hflip",
         "orientation": "v",
         "showlegend": false,
         "textposition": "auto",
         "texttemplate": "%{y}",
         "type": "bar",
         "x": {
          "bdata": "QAaADA==",
          "dtype": "i2"
         },
         "xaxis": "x4",
         "y": {
          "bdata": "oGvC/J3G5z8Sg+BnbOvqPw==",
          "dtype": "f8"
         },
         "yaxis": "y4"
        },
        {
         "alignmentgroup": "True",
         "hovertemplate": "name=Original_Hflip<br>activation=leaky_relu<br>num_neurons=%{x}<br>final_score=%{y}<extra></extra>",
         "legendgroup": "Original_Hflip",
         "marker": {
          "color": "#FECB52",
          "pattern": {
           "shape": ""
          }
         },
         "name": "Original_Hflip",
         "offsetgroup": "Original_Hflip",
         "orientation": "v",
         "showlegend": false,
         "textposition": "auto",
         "texttemplate": "%{y}",
         "type": "bar",
         "x": {
          "bdata": "QAaADA==",
          "dtype": "i2"
         },
         "xaxis": "x3",
         "y": {
          "bdata": "u68vXU7j5z9gCpyMZ/3oPw==",
          "dtype": "f8"
         },
         "yaxis": "y3"
        },
        {
         "alignmentgroup": "True",
         "hovertemplate": "name=Original_Hflip<br>activation=silu<br>num_neurons=%{x}<br>final_score=%{y}<extra></extra>",
         "legendgroup": "Original_Hflip",
         "marker": {
          "color": "#FECB52",
          "pattern": {
           "shape": ""
          }
         },
         "name": "Original_Hflip",
         "offsetgroup": "Original_Hflip",
         "orientation": "v",
         "showlegend": false,
         "textposition": "auto",
         "texttemplate": "%{y}",
         "type": "bar",
         "x": {
          "bdata": "QAaADA==",
          "dtype": "i2"
         },
         "xaxis": "x2",
         "y": {
          "bdata": "NFrMxB2U5z/sfV2RqenqPw==",
          "dtype": "f8"
         },
         "yaxis": "y2"
        },
        {
         "alignmentgroup": "True",
         "hovertemplate": "name=Original_Hflip<br>activation=mish<br>num_neurons=%{x}<br>final_score=%{y}<extra></extra>",
         "legendgroup": "Original_Hflip",
         "marker": {
          "color": "#FECB52",
          "pattern": {
           "shape": ""
          }
         },
         "name": "Original_Hflip",
         "offsetgroup": "Original_Hflip",
         "orientation": "v",
         "showlegend": false,
         "textposition": "auto",
         "texttemplate": "%{y}",
         "type": "bar",
         "x": {
          "bdata": "QAaADA==",
          "dtype": "i2"
         },
         "xaxis": "x",
         "y": {
          "bdata": "KhuwdHLI5z88CPCvXtnqPw==",
          "dtype": "f8"
         },
         "yaxis": "y"
        }
       ],
       "layout": {
        "annotations": [
         {
          "font": {},
          "showarrow": false,
          "text": "activation=mish",
          "textangle": 90,
          "x": 0.98,
          "xanchor": "left",
          "xref": "paper",
          "y": 0.07083333333333333,
          "yanchor": "middle",
          "yref": "paper"
         },
         {
          "font": {},
          "showarrow": false,
          "text": "activation=silu",
          "textangle": 90,
          "x": 0.98,
          "xanchor": "left",
          "xref": "paper",
          "y": 0.2425,
          "yanchor": "middle",
          "yref": "paper"
         },
         {
          "font": {},
          "showarrow": false,
          "text": "activation=leaky_relu",
          "textangle": 90,
          "x": 0.98,
          "xanchor": "left",
          "xref": "paper",
          "y": 0.4141666666666667,
          "yanchor": "middle",
          "yref": "paper"
         },
         {
          "font": {},
          "showarrow": false,
          "text": "activation=relu",
          "textangle": 90,
          "x": 0.98,
          "xanchor": "left",
          "xref": "paper",
          "y": 0.5858333333333334,
          "yanchor": "middle",
          "yref": "paper"
         },
         {
          "font": {},
          "showarrow": false,
          "text": "activation=tanh",
          "textangle": 90,
          "x": 0.98,
          "xanchor": "left",
          "xref": "paper",
          "y": 0.7575000000000001,
          "yanchor": "middle",
          "yref": "paper"
         },
         {
          "font": {},
          "showarrow": false,
          "text": "activation=sigmoid",
          "textangle": 90,
          "x": 0.98,
          "xanchor": "left",
          "xref": "paper",
          "y": 0.9291666666666667,
          "yanchor": "middle",
          "yref": "paper"
         }
        ],
        "barmode": "group",
        "height": 2000,
        "legend": {
         "title": {
          "text": "name"
         },
         "tracegroupgap": 0
        },
        "template": {
         "data": {
          "bar": [
           {
            "error_x": {
             "color": "#2a3f5f"
            },
            "error_y": {
             "color": "#2a3f5f"
            },
            "marker": {
             "line": {
              "color": "#E5ECF6",
              "width": 0.5
             },
             "pattern": {
              "fillmode": "overlay",
              "size": 10,
              "solidity": 0.2
             }
            },
            "type": "bar"
           }
          ],
          "barpolar": [
           {
            "marker": {
             "line": {
              "color": "#E5ECF6",
              "width": 0.5
             },
             "pattern": {
              "fillmode": "overlay",
              "size": 10,
              "solidity": 0.2
             }
            },
            "type": "barpolar"
           }
          ],
          "carpet": [
           {
            "aaxis": {
             "endlinecolor": "#2a3f5f",
             "gridcolor": "white",
             "linecolor": "white",
             "minorgridcolor": "white",
             "startlinecolor": "#2a3f5f"
            },
            "baxis": {
             "endlinecolor": "#2a3f5f",
             "gridcolor": "white",
             "linecolor": "white",
             "minorgridcolor": "white",
             "startlinecolor": "#2a3f5f"
            },
            "type": "carpet"
           }
          ],
          "choropleth": [
           {
            "colorbar": {
             "outlinewidth": 0,
             "ticks": ""
            },
            "type": "choropleth"
           }
          ],
          "contour": [
           {
            "colorbar": {
             "outlinewidth": 0,
             "ticks": ""
            },
            "colorscale": [
             [
              0,
              "#0d0887"
             ],
             [
              0.1111111111111111,
              "#46039f"
             ],
             [
              0.2222222222222222,
              "#7201a8"
             ],
             [
              0.3333333333333333,
              "#9c179e"
             ],
             [
              0.4444444444444444,
              "#bd3786"
             ],
             [
              0.5555555555555556,
              "#d8576b"
             ],
             [
              0.6666666666666666,
              "#ed7953"
             ],
             [
              0.7777777777777778,
              "#fb9f3a"
             ],
             [
              0.8888888888888888,
              "#fdca26"
             ],
             [
              1,
              "#f0f921"
             ]
            ],
            "type": "contour"
           }
          ],
          "contourcarpet": [
           {
            "colorbar": {
             "outlinewidth": 0,
             "ticks": ""
            },
            "type": "contourcarpet"
           }
          ],
          "heatmap": [
           {
            "colorbar": {
             "outlinewidth": 0,
             "ticks": ""
            },
            "colorscale": [
             [
              0,
              "#0d0887"
             ],
             [
              0.1111111111111111,
              "#46039f"
             ],
             [
              0.2222222222222222,
              "#7201a8"
             ],
             [
              0.3333333333333333,
              "#9c179e"
             ],
             [
              0.4444444444444444,
              "#bd3786"
             ],
             [
              0.5555555555555556,
              "#d8576b"
             ],
             [
              0.6666666666666666,
              "#ed7953"
             ],
             [
              0.7777777777777778,
              "#fb9f3a"
             ],
             [
              0.8888888888888888,
              "#fdca26"
             ],
             [
              1,
              "#f0f921"
             ]
            ],
            "type": "heatmap"
           }
          ],
          "histogram": [
           {
            "marker": {
             "pattern": {
              "fillmode": "overlay",
              "size": 10,
              "solidity": 0.2
             }
            },
            "type": "histogram"
           }
          ],
          "histogram2d": [
           {
            "colorbar": {
             "outlinewidth": 0,
             "ticks": ""
            },
            "colorscale": [
             [
              0,
              "#0d0887"
             ],
             [
              0.1111111111111111,
              "#46039f"
             ],
             [
              0.2222222222222222,
              "#7201a8"
             ],
             [
              0.3333333333333333,
              "#9c179e"
             ],
             [
              0.4444444444444444,
              "#bd3786"
             ],
             [
              0.5555555555555556,
              "#d8576b"
             ],
             [
              0.6666666666666666,
              "#ed7953"
             ],
             [
              0.7777777777777778,
              "#fb9f3a"
             ],
             [
              0.8888888888888888,
              "#fdca26"
             ],
             [
              1,
              "#f0f921"
             ]
            ],
            "type": "histogram2d"
           }
          ],
          "histogram2dcontour": [
           {
            "colorbar": {
             "outlinewidth": 0,
             "ticks": ""
            },
            "colorscale": [
             [
              0,
              "#0d0887"
             ],
             [
              0.1111111111111111,
              "#46039f"
             ],
             [
              0.2222222222222222,
              "#7201a8"
             ],
             [
              0.3333333333333333,
              "#9c179e"
             ],
             [
              0.4444444444444444,
              "#bd3786"
             ],
             [
              0.5555555555555556,
              "#d8576b"
             ],
             [
              0.6666666666666666,
              "#ed7953"
             ],
             [
              0.7777777777777778,
              "#fb9f3a"
             ],
             [
              0.8888888888888888,
              "#fdca26"
             ],
             [
              1,
              "#f0f921"
             ]
            ],
            "type": "histogram2dcontour"
           }
          ],
          "mesh3d": [
           {
            "colorbar": {
             "outlinewidth": 0,
             "ticks": ""
            },
            "type": "mesh3d"
           }
          ],
          "parcoords": [
           {
            "line": {
             "colorbar": {
              "outlinewidth": 0,
              "ticks": ""
             }
            },
            "type": "parcoords"
           }
          ],
          "pie": [
           {
            "automargin": true,
            "type": "pie"
           }
          ],
          "scatter": [
           {
            "fillpattern": {
             "fillmode": "overlay",
             "size": 10,
             "solidity": 0.2
            },
            "type": "scatter"
           }
          ],
          "scatter3d": [
           {
            "line": {
             "colorbar": {
              "outlinewidth": 0,
              "ticks": ""
             }
            },
            "marker": {
             "colorbar": {
              "outlinewidth": 0,
              "ticks": ""
             }
            },
            "type": "scatter3d"
           }
          ],
          "scattercarpet": [
           {
            "marker": {
             "colorbar": {
              "outlinewidth": 0,
              "ticks": ""
             }
            },
            "type": "scattercarpet"
           }
          ],
          "scattergeo": [
           {
            "marker": {
             "colorbar": {
              "outlinewidth": 0,
              "ticks": ""
             }
            },
            "type": "scattergeo"
           }
          ],
          "scattergl": [
           {
            "marker": {
             "colorbar": {
              "outlinewidth": 0,
              "ticks": ""
             }
            },
            "type": "scattergl"
           }
          ],
          "scattermap": [
           {
            "marker": {
             "colorbar": {
              "outlinewidth": 0,
              "ticks": ""
             }
            },
            "type": "scattermap"
           }
          ],
          "scattermapbox": [
           {
            "marker": {
             "colorbar": {
              "outlinewidth": 0,
              "ticks": ""
             }
            },
            "type": "scattermapbox"
           }
          ],
          "scatterpolar": [
           {
            "marker": {
             "colorbar": {
              "outlinewidth": 0,
              "ticks": ""
             }
            },
            "type": "scatterpolar"
           }
          ],
          "scatterpolargl": [
           {
            "marker": {
             "colorbar": {
              "outlinewidth": 0,
              "ticks": ""
             }
            },
            "type": "scatterpolargl"
           }
          ],
          "scatterternary": [
           {
            "marker": {
             "colorbar": {
              "outlinewidth": 0,
              "ticks": ""
             }
            },
            "type": "scatterternary"
           }
          ],
          "surface": [
           {
            "colorbar": {
             "outlinewidth": 0,
             "ticks": ""
            },
            "colorscale": [
             [
              0,
              "#0d0887"
             ],
             [
              0.1111111111111111,
              "#46039f"
             ],
             [
              0.2222222222222222,
              "#7201a8"
             ],
             [
              0.3333333333333333,
              "#9c179e"
             ],
             [
              0.4444444444444444,
              "#bd3786"
             ],
             [
              0.5555555555555556,
              "#d8576b"
             ],
             [
              0.6666666666666666,
              "#ed7953"
             ],
             [
              0.7777777777777778,
              "#fb9f3a"
             ],
             [
              0.8888888888888888,
              "#fdca26"
             ],
             [
              1,
              "#f0f921"
             ]
            ],
            "type": "surface"
           }
          ],
          "table": [
           {
            "cells": {
             "fill": {
              "color": "#EBF0F8"
             },
             "line": {
              "color": "white"
             }
            },
            "header": {
             "fill": {
              "color": "#C8D4E3"
             },
             "line": {
              "color": "white"
             }
            },
            "type": "table"
           }
          ]
         },
         "layout": {
          "annotationdefaults": {
           "arrowcolor": "#2a3f5f",
           "arrowhead": 0,
           "arrowwidth": 1
          },
          "autotypenumbers": "strict",
          "coloraxis": {
           "colorbar": {
            "outlinewidth": 0,
            "ticks": ""
           }
          },
          "colorscale": {
           "diverging": [
            [
             0,
             "#8e0152"
            ],
            [
             0.1,
             "#c51b7d"
            ],
            [
             0.2,
             "#de77ae"
            ],
            [
             0.3,
             "#f1b6da"
            ],
            [
             0.4,
             "#fde0ef"
            ],
            [
             0.5,
             "#f7f7f7"
            ],
            [
             0.6,
             "#e6f5d0"
            ],
            [
             0.7,
             "#b8e186"
            ],
            [
             0.8,
             "#7fbc41"
            ],
            [
             0.9,
             "#4d9221"
            ],
            [
             1,
             "#276419"
            ]
           ],
           "sequential": [
            [
             0,
             "#0d0887"
            ],
            [
             0.1111111111111111,
             "#46039f"
            ],
            [
             0.2222222222222222,
             "#7201a8"
            ],
            [
             0.3333333333333333,
             "#9c179e"
            ],
            [
             0.4444444444444444,
             "#bd3786"
            ],
            [
             0.5555555555555556,
             "#d8576b"
            ],
            [
             0.6666666666666666,
             "#ed7953"
            ],
            [
             0.7777777777777778,
             "#fb9f3a"
            ],
            [
             0.8888888888888888,
             "#fdca26"
            ],
            [
             1,
             "#f0f921"
            ]
           ],
           "sequentialminus": [
            [
             0,
             "#0d0887"
            ],
            [
             0.1111111111111111,
             "#46039f"
            ],
            [
             0.2222222222222222,
             "#7201a8"
            ],
            [
             0.3333333333333333,
             "#9c179e"
            ],
            [
             0.4444444444444444,
             "#bd3786"
            ],
            [
             0.5555555555555556,
             "#d8576b"
            ],
            [
             0.6666666666666666,
             "#ed7953"
            ],
            [
             0.7777777777777778,
             "#fb9f3a"
            ],
            [
             0.8888888888888888,
             "#fdca26"
            ],
            [
             1,
             "#f0f921"
            ]
           ]
          },
          "colorway": [
           "#636efa",
           "#EF553B",
           "#00cc96",
           "#ab63fa",
           "#FFA15A",
           "#19d3f3",
           "#FF6692",
           "#B6E880",
           "#FF97FF",
           "#FECB52"
          ],
          "font": {
           "color": "#2a3f5f"
          },
          "geo": {
           "bgcolor": "white",
           "lakecolor": "white",
           "landcolor": "#E5ECF6",
           "showlakes": true,
           "showland": true,
           "subunitcolor": "white"
          },
          "hoverlabel": {
           "align": "left"
          },
          "hovermode": "closest",
          "mapbox": {
           "style": "light"
          },
          "paper_bgcolor": "white",
          "plot_bgcolor": "#E5ECF6",
          "polar": {
           "angularaxis": {
            "gridcolor": "white",
            "linecolor": "white",
            "ticks": ""
           },
           "bgcolor": "#E5ECF6",
           "radialaxis": {
            "gridcolor": "white",
            "linecolor": "white",
            "ticks": ""
           }
          },
          "scene": {
           "xaxis": {
            "backgroundcolor": "#E5ECF6",
            "gridcolor": "white",
            "gridwidth": 2,
            "linecolor": "white",
            "showbackground": true,
            "ticks": "",
            "zerolinecolor": "white"
           },
           "yaxis": {
            "backgroundcolor": "#E5ECF6",
            "gridcolor": "white",
            "gridwidth": 2,
            "linecolor": "white",
            "showbackground": true,
            "ticks": "",
            "zerolinecolor": "white"
           },
           "zaxis": {
            "backgroundcolor": "#E5ECF6",
            "gridcolor": "white",
            "gridwidth": 2,
            "linecolor": "white",
            "showbackground": true,
            "ticks": "",
            "zerolinecolor": "white"
           }
          },
          "shapedefaults": {
           "line": {
            "color": "#2a3f5f"
           }
          },
          "ternary": {
           "aaxis": {
            "gridcolor": "white",
            "linecolor": "white",
            "ticks": ""
           },
           "baxis": {
            "gridcolor": "white",
            "linecolor": "white",
            "ticks": ""
           },
           "bgcolor": "#E5ECF6",
           "caxis": {
            "gridcolor": "white",
            "linecolor": "white",
            "ticks": ""
           }
          },
          "title": {
           "x": 0.05
          },
          "xaxis": {
           "automargin": true,
           "gridcolor": "white",
           "linecolor": "white",
           "ticks": "",
           "title": {
            "standoff": 15
           },
           "zerolinecolor": "white",
           "zerolinewidth": 2
          },
          "yaxis": {
           "automargin": true,
           "gridcolor": "white",
           "linecolor": "white",
           "ticks": "",
           "title": {
            "standoff": 15
           },
           "zerolinecolor": "white",
           "zerolinewidth": 2
          }
         }
        },
        "title": {
         "text": "Original"
        },
        "width": 1000,
        "xaxis": {
         "anchor": "y",
         "domain": [
          0,
          0.98
         ],
         "title": {
          "text": "num_neurons"
         },
         "type": "category"
        },
        "xaxis2": {
         "anchor": "y2",
         "domain": [
          0,
          0.98
         ],
         "matches": "x",
         "showticklabels": false,
         "type": "category"
        },
        "xaxis3": {
         "anchor": "y3",
         "domain": [
          0,
          0.98
         ],
         "matches": "x",
         "showticklabels": false,
         "type": "category"
        },
        "xaxis4": {
         "anchor": "y4",
         "domain": [
          0,
          0.98
         ],
         "matches": "x",
         "showticklabels": false,
         "type": "category"
        },
        "xaxis5": {
         "anchor": "y5",
         "domain": [
          0,
          0.98
         ],
         "matches": "x",
         "showticklabels": false,
         "type": "category"
        },
        "xaxis6": {
         "anchor": "y6",
         "domain": [
          0,
          0.98
         ],
         "matches": "x",
         "showticklabels": false,
         "type": "category"
        },
        "yaxis": {
         "anchor": "x",
         "domain": [
          0,
          0.14166666666666666
         ],
         "range": [
          0,
          1
         ],
         "title": {
          "text": "final_score"
         }
        },
        "yaxis2": {
         "anchor": "x2",
         "domain": [
          0.17166666666666666,
          0.31333333333333335
         ],
         "matches": "y",
         "range": [
          0,
          1
         ],
         "title": {
          "text": "final_score"
         }
        },
        "yaxis3": {
         "anchor": "x3",
         "domain": [
          0.3433333333333333,
          0.485
         ],
         "matches": "y",
         "range": [
          0,
          1
         ],
         "title": {
          "text": "final_score"
         }
        },
        "yaxis4": {
         "anchor": "x4",
         "domain": [
          0.515,
          0.6566666666666667
         ],
         "matches": "y",
         "range": [
          0,
          1
         ],
         "title": {
          "text": "final_score"
         }
        },
        "yaxis5": {
         "anchor": "x5",
         "domain": [
          0.6866666666666666,
          0.8283333333333334
         ],
         "matches": "y",
         "range": [
          0,
          1
         ],
         "title": {
          "text": "final_score"
         }
        },
        "yaxis6": {
         "anchor": "x6",
         "domain": [
          0.8583333333333333,
          1
         ],
         "matches": "y",
         "range": [
          0,
          1
         ],
         "title": {
          "text": "final_score"
         }
        }
       }
      }
     },
     "metadata": {},
     "output_type": "display_data"
    }
   ],
   "source": [
    "fig = px.bar(\n",
    "    df[(df.num_neurons > 800) & (df.batch_size == 2048)], \n",
    "    # df[(df.activation == \"mish\") & (df.num_neurons > 800) & (df.batch_size == 3200)], \n",
    "    x=\"num_neurons\", \n",
    "    y=\"final_score\", \n",
    "    color=\"name\",\n",
    "    facet_row=\"activation\",\n",
    "    barmode=\"group\", \n",
    "    text_auto=True, \n",
    "    range_y=(0, 1),\n",
    "    title=title.replace(\"_\", \" \"),\n",
    "    height=2000,\n",
    "    width=1000,\n",
    ")\n",
    "fig.update_xaxes(type=\"category\")\n",
    "fig.show()"
   ]
  }
 ],
 "metadata": {
  "kernelspec": {
   "display_name": ".venv",
   "language": "python",
   "name": "python3"
  },
  "language_info": {
   "codemirror_mode": {
    "name": "ipython",
    "version": 3
   },
   "file_extension": ".py",
   "mimetype": "text/x-python",
   "name": "python",
   "nbconvert_exporter": "python",
   "pygments_lexer": "ipython3",
   "version": "3.12.3"
  }
 },
 "nbformat": 4,
 "nbformat_minor": 5
}
