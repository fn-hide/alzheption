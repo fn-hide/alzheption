{
 "cells": [
  {
   "cell_type": "code",
   "execution_count": 1,
   "id": "3a8acb59",
   "metadata": {},
   "outputs": [],
   "source": [
    "import os\n",
    "import pandas as pd\n",
    "import plotly.express as px\n",
    "import matplotlib.pyplot as plt"
   ]
  },
  {
   "cell_type": "code",
   "execution_count": 2,
   "id": "1d98b4ba",
   "metadata": {},
   "outputs": [],
   "source": [
    "list_name = [path[11:].split(\".\")[0] for path in os.listdir(\"result\") if path.startswith(\"TrainOSELM_Original\")]"
   ]
  },
  {
   "cell_type": "code",
   "execution_count": 8,
   "id": "3a3bb388",
   "metadata": {},
   "outputs": [],
   "source": [
    "dict_df = {\n",
    "    name: pd.read_parquet(f'result/TrainOSELM_{name}.parquet').drop(columns=[\"scores\"])\n",
    "    for name in list_name\n",
    "}"
   ]
  },
  {
   "cell_type": "code",
   "execution_count": 11,
   "id": "e5bcd206",
   "metadata": {},
   "outputs": [
    {
     "data": {
      "text/plain": [
       "dict_keys(['Original', 'Original_Brightness_Contrast', 'Original_HflipRotateBlur', 'Original_Fairly', 'Original_HflipRotateBlurShear', 'Original_Rotate', 'Original_HflipRotate', 'Original_Hflip'])"
      ]
     },
     "execution_count": 11,
     "metadata": {},
     "output_type": "execute_result"
    }
   ],
   "source": [
    "dict_df.keys()"
   ]
  },
  {
   "cell_type": "code",
   "execution_count": 12,
   "id": "e41d6333",
   "metadata": {},
   "outputs": [
    {
     "data": {
      "application/vnd.plotly.v1+json": {
       "config": {
        "plotlyServerURL": "https://plot.ly"
       },
       "data": [
        {
         "alignmentgroup": "True",
         "hovertemplate": "activation=sigmoid<br>batch_size=32<br>num_neurons=%{x}<br>final_score=%{y}<extra></extra>",
         "legendgroup": "sigmoid",
         "marker": {
          "color": "#636efa",
          "pattern": {
           "shape": ""
          }
         },
         "name": "sigmoid",
         "offsetgroup": "sigmoid",
         "orientation": "v",
         "showlegend": true,
         "textposition": "auto",
         "texttemplate": "%{y}",
         "type": "bar",
         "x": {
          "bdata": "MgBkAMgAkAEgA0AGgAw=",
          "dtype": "i2"
         },
         "xaxis": "x7",
         "y": {
          "bdata": "wzPjvOrp1D/keusehPDYP8wJZ7D6GN0/ycx38ZwA3z/YYSN/6z/dP2OLzjvqjeg/fQ8r5HWR6j8=",
          "dtype": "f8"
         },
         "yaxis": "y7"
        },
        {
         "alignmentgroup": "True",
         "hovertemplate": "activation=sigmoid<br>batch_size=64<br>num_neurons=%{x}<br>final_score=%{y}<extra></extra>",
         "legendgroup": "sigmoid",
         "marker": {
          "color": "#636efa",
          "pattern": {
           "shape": ""
          }
         },
         "name": "sigmoid",
         "offsetgroup": "sigmoid",
         "orientation": "v",
         "showlegend": false,
         "textposition": "auto",
         "texttemplate": "%{y}",
         "type": "bar",
         "x": {
          "bdata": "MgBkAMgAkAEgA0AGgAw=",
          "dtype": "i2"
         },
         "xaxis": "x6",
         "y": {
          "bdata": "99JRpNSv1D8c8CQFKtDZP4C7RqITjt0/Az3vvl0Y3j/pFhiYdgbdP1G4oBr4lOg/UrmM9YaI6j8=",
          "dtype": "f8"
         },
         "yaxis": "y6"
        },
        {
         "alignmentgroup": "True",
         "hovertemplate": "activation=sigmoid<br>batch_size=128<br>num_neurons=%{x}<br>final_score=%{y}<extra></extra>",
         "legendgroup": "sigmoid",
         "marker": {
          "color": "#636efa",
          "pattern": {
           "shape": ""
          }
         },
         "name": "sigmoid",
         "offsetgroup": "sigmoid",
         "orientation": "v",
         "showlegend": false,
         "textposition": "auto",
         "texttemplate": "%{y}",
         "type": "bar",
         "x": {
          "bdata": "MgBkAMgAkAEgA0AGgAw=",
          "dtype": "i2"
         },
         "xaxis": "x5",
         "y": {
          "bdata": "8xjZuW1k1D/RM2vMSALZP3JqkBF8a90/ich30GNv2j/ArnrhBsLcP6WCd1y4N+g/W8jyClcp6j8=",
          "dtype": "f8"
         },
         "yaxis": "y5"
        },
        {
         "alignmentgroup": "True",
         "hovertemplate": "activation=sigmoid<br>batch_size=256<br>num_neurons=%{x}<br>final_score=%{y}<extra></extra>",
         "legendgroup": "sigmoid",
         "marker": {
          "color": "#636efa",
          "pattern": {
           "shape": ""
          }
         },
         "name": "sigmoid",
         "offsetgroup": "sigmoid",
         "orientation": "v",
         "showlegend": false,
         "textposition": "auto",
         "texttemplate": "%{y}",
         "type": "bar",
         "x": {
          "bdata": "MgBkAMgAkAEgA0AGgAw=",
          "dtype": "i2"
         },
         "xaxis": "x4",
         "y": {
          "bdata": "OT/GeWJ80T8Sg+t6R+LVP7+mZ4+N5dk/aXqSvzRV2D924/ULwW7cP6VWNgO4gug/etxI1LC86j8=",
          "dtype": "f8"
         },
         "yaxis": "y4"
        },
        {
         "alignmentgroup": "True",
         "hovertemplate": "activation=sigmoid<br>batch_size=512<br>num_neurons=%{x}<br>final_score=%{y}<extra></extra>",
         "legendgroup": "sigmoid",
         "marker": {
          "color": "#636efa",
          "pattern": {
           "shape": ""
          }
         },
         "name": "sigmoid",
         "offsetgroup": "sigmoid",
         "orientation": "v",
         "showlegend": false,
         "textposition": "auto",
         "texttemplate": "%{y}",
         "type": "bar",
         "x": {
          "bdata": "MgBkAMgAkAEgA0AGgAw=",
          "dtype": "i2"
         },
         "xaxis": "x3",
         "y": {
          "bdata": "agUgEb6EyT9lnWGUFHTOP+pCFhHkVtQ/8tMgcetE1j8cJokzebbdPzLHIA5Akeg/FsZUi3rO6j8=",
          "dtype": "f8"
         },
         "yaxis": "y3"
        },
        {
         "alignmentgroup": "True",
         "hovertemplate": "activation=sigmoid<br>batch_size=1024<br>num_neurons=%{x}<br>final_score=%{y}<extra></extra>",
         "legendgroup": "sigmoid",
         "marker": {
          "color": "#636efa",
          "pattern": {
           "shape": ""
          }
         },
         "name": "sigmoid",
         "offsetgroup": "sigmoid",
         "orientation": "v",
         "showlegend": false,
         "textposition": "auto",
         "texttemplate": "%{y}",
         "type": "bar",
         "x": {
          "bdata": "MgBkAMgAkAEgA0AGgAw=",
          "dtype": "i2"
         },
         "xaxis": "x2",
         "y": {
          "bdata": "DPlVhZg4yD96v/um2H3MP3JFn74pkNA/ukkGti9V2D+DHRyh6IrdP8Z0PEpIgeg/A8s5udGx6j8=",
          "dtype": "f8"
         },
         "yaxis": "y2"
        },
        {
         "alignmentgroup": "True",
         "hovertemplate": "activation=sigmoid<br>batch_size=2048<br>num_neurons=%{x}<br>final_score=%{y}<extra></extra>",
         "legendgroup": "sigmoid",
         "marker": {
          "color": "#636efa",
          "pattern": {
           "shape": ""
          }
         },
         "name": "sigmoid",
         "offsetgroup": "sigmoid",
         "orientation": "v",
         "showlegend": false,
         "textposition": "auto",
         "texttemplate": "%{y}",
         "type": "bar",
         "x": {
          "bdata": "MgBkAMgAkAEgA0AGgAw=",
          "dtype": "i2"
         },
         "xaxis": "x",
         "y": {
          "bdata": "m2T84S48xj9gSZTm2PnNP24NSYntTtI/83enRwMi1j+P4d+B8VzdP4ARa97QR+g/uzIZiV126j8=",
          "dtype": "f8"
         },
         "yaxis": "y"
        },
        {
         "alignmentgroup": "True",
         "hovertemplate": "activation=tanh<br>batch_size=32<br>num_neurons=%{x}<br>final_score=%{y}<extra></extra>",
         "legendgroup": "tanh",
         "marker": {
          "color": "#EF553B",
          "pattern": {
           "shape": ""
          }
         },
         "name": "tanh",
         "offsetgroup": "tanh",
         "orientation": "v",
         "showlegend": true,
         "textposition": "auto",
         "texttemplate": "%{y}",
         "type": "bar",
         "x": {
          "bdata": "MgBkAMgAkAEgA0AGgAw=",
          "dtype": "i2"
         },
         "xaxis": "x7",
         "y": {
          "bdata": "ZAJcgBGq0z8Rhh+mY5jWPzyhMzT6qdc/1rky2tPj1z/RH0ZbPITRP9awotnKU+c/cp+R4goS6j8=",
          "dtype": "f8"
         },
         "yaxis": "y7"
        },
        {
         "alignmentgroup": "True",
         "hovertemplate": "activation=tanh<br>batch_size=64<br>num_neurons=%{x}<br>final_score=%{y}<extra></extra>",
         "legendgroup": "tanh",
         "marker": {
          "color": "#EF553B",
          "pattern": {
           "shape": ""
          }
         },
         "name": "tanh",
         "offsetgroup": "tanh",
         "orientation": "v",
         "showlegend": false,
         "textposition": "auto",
         "texttemplate": "%{y}",
         "type": "bar",
         "x": {
          "bdata": "MgBkAMgAkAEgA0AGgAw=",
          "dtype": "i2"
         },
         "xaxis": "x6",
         "y": {
          "bdata": "mrQ+iNlS0D/7prMZciLWP2On++uU8dc/8ZXzuHdX0j/6qKlLeAPRP/+MECx3Suc/c0tj2FM56j8=",
          "dtype": "f8"
         },
         "yaxis": "y6"
        },
        {
         "alignmentgroup": "True",
         "hovertemplate": "activation=tanh<br>batch_size=128<br>num_neurons=%{x}<br>final_score=%{y}<extra></extra>",
         "legendgroup": "tanh",
         "marker": {
          "color": "#EF553B",
          "pattern": {
           "shape": ""
          }
         },
         "name": "tanh",
         "offsetgroup": "tanh",
         "orientation": "v",
         "showlegend": false,
         "textposition": "auto",
         "texttemplate": "%{y}",
         "type": "bar",
         "x": {
          "bdata": "MgBkAMgAkAEgA0AGgAw=",
          "dtype": "i2"
         },
         "xaxis": "x5",
         "y": {
          "bdata": "Dpl9oIuNzT9DNObSmR3RPxaof5w35dM/W6zfq3s50T+0po1hqOvRP+2KcbGBbOc/PeUZ87xJ6j8=",
          "dtype": "f8"
         },
         "yaxis": "y5"
        },
        {
         "alignmentgroup": "True",
         "hovertemplate": "activation=tanh<br>batch_size=256<br>num_neurons=%{x}<br>final_score=%{y}<extra></extra>",
         "legendgroup": "tanh",
         "marker": {
          "color": "#EF553B",
          "pattern": {
           "shape": ""
          }
         },
         "name": "tanh",
         "offsetgroup": "tanh",
         "orientation": "v",
         "showlegend": false,
         "textposition": "auto",
         "texttemplate": "%{y}",
         "type": "bar",
         "x": {
          "bdata": "MgBkAMgAkAEgA0AGgAw=",
          "dtype": "i2"
         },
         "xaxis": "x4",
         "y": {
          "bdata": "VOMSp+G0xj8ota9cFyvKPxYIiPjJ8co/Ua3B4Z/Rzj/7t5lMh/PRP5ZShwXtT+c/zYFiZb1r6j8=",
          "dtype": "f8"
         },
         "yaxis": "y4"
        },
        {
         "alignmentgroup": "True",
         "hovertemplate": "activation=tanh<br>batch_size=512<br>num_neurons=%{x}<br>final_score=%{y}<extra></extra>",
         "legendgroup": "tanh",
         "marker": {
          "color": "#EF553B",
          "pattern": {
           "shape": ""
          }
         },
         "name": "tanh",
         "offsetgroup": "tanh",
         "orientation": "v",
         "showlegend": false,
         "textposition": "auto",
         "texttemplate": "%{y}",
         "type": "bar",
         "x": {
          "bdata": "MgBkAMgAkAEgA0AGgAw=",
          "dtype": "i2"
         },
         "xaxis": "x3",
         "y": {
          "bdata": "lld5lVd5xT+Wbg284AXFP3+Mmr6vUMY/f6qjT5Ehyj+PmmF+7r3QP0xQSuKLU+c/EjOEcPJg6j8=",
          "dtype": "f8"
         },
         "yaxis": "y3"
        },
        {
         "alignmentgroup": "True",
         "hovertemplate": "activation=tanh<br>batch_size=1024<br>num_neurons=%{x}<br>final_score=%{y}<extra></extra>",
         "legendgroup": "tanh",
         "marker": {
          "color": "#EF553B",
          "pattern": {
           "shape": ""
          }
         },
         "name": "tanh",
         "offsetgroup": "tanh",
         "orientation": "v",
         "showlegend": false,
         "textposition": "auto",
         "texttemplate": "%{y}",
         "type": "bar",
         "x": {
          "bdata": "MgBkAMgAkAEgA0AGgAw=",
          "dtype": "i2"
         },
         "xaxis": "x2",
         "y": {
          "bdata": "5gwEARxSxD9N7QJIAprEP/v+MaFZBsU/t6//5ciByz8uTxpGokfQP9JdGg1nH+c/KW7jZaYw6j8=",
          "dtype": "f8"
         },
         "yaxis": "y2"
        },
        {
         "alignmentgroup": "True",
         "hovertemplate": "activation=tanh<br>batch_size=2048<br>num_neurons=%{x}<br>final_score=%{y}<extra></extra>",
         "legendgroup": "tanh",
         "marker": {
          "color": "#EF553B",
          "pattern": {
           "shape": ""
          }
         },
         "name": "tanh",
         "offsetgroup": "tanh",
         "orientation": "v",
         "showlegend": false,
         "textposition": "auto",
         "texttemplate": "%{y}",
         "type": "bar",
         "x": {
          "bdata": "MgBkAMgAkAEgA0AGgAw=",
          "dtype": "i2"
         },
         "xaxis": "x",
         "y": {
          "bdata": "m5IkL0FVxT/x9nSYgJHGP/tXxZKTzsc/Jb/ANsn0yD9j0BdYbW3SP1v9dXHyEuc/xLXRz3YM6j8=",
          "dtype": "f8"
         },
         "yaxis": "y"
        },
        {
         "alignmentgroup": "True",
         "hovertemplate": "activation=relu<br>batch_size=32<br>num_neurons=%{x}<br>final_score=%{y}<extra></extra>",
         "legendgroup": "relu",
         "marker": {
          "color": "#00cc96",
          "pattern": {
           "shape": ""
          }
         },
         "name": "relu",
         "offsetgroup": "relu",
         "orientation": "v",
         "showlegend": true,
         "textposition": "auto",
         "texttemplate": "%{y}",
         "type": "bar",
         "x": {
          "bdata": "MgBkAMgAkAEgA0AGgAw=",
          "dtype": "i2"
         },
         "xaxis": "x7",
         "y": {
          "bdata": "+l7HpdNM1z8M2aS1HuLcP6CwCxkhpuE/Jb9yQ1uZ5T+tpbTvJvvLP6TJ6kzg3+k/EWezt8GH6z8=",
          "dtype": "f8"
         },
         "yaxis": "y7"
        },
        {
         "alignmentgroup": "True",
         "hovertemplate": "activation=relu<br>batch_size=64<br>num_neurons=%{x}<br>final_score=%{y}<extra></extra>",
         "legendgroup": "relu",
         "marker": {
          "color": "#00cc96",
          "pattern": {
           "shape": ""
          }
         },
         "name": "relu",
         "offsetgroup": "relu",
         "orientation": "v",
         "showlegend": false,
         "textposition": "auto",
         "texttemplate": "%{y}",
         "type": "bar",
         "x": {
          "bdata": "MgBkAMgAkAEgA0AGgAw=",
          "dtype": "i2"
         },
         "xaxis": "x6",
         "y": {
          "bdata": "pJF2m7uk1D9tJY4ApXbcP6s5osozWeE/klBWSYYW5T89SqGHobnKP8XiVwpPB+o/k4CkPyRy6z8=",
          "dtype": "f8"
         },
         "yaxis": "y6"
        },
        {
         "alignmentgroup": "True",
         "hovertemplate": "activation=relu<br>batch_size=128<br>num_neurons=%{x}<br>final_score=%{y}<extra></extra>",
         "legendgroup": "relu",
         "marker": {
          "color": "#00cc96",
          "pattern": {
           "shape": ""
          }
         },
         "name": "relu",
         "offsetgroup": "relu",
         "orientation": "v",
         "showlegend": false,
         "textposition": "auto",
         "texttemplate": "%{y}",
         "type": "bar",
         "x": {
          "bdata": "MgBkAMgAkAEgA0AGgAw=",
          "dtype": "i2"
         },
         "xaxis": "x5",
         "y": {
          "bdata": "JiCBy0sN1T/tuOfxAeHZPx2DkQaO9OA/RNtsMi/J5D+toPYBW7nKP2pImF/l7ek/LSxTx/Q06z8=",
          "dtype": "f8"
         },
         "yaxis": "y5"
        },
        {
         "alignmentgroup": "True",
         "hovertemplate": "activation=relu<br>batch_size=256<br>num_neurons=%{x}<br>final_score=%{y}<extra></extra>",
         "legendgroup": "relu",
         "marker": {
          "color": "#00cc96",
          "pattern": {
           "shape": ""
          }
         },
         "name": "relu",
         "offsetgroup": "relu",
         "orientation": "v",
         "showlegend": false,
         "textposition": "auto",
         "texttemplate": "%{y}",
         "type": "bar",
         "x": {
          "bdata": "MgBkAMgAkAEgA0AGgAw=",
          "dtype": "i2"
         },
         "xaxis": "x4",
         "y": {
          "bdata": "CZWz44BLzz8c5MgdQlnSPw3Ub0UhVNY/XHo+UnUk4T9Wg/D5fzTJPwH+fCUS5ek/TWp9NRdQ6z8=",
          "dtype": "f8"
         },
         "yaxis": "y4"
        },
        {
         "alignmentgroup": "True",
         "hovertemplate": "activation=relu<br>batch_size=512<br>num_neurons=%{x}<br>final_score=%{y}<extra></extra>",
         "legendgroup": "relu",
         "marker": {
          "color": "#00cc96",
          "pattern": {
           "shape": ""
          }
         },
         "name": "relu",
         "offsetgroup": "relu",
         "orientation": "v",
         "showlegend": false,
         "textposition": "auto",
         "texttemplate": "%{y}",
         "type": "bar",
         "x": {
          "bdata": "MgBkAMgAkAEgA0AGgAw=",
          "dtype": "i2"
         },
         "xaxis": "x3",
         "y": {
          "bdata": "L95bLoDLyT80rjmETkvPP58R0Ni8RM4/9oFIh0UQ2j8IxR9WB6HMP+OeiFIKCeo/l6P0O6A46z8=",
          "dtype": "f8"
         },
         "yaxis": "y3"
        },
        {
         "alignmentgroup": "True",
         "hovertemplate": "activation=relu<br>batch_size=1024<br>num_neurons=%{x}<br>final_score=%{y}<extra></extra>",
         "legendgroup": "relu",
         "marker": {
          "color": "#00cc96",
          "pattern": {
           "shape": ""
          }
         },
         "name": "relu",
         "offsetgroup": "relu",
         "orientation": "v",
         "showlegend": false,
         "textposition": "auto",
         "texttemplate": "%{y}",
         "type": "bar",
         "x": {
          "bdata": "MgBkAMgAkAEgA0AGgAw=",
          "dtype": "i2"
         },
         "xaxis": "x2",
         "y": {
          "bdata": "l5C/0Ds0xj8myFA30oTJP4IExur3BNA/aKZ6Euy32T9ah+NFTmfJP2Z2xNcQjek/oSLbb3yA6z8=",
          "dtype": "f8"
         },
         "yaxis": "y2"
        },
        {
         "alignmentgroup": "True",
         "hovertemplate": "activation=relu<br>batch_size=2048<br>num_neurons=%{x}<br>final_score=%{y}<extra></extra>",
         "legendgroup": "relu",
         "marker": {
          "color": "#00cc96",
          "pattern": {
           "shape": ""
          }
         },
         "name": "relu",
         "offsetgroup": "relu",
         "orientation": "v",
         "showlegend": false,
         "textposition": "auto",
         "texttemplate": "%{y}",
         "type": "bar",
         "x": {
          "bdata": "MgBkAMgAkAEgA0AGgAw=",
          "dtype": "i2"
         },
         "xaxis": "x",
         "y": {
          "bdata": "YxvQsuopyD8NolCBJ4LGP3ddAURZFss/3AGKT1hz2j+zcsZeFpTKP8U/lH8CLeo/F7AFRsmH6z8=",
          "dtype": "f8"
         },
         "yaxis": "y"
        },
        {
         "alignmentgroup": "True",
         "hovertemplate": "activation=leaky_relu<br>batch_size=32<br>num_neurons=%{x}<br>final_score=%{y}<extra></extra>",
         "legendgroup": "leaky_relu",
         "marker": {
          "color": "#ab63fa",
          "pattern": {
           "shape": ""
          }
         },
         "name": "leaky_relu",
         "offsetgroup": "leaky_relu",
         "orientation": "v",
         "showlegend": true,
         "textposition": "auto",
         "texttemplate": "%{y}",
         "type": "bar",
         "x": {
          "bdata": "MgBkAMgAkAEgA0AGgAw=",
          "dtype": "i2"
         },
         "xaxis": "x7",
         "y": {
          "bdata": "36lGUtHn0j9XtU5z8+TQP81rVgCfidM/022Sz+C50D+mOC1y1rHkP/F1DkdfGeo/lyQn6yLJ6j8=",
          "dtype": "f8"
         },
         "yaxis": "y7"
        },
        {
         "alignmentgroup": "True",
         "hovertemplate": "activation=leaky_relu<br>batch_size=64<br>num_neurons=%{x}<br>final_score=%{y}<extra></extra>",
         "legendgroup": "leaky_relu",
         "marker": {
          "color": "#ab63fa",
          "pattern": {
           "shape": ""
          }
         },
         "name": "leaky_relu",
         "offsetgroup": "leaky_relu",
         "orientation": "v",
         "showlegend": false,
         "textposition": "auto",
         "texttemplate": "%{y}",
         "type": "bar",
         "x": {
          "bdata": "MgBkAMgAkAEgA0AGgAw=",
          "dtype": "i2"
         },
         "xaxis": "x6",
         "y": {
          "bdata": "WUh8v90q0D8OyekSEuPKP+Bd+yIOisk/pJpUjzKQyD+TKOcCw6/kP4oaOSbjGuo/87di7T8h6z8=",
          "dtype": "f8"
         },
         "yaxis": "y6"
        },
        {
         "alignmentgroup": "True",
         "hovertemplate": "activation=leaky_relu<br>batch_size=128<br>num_neurons=%{x}<br>final_score=%{y}<extra></extra>",
         "legendgroup": "leaky_relu",
         "marker": {
          "color": "#ab63fa",
          "pattern": {
           "shape": ""
          }
         },
         "name": "leaky_relu",
         "offsetgroup": "leaky_relu",
         "orientation": "v",
         "showlegend": false,
         "textposition": "auto",
         "texttemplate": "%{y}",
         "type": "bar",
         "x": {
          "bdata": "MgBkAMgAkAEgA0AGgAw=",
          "dtype": "i2"
         },
         "xaxis": "x5",
         "y": {
          "bdata": "SLnMGHECyT8TmqQFe9nGP0AO2S0z7cU/MblQil58xj/Nthlu9zzkP9jlO2YcK+o/YLA2EW616j8=",
          "dtype": "f8"
         },
         "yaxis": "y5"
        },
        {
         "alignmentgroup": "True",
         "hovertemplate": "activation=leaky_relu<br>batch_size=256<br>num_neurons=%{x}<br>final_score=%{y}<extra></extra>",
         "legendgroup": "leaky_relu",
         "marker": {
          "color": "#ab63fa",
          "pattern": {
           "shape": ""
          }
         },
         "name": "leaky_relu",
         "offsetgroup": "leaky_relu",
         "orientation": "v",
         "showlegend": false,
         "textposition": "auto",
         "texttemplate": "%{y}",
         "type": "bar",
         "x": {
          "bdata": "MgBkAMgAkAEgA0AGgAw=",
          "dtype": "i2"
         },
         "xaxis": "x4",
         "y": {
          "bdata": "6uka22y/xz9KjyTAFFbFPxtgtGEq9MU/bFcVCdwXxj/RZRc5Kg7kPxufJvt1J+o/7eorGqYd6z8=",
          "dtype": "f8"
         },
         "yaxis": "y4"
        },
        {
         "alignmentgroup": "True",
         "hovertemplate": "activation=leaky_relu<br>batch_size=512<br>num_neurons=%{x}<br>final_score=%{y}<extra></extra>",
         "legendgroup": "leaky_relu",
         "marker": {
          "color": "#ab63fa",
          "pattern": {
           "shape": ""
          }
         },
         "name": "leaky_relu",
         "offsetgroup": "leaky_relu",
         "orientation": "v",
         "showlegend": false,
         "textposition": "auto",
         "texttemplate": "%{y}",
         "type": "bar",
         "x": {
          "bdata": "MgBkAMgAkAEgA0AGgAw=",
          "dtype": "i2"
         },
         "xaxis": "x3",
         "y": {
          "bdata": "WDCUeYjbxD+NU2UQ+GHEP6kH0fmn4sQ//xm5E7HFxD88zSaajAPkP0XfVGsiBeo/2mNjeUb26j8=",
          "dtype": "f8"
         },
         "yaxis": "y3"
        },
        {
         "alignmentgroup": "True",
         "hovertemplate": "activation=leaky_relu<br>batch_size=1024<br>num_neurons=%{x}<br>final_score=%{y}<extra></extra>",
         "legendgroup": "leaky_relu",
         "marker": {
          "color": "#ab63fa",
          "pattern": {
           "shape": ""
          }
         },
         "name": "leaky_relu",
         "offsetgroup": "leaky_relu",
         "orientation": "v",
         "showlegend": false,
         "textposition": "auto",
         "texttemplate": "%{y}",
         "type": "bar",
         "x": {
          "bdata": "MgBkAMgAkAEgA0AGgAw=",
          "dtype": "i2"
         },
         "xaxis": "x2",
         "y": {
          "bdata": "sr2YCmPExj/EbfBusy3GP/rVfXm+WcQ/HDchcyAsxj+5+gEJmxPkPyafP97U/+k/LZAT5fQb6z8=",
          "dtype": "f8"
         },
         "yaxis": "y2"
        },
        {
         "alignmentgroup": "True",
         "hovertemplate": "activation=leaky_relu<br>batch_size=2048<br>num_neurons=%{x}<br>final_score=%{y}<extra></extra>",
         "legendgroup": "leaky_relu",
         "marker": {
          "color": "#ab63fa",
          "pattern": {
           "shape": ""
          }
         },
         "name": "leaky_relu",
         "offsetgroup": "leaky_relu",
         "orientation": "v",
         "showlegend": false,
         "textposition": "auto",
         "texttemplate": "%{y}",
         "type": "bar",
         "x": {
          "bdata": "MgBkAMgAkAEgA0AGgAw=",
          "dtype": "i2"
         },
         "xaxis": "x",
         "y": {
          "bdata": "Kez0UhoOxT9qx8nJhqbDP5MVo1lqLsQ/e9PD5oIjxT+tMSMJZCfkP+O+rHmcJeo/T+YWW3gJ6z8=",
          "dtype": "f8"
         },
         "yaxis": "y"
        },
        {
         "alignmentgroup": "True",
         "hovertemplate": "activation=silu<br>batch_size=32<br>num_neurons=%{x}<br>final_score=%{y}<extra></extra>",
         "legendgroup": "silu",
         "marker": {
          "color": "#FFA15A",
          "pattern": {
           "shape": ""
          }
         },
         "name": "silu",
         "offsetgroup": "silu",
         "orientation": "v",
         "showlegend": true,
         "textposition": "auto",
         "texttemplate": "%{y}",
         "type": "bar",
         "x": {
          "bdata": "MgBkAMgAkAEgA0AGgAw=",
          "dtype": "i2"
         },
         "xaxis": "x7",
         "y": {
          "bdata": "UjuVWeIe1j/BcJfx56nbP0R19Zei3+E/yuE6SsoW5T9grV8XtNfIP8XvN4iIouk/xHWu5fw96z8=",
          "dtype": "f8"
         },
         "yaxis": "y7"
        },
        {
         "alignmentgroup": "True",
         "hovertemplate": "activation=silu<br>batch_size=64<br>num_neurons=%{x}<br>final_score=%{y}<extra></extra>",
         "legendgroup": "silu",
         "marker": {
          "color": "#FFA15A",
          "pattern": {
           "shape": ""
          }
         },
         "name": "silu",
         "offsetgroup": "silu",
         "orientation": "v",
         "showlegend": false,
         "textposition": "auto",
         "texttemplate": "%{y}",
         "type": "bar",
         "x": {
          "bdata": "MgBkAMgAkAEgA0AGgAw=",
          "dtype": "i2"
         },
         "xaxis": "x6",
         "y": {
          "bdata": "VmaJe9iB1D8BKUHQgubbP+CinUXau+E/UZLO//G85D9tU7ZNt4/LPw9mx9wylOk/8fFOZneA6z8=",
          "dtype": "f8"
         },
         "yaxis": "y6"
        },
        {
         "alignmentgroup": "True",
         "hovertemplate": "activation=silu<br>batch_size=128<br>num_neurons=%{x}<br>final_score=%{y}<extra></extra>",
         "legendgroup": "silu",
         "marker": {
          "color": "#FFA15A",
          "pattern": {
           "shape": ""
          }
         },
         "name": "silu",
         "offsetgroup": "silu",
         "orientation": "v",
         "showlegend": false,
         "textposition": "auto",
         "texttemplate": "%{y}",
         "type": "bar",
         "x": {
          "bdata": "MgBkAMgAkAEgA0AGgAw=",
          "dtype": "i2"
         },
         "xaxis": "x5",
         "y": {
          "bdata": "c+Ta/o3x0z/tqRxVnVvaPwS/NtgyjeE/ZIUgSHbS5D8q3jr17ubIP05aRCgXlOk/eIvMXwlX6z8=",
          "dtype": "f8"
         },
         "yaxis": "y5"
        },
        {
         "alignmentgroup": "True",
         "hovertemplate": "activation=silu<br>batch_size=256<br>num_neurons=%{x}<br>final_score=%{y}<extra></extra>",
         "legendgroup": "silu",
         "marker": {
          "color": "#FFA15A",
          "pattern": {
           "shape": ""
          }
         },
         "name": "silu",
         "offsetgroup": "silu",
         "orientation": "v",
         "showlegend": false,
         "textposition": "auto",
         "texttemplate": "%{y}",
         "type": "bar",
         "x": {
          "bdata": "MgBkAMgAkAEgA0AGgAw=",
          "dtype": "i2"
         },
         "xaxis": "x4",
         "y": {
          "bdata": "RadI/jqZzj9YLWR5havUP9eyBzjQdNY/wRtuzq1g3j/fFrHBqdLJP06XXHY4nek/NxA/+qip6z8=",
          "dtype": "f8"
         },
         "yaxis": "y4"
        },
        {
         "alignmentgroup": "True",
         "hovertemplate": "activation=silu<br>batch_size=512<br>num_neurons=%{x}<br>final_score=%{y}<extra></extra>",
         "legendgroup": "silu",
         "marker": {
          "color": "#FFA15A",
          "pattern": {
           "shape": ""
          }
         },
         "name": "silu",
         "offsetgroup": "silu",
         "orientation": "v",
         "showlegend": false,
         "textposition": "auto",
         "texttemplate": "%{y}",
         "type": "bar",
         "x": {
          "bdata": "MgBkAMgAkAEgA0AGgAw=",
          "dtype": "i2"
         },
         "xaxis": "x3",
         "y": {
          "bdata": "I9YKlf2rxT8RVmlriG3GPw+o+kmCt8k/5oFcXsOu3D/tAPnJSiHKP31ITLuv4ek/CZSeeS5n6z8=",
          "dtype": "f8"
         },
         "yaxis": "y3"
        },
        {
         "alignmentgroup": "True",
         "hovertemplate": "activation=silu<br>batch_size=1024<br>num_neurons=%{x}<br>final_score=%{y}<extra></extra>",
         "legendgroup": "silu",
         "marker": {
          "color": "#FFA15A",
          "pattern": {
           "shape": ""
          }
         },
         "name": "silu",
         "offsetgroup": "silu",
         "orientation": "v",
         "showlegend": false,
         "textposition": "auto",
         "texttemplate": "%{y}",
         "type": "bar",
         "x": {
          "bdata": "MgBkAMgAkAEgA0AGgAw=",
          "dtype": "i2"
         },
         "xaxis": "x2",
         "y": {
          "bdata": "BFfymmOzxT9vgi6PfOXFP1wumhxpdMk/T5t4UcrA2z8dKZCkuPXLPxzE46spG+o/mHxMbMFa6z8=",
          "dtype": "f8"
         },
         "yaxis": "y2"
        },
        {
         "alignmentgroup": "True",
         "hovertemplate": "activation=silu<br>batch_size=2048<br>num_neurons=%{x}<br>final_score=%{y}<extra></extra>",
         "legendgroup": "silu",
         "marker": {
          "color": "#FFA15A",
          "pattern": {
           "shape": ""
          }
         },
         "name": "silu",
         "offsetgroup": "silu",
         "orientation": "v",
         "showlegend": false,
         "textposition": "auto",
         "texttemplate": "%{y}",
         "type": "bar",
         "x": {
          "bdata": "MgBkAMgAkAEgA0AGgAw=",
          "dtype": "i2"
         },
         "xaxis": "x",
         "y": {
          "bdata": "jH3k2ZAdxj/0aAEPSQfIPwb6SbZZOMs/W07n0r6B2z96hozcMNLJP5bqm85myOk/LgWr9xVX6z8=",
          "dtype": "f8"
         },
         "yaxis": "y"
        },
        {
         "alignmentgroup": "True",
         "hovertemplate": "activation=mish<br>batch_size=32<br>num_neurons=%{x}<br>final_score=%{y}<extra></extra>",
         "legendgroup": "mish",
         "marker": {
          "color": "#19d3f3",
          "pattern": {
           "shape": ""
          }
         },
         "name": "mish",
         "offsetgroup": "mish",
         "orientation": "v",
         "showlegend": true,
         "textposition": "auto",
         "texttemplate": "%{y}",
         "type": "bar",
         "x": {
          "bdata": "MgBkAMgAkAEgA0AGgAw=",
          "dtype": "i2"
         },
         "xaxis": "x7",
         "y": {
          "bdata": "MWjUFbcW1z9ErLwjsgXdP73z0jt+HuI/ZNx+UjDb5D9F5O30Q9zJP6GM0v6+1uk/xLqPvUJO6z8=",
          "dtype": "f8"
         },
         "yaxis": "y7"
        },
        {
         "alignmentgroup": "True",
         "hovertemplate": "activation=mish<br>batch_size=64<br>num_neurons=%{x}<br>final_score=%{y}<extra></extra>",
         "legendgroup": "mish",
         "marker": {
          "color": "#19d3f3",
          "pattern": {
           "shape": ""
          }
         },
         "name": "mish",
         "offsetgroup": "mish",
         "orientation": "v",
         "showlegend": false,
         "textposition": "auto",
         "texttemplate": "%{y}",
         "type": "bar",
         "x": {
          "bdata": "MgBkAMgAkAEgA0AGgAw=",
          "dtype": "i2"
         },
         "xaxis": "x6",
         "y": {
          "bdata": "aBoB5tOU1j//bSbT4XzcP/X69Iw2/uE/Uk4yCYTy5D8B7zMeuqLKP7GLRaTKCuo/Ab+eHHBc6z8=",
          "dtype": "f8"
         },
         "yaxis": "y6"
        },
        {
         "alignmentgroup": "True",
         "hovertemplate": "activation=mish<br>batch_size=128<br>num_neurons=%{x}<br>final_score=%{y}<extra></extra>",
         "legendgroup": "mish",
         "marker": {
          "color": "#19d3f3",
          "pattern": {
           "shape": ""
          }
         },
         "name": "mish",
         "offsetgroup": "mish",
         "orientation": "v",
         "showlegend": false,
         "textposition": "auto",
         "texttemplate": "%{y}",
         "type": "bar",
         "x": {
          "bdata": "MgBkAMgAkAEgA0AGgAw=",
          "dtype": "i2"
         },
         "xaxis": "x5",
         "y": {
          "bdata": "jwzyH9C50j/j+BZdx0HaPziLK/r0TeE/a98kZ/S74z82xkYuTgXMP5GpEsqDz+k/9BSfYvNG6z8=",
          "dtype": "f8"
         },
         "yaxis": "y5"
        },
        {
         "alignmentgroup": "True",
         "hovertemplate": "activation=mish<br>batch_size=256<br>num_neurons=%{x}<br>final_score=%{y}<extra></extra>",
         "legendgroup": "mish",
         "marker": {
          "color": "#19d3f3",
          "pattern": {
           "shape": ""
          }
         },
         "name": "mish",
         "offsetgroup": "mish",
         "orientation": "v",
         "showlegend": false,
         "textposition": "auto",
         "texttemplate": "%{y}",
         "type": "bar",
         "x": {
          "bdata": "MgBkAMgAkAEgA0AGgAw=",
          "dtype": "i2"
         },
         "xaxis": "x4",
         "y": {
          "bdata": "vMqGWCBByz9rHBhRa1rSP1e3T7jUvNY/7+UqTEd34T9x4g1cSwHLPzz8L69SGeo/e0QAaZhc6z8=",
          "dtype": "f8"
         },
         "yaxis": "y4"
        },
        {
         "alignmentgroup": "True",
         "hovertemplate": "activation=mish<br>batch_size=512<br>num_neurons=%{x}<br>final_score=%{y}<extra></extra>",
         "legendgroup": "mish",
         "marker": {
          "color": "#19d3f3",
          "pattern": {
           "shape": ""
          }
         },
         "name": "mish",
         "offsetgroup": "mish",
         "orientation": "v",
         "showlegend": false,
         "textposition": "auto",
         "texttemplate": "%{y}",
         "type": "bar",
         "x": {
          "bdata": "MgBkAMgAkAEgA0AGgAw=",
          "dtype": "i2"
         },
         "xaxis": "x3",
         "y": {
          "bdata": "35E5qNEtxj8SxrG83KbJP+xyZAeCsso/eAauTHoE1j+GsonnLYfKP/Rr2AgD5ek/n9UwDhJp6z8=",
          "dtype": "f8"
         },
         "yaxis": "y3"
        },
        {
         "alignmentgroup": "True",
         "hovertemplate": "activation=mish<br>batch_size=1024<br>num_neurons=%{x}<br>final_score=%{y}<extra></extra>",
         "legendgroup": "mish",
         "marker": {
          "color": "#19d3f3",
          "pattern": {
           "shape": ""
          }
         },
         "name": "mish",
         "offsetgroup": "mish",
         "orientation": "v",
         "showlegend": false,
         "textposition": "auto",
         "texttemplate": "%{y}",
         "type": "bar",
         "x": {
          "bdata": "MgBkAMgAkAEgA0AGgAw=",
          "dtype": "i2"
         },
         "xaxis": "x2",
         "y": {
          "bdata": "akeD9ZIJxj/pd45kpEnGP8HyuaYStM0/KVlfwvL42z80YpVOQpvHP6/XqiRd3Ok/KKzGVcVI6z8=",
          "dtype": "f8"
         },
         "yaxis": "y2"
        },
        {
         "alignmentgroup": "True",
         "hovertemplate": "activation=mish<br>batch_size=2048<br>num_neurons=%{x}<br>final_score=%{y}<extra></extra>",
         "legendgroup": "mish",
         "marker": {
          "color": "#19d3f3",
          "pattern": {
           "shape": ""
          }
         },
         "name": "mish",
         "offsetgroup": "mish",
         "orientation": "v",
         "showlegend": false,
         "textposition": "auto",
         "texttemplate": "%{y}",
         "type": "bar",
         "x": {
          "bdata": "MgBkAMgAkAEgA0AGgAw=",
          "dtype": "i2"
         },
         "xaxis": "x",
         "y": {
          "bdata": "Cn1ubMkjxT9aif7b/rLFP7+eUBL7gsY/c9AOlMrF2j9/nJ8pESXLPxeAqBE3r+k/aty1sXet6z8=",
          "dtype": "f8"
         },
         "yaxis": "y"
        }
       ],
       "layout": {
        "annotations": [
         {
          "font": {},
          "showarrow": false,
          "text": "batch_size=2048",
          "textangle": 90,
          "x": 0.98,
          "xanchor": "left",
          "xref": "paper",
          "y": 0.05857142857142857,
          "yanchor": "middle",
          "yref": "paper"
         },
         {
          "font": {},
          "showarrow": false,
          "text": "batch_size=1024",
          "textangle": 90,
          "x": 0.98,
          "xanchor": "left",
          "xref": "paper",
          "y": 0.2057142857142857,
          "yanchor": "middle",
          "yref": "paper"
         },
         {
          "font": {},
          "showarrow": false,
          "text": "batch_size=512",
          "textangle": 90,
          "x": 0.98,
          "xanchor": "left",
          "xref": "paper",
          "y": 0.35285714285714287,
          "yanchor": "middle",
          "yref": "paper"
         },
         {
          "font": {},
          "showarrow": false,
          "text": "batch_size=256",
          "textangle": 90,
          "x": 0.98,
          "xanchor": "left",
          "xref": "paper",
          "y": 0.49999999999999994,
          "yanchor": "middle",
          "yref": "paper"
         },
         {
          "font": {},
          "showarrow": false,
          "text": "batch_size=128",
          "textangle": 90,
          "x": 0.98,
          "xanchor": "left",
          "xref": "paper",
          "y": 0.647142857142857,
          "yanchor": "middle",
          "yref": "paper"
         },
         {
          "font": {},
          "showarrow": false,
          "text": "batch_size=64",
          "textangle": 90,
          "x": 0.98,
          "xanchor": "left",
          "xref": "paper",
          "y": 0.7942857142857143,
          "yanchor": "middle",
          "yref": "paper"
         },
         {
          "font": {},
          "showarrow": false,
          "text": "batch_size=32",
          "textangle": 90,
          "x": 0.98,
          "xanchor": "left",
          "xref": "paper",
          "y": 0.9414285714285713,
          "yanchor": "middle",
          "yref": "paper"
         }
        ],
        "barmode": "group",
        "height": 2000,
        "legend": {
         "title": {
          "text": "activation"
         },
         "tracegroupgap": 0
        },
        "template": {
         "data": {
          "bar": [
           {
            "error_x": {
             "color": "#2a3f5f"
            },
            "error_y": {
             "color": "#2a3f5f"
            },
            "marker": {
             "line": {
              "color": "#E5ECF6",
              "width": 0.5
             },
             "pattern": {
              "fillmode": "overlay",
              "size": 10,
              "solidity": 0.2
             }
            },
            "type": "bar"
           }
          ],
          "barpolar": [
           {
            "marker": {
             "line": {
              "color": "#E5ECF6",
              "width": 0.5
             },
             "pattern": {
              "fillmode": "overlay",
              "size": 10,
              "solidity": 0.2
             }
            },
            "type": "barpolar"
           }
          ],
          "carpet": [
           {
            "aaxis": {
             "endlinecolor": "#2a3f5f",
             "gridcolor": "white",
             "linecolor": "white",
             "minorgridcolor": "white",
             "startlinecolor": "#2a3f5f"
            },
            "baxis": {
             "endlinecolor": "#2a3f5f",
             "gridcolor": "white",
             "linecolor": "white",
             "minorgridcolor": "white",
             "startlinecolor": "#2a3f5f"
            },
            "type": "carpet"
           }
          ],
          "choropleth": [
           {
            "colorbar": {
             "outlinewidth": 0,
             "ticks": ""
            },
            "type": "choropleth"
           }
          ],
          "contour": [
           {
            "colorbar": {
             "outlinewidth": 0,
             "ticks": ""
            },
            "colorscale": [
             [
              0,
              "#0d0887"
             ],
             [
              0.1111111111111111,
              "#46039f"
             ],
             [
              0.2222222222222222,
              "#7201a8"
             ],
             [
              0.3333333333333333,
              "#9c179e"
             ],
             [
              0.4444444444444444,
              "#bd3786"
             ],
             [
              0.5555555555555556,
              "#d8576b"
             ],
             [
              0.6666666666666666,
              "#ed7953"
             ],
             [
              0.7777777777777778,
              "#fb9f3a"
             ],
             [
              0.8888888888888888,
              "#fdca26"
             ],
             [
              1,
              "#f0f921"
             ]
            ],
            "type": "contour"
           }
          ],
          "contourcarpet": [
           {
            "colorbar": {
             "outlinewidth": 0,
             "ticks": ""
            },
            "type": "contourcarpet"
           }
          ],
          "heatmap": [
           {
            "colorbar": {
             "outlinewidth": 0,
             "ticks": ""
            },
            "colorscale": [
             [
              0,
              "#0d0887"
             ],
             [
              0.1111111111111111,
              "#46039f"
             ],
             [
              0.2222222222222222,
              "#7201a8"
             ],
             [
              0.3333333333333333,
              "#9c179e"
             ],
             [
              0.4444444444444444,
              "#bd3786"
             ],
             [
              0.5555555555555556,
              "#d8576b"
             ],
             [
              0.6666666666666666,
              "#ed7953"
             ],
             [
              0.7777777777777778,
              "#fb9f3a"
             ],
             [
              0.8888888888888888,
              "#fdca26"
             ],
             [
              1,
              "#f0f921"
             ]
            ],
            "type": "heatmap"
           }
          ],
          "histogram": [
           {
            "marker": {
             "pattern": {
              "fillmode": "overlay",
              "size": 10,
              "solidity": 0.2
             }
            },
            "type": "histogram"
           }
          ],
          "histogram2d": [
           {
            "colorbar": {
             "outlinewidth": 0,
             "ticks": ""
            },
            "colorscale": [
             [
              0,
              "#0d0887"
             ],
             [
              0.1111111111111111,
              "#46039f"
             ],
             [
              0.2222222222222222,
              "#7201a8"
             ],
             [
              0.3333333333333333,
              "#9c179e"
             ],
             [
              0.4444444444444444,
              "#bd3786"
             ],
             [
              0.5555555555555556,
              "#d8576b"
             ],
             [
              0.6666666666666666,
              "#ed7953"
             ],
             [
              0.7777777777777778,
              "#fb9f3a"
             ],
             [
              0.8888888888888888,
              "#fdca26"
             ],
             [
              1,
              "#f0f921"
             ]
            ],
            "type": "histogram2d"
           }
          ],
          "histogram2dcontour": [
           {
            "colorbar": {
             "outlinewidth": 0,
             "ticks": ""
            },
            "colorscale": [
             [
              0,
              "#0d0887"
             ],
             [
              0.1111111111111111,
              "#46039f"
             ],
             [
              0.2222222222222222,
              "#7201a8"
             ],
             [
              0.3333333333333333,
              "#9c179e"
             ],
             [
              0.4444444444444444,
              "#bd3786"
             ],
             [
              0.5555555555555556,
              "#d8576b"
             ],
             [
              0.6666666666666666,
              "#ed7953"
             ],
             [
              0.7777777777777778,
              "#fb9f3a"
             ],
             [
              0.8888888888888888,
              "#fdca26"
             ],
             [
              1,
              "#f0f921"
             ]
            ],
            "type": "histogram2dcontour"
           }
          ],
          "mesh3d": [
           {
            "colorbar": {
             "outlinewidth": 0,
             "ticks": ""
            },
            "type": "mesh3d"
           }
          ],
          "parcoords": [
           {
            "line": {
             "colorbar": {
              "outlinewidth": 0,
              "ticks": ""
             }
            },
            "type": "parcoords"
           }
          ],
          "pie": [
           {
            "automargin": true,
            "type": "pie"
           }
          ],
          "scatter": [
           {
            "fillpattern": {
             "fillmode": "overlay",
             "size": 10,
             "solidity": 0.2
            },
            "type": "scatter"
           }
          ],
          "scatter3d": [
           {
            "line": {
             "colorbar": {
              "outlinewidth": 0,
              "ticks": ""
             }
            },
            "marker": {
             "colorbar": {
              "outlinewidth": 0,
              "ticks": ""
             }
            },
            "type": "scatter3d"
           }
          ],
          "scattercarpet": [
           {
            "marker": {
             "colorbar": {
              "outlinewidth": 0,
              "ticks": ""
             }
            },
            "type": "scattercarpet"
           }
          ],
          "scattergeo": [
           {
            "marker": {
             "colorbar": {
              "outlinewidth": 0,
              "ticks": ""
             }
            },
            "type": "scattergeo"
           }
          ],
          "scattergl": [
           {
            "marker": {
             "colorbar": {
              "outlinewidth": 0,
              "ticks": ""
             }
            },
            "type": "scattergl"
           }
          ],
          "scattermap": [
           {
            "marker": {
             "colorbar": {
              "outlinewidth": 0,
              "ticks": ""
             }
            },
            "type": "scattermap"
           }
          ],
          "scattermapbox": [
           {
            "marker": {
             "colorbar": {
              "outlinewidth": 0,
              "ticks": ""
             }
            },
            "type": "scattermapbox"
           }
          ],
          "scatterpolar": [
           {
            "marker": {
             "colorbar": {
              "outlinewidth": 0,
              "ticks": ""
             }
            },
            "type": "scatterpolar"
           }
          ],
          "scatterpolargl": [
           {
            "marker": {
             "colorbar": {
              "outlinewidth": 0,
              "ticks": ""
             }
            },
            "type": "scatterpolargl"
           }
          ],
          "scatterternary": [
           {
            "marker": {
             "colorbar": {
              "outlinewidth": 0,
              "ticks": ""
             }
            },
            "type": "scatterternary"
           }
          ],
          "surface": [
           {
            "colorbar": {
             "outlinewidth": 0,
             "ticks": ""
            },
            "colorscale": [
             [
              0,
              "#0d0887"
             ],
             [
              0.1111111111111111,
              "#46039f"
             ],
             [
              0.2222222222222222,
              "#7201a8"
             ],
             [
              0.3333333333333333,
              "#9c179e"
             ],
             [
              0.4444444444444444,
              "#bd3786"
             ],
             [
              0.5555555555555556,
              "#d8576b"
             ],
             [
              0.6666666666666666,
              "#ed7953"
             ],
             [
              0.7777777777777778,
              "#fb9f3a"
             ],
             [
              0.8888888888888888,
              "#fdca26"
             ],
             [
              1,
              "#f0f921"
             ]
            ],
            "type": "surface"
           }
          ],
          "table": [
           {
            "cells": {
             "fill": {
              "color": "#EBF0F8"
             },
             "line": {
              "color": "white"
             }
            },
            "header": {
             "fill": {
              "color": "#C8D4E3"
             },
             "line": {
              "color": "white"
             }
            },
            "type": "table"
           }
          ]
         },
         "layout": {
          "annotationdefaults": {
           "arrowcolor": "#2a3f5f",
           "arrowhead": 0,
           "arrowwidth": 1
          },
          "autotypenumbers": "strict",
          "coloraxis": {
           "colorbar": {
            "outlinewidth": 0,
            "ticks": ""
           }
          },
          "colorscale": {
           "diverging": [
            [
             0,
             "#8e0152"
            ],
            [
             0.1,
             "#c51b7d"
            ],
            [
             0.2,
             "#de77ae"
            ],
            [
             0.3,
             "#f1b6da"
            ],
            [
             0.4,
             "#fde0ef"
            ],
            [
             0.5,
             "#f7f7f7"
            ],
            [
             0.6,
             "#e6f5d0"
            ],
            [
             0.7,
             "#b8e186"
            ],
            [
             0.8,
             "#7fbc41"
            ],
            [
             0.9,
             "#4d9221"
            ],
            [
             1,
             "#276419"
            ]
           ],
           "sequential": [
            [
             0,
             "#0d0887"
            ],
            [
             0.1111111111111111,
             "#46039f"
            ],
            [
             0.2222222222222222,
             "#7201a8"
            ],
            [
             0.3333333333333333,
             "#9c179e"
            ],
            [
             0.4444444444444444,
             "#bd3786"
            ],
            [
             0.5555555555555556,
             "#d8576b"
            ],
            [
             0.6666666666666666,
             "#ed7953"
            ],
            [
             0.7777777777777778,
             "#fb9f3a"
            ],
            [
             0.8888888888888888,
             "#fdca26"
            ],
            [
             1,
             "#f0f921"
            ]
           ],
           "sequentialminus": [
            [
             0,
             "#0d0887"
            ],
            [
             0.1111111111111111,
             "#46039f"
            ],
            [
             0.2222222222222222,
             "#7201a8"
            ],
            [
             0.3333333333333333,
             "#9c179e"
            ],
            [
             0.4444444444444444,
             "#bd3786"
            ],
            [
             0.5555555555555556,
             "#d8576b"
            ],
            [
             0.6666666666666666,
             "#ed7953"
            ],
            [
             0.7777777777777778,
             "#fb9f3a"
            ],
            [
             0.8888888888888888,
             "#fdca26"
            ],
            [
             1,
             "#f0f921"
            ]
           ]
          },
          "colorway": [
           "#636efa",
           "#EF553B",
           "#00cc96",
           "#ab63fa",
           "#FFA15A",
           "#19d3f3",
           "#FF6692",
           "#B6E880",
           "#FF97FF",
           "#FECB52"
          ],
          "font": {
           "color": "#2a3f5f"
          },
          "geo": {
           "bgcolor": "white",
           "lakecolor": "white",
           "landcolor": "#E5ECF6",
           "showlakes": true,
           "showland": true,
           "subunitcolor": "white"
          },
          "hoverlabel": {
           "align": "left"
          },
          "hovermode": "closest",
          "mapbox": {
           "style": "light"
          },
          "paper_bgcolor": "white",
          "plot_bgcolor": "#E5ECF6",
          "polar": {
           "angularaxis": {
            "gridcolor": "white",
            "linecolor": "white",
            "ticks": ""
           },
           "bgcolor": "#E5ECF6",
           "radialaxis": {
            "gridcolor": "white",
            "linecolor": "white",
            "ticks": ""
           }
          },
          "scene": {
           "xaxis": {
            "backgroundcolor": "#E5ECF6",
            "gridcolor": "white",
            "gridwidth": 2,
            "linecolor": "white",
            "showbackground": true,
            "ticks": "",
            "zerolinecolor": "white"
           },
           "yaxis": {
            "backgroundcolor": "#E5ECF6",
            "gridcolor": "white",
            "gridwidth": 2,
            "linecolor": "white",
            "showbackground": true,
            "ticks": "",
            "zerolinecolor": "white"
           },
           "zaxis": {
            "backgroundcolor": "#E5ECF6",
            "gridcolor": "white",
            "gridwidth": 2,
            "linecolor": "white",
            "showbackground": true,
            "ticks": "",
            "zerolinecolor": "white"
           }
          },
          "shapedefaults": {
           "line": {
            "color": "#2a3f5f"
           }
          },
          "ternary": {
           "aaxis": {
            "gridcolor": "white",
            "linecolor": "white",
            "ticks": ""
           },
           "baxis": {
            "gridcolor": "white",
            "linecolor": "white",
            "ticks": ""
           },
           "bgcolor": "#E5ECF6",
           "caxis": {
            "gridcolor": "white",
            "linecolor": "white",
            "ticks": ""
           }
          },
          "title": {
           "x": 0.05
          },
          "xaxis": {
           "automargin": true,
           "gridcolor": "white",
           "linecolor": "white",
           "ticks": "",
           "title": {
            "standoff": 15
           },
           "zerolinecolor": "white",
           "zerolinewidth": 2
          },
          "yaxis": {
           "automargin": true,
           "gridcolor": "white",
           "linecolor": "white",
           "ticks": "",
           "title": {
            "standoff": 15
           },
           "zerolinecolor": "white",
           "zerolinewidth": 2
          }
         }
        },
        "title": {
         "text": "Original Brightness Contrast"
        },
        "width": 1000,
        "xaxis": {
         "anchor": "y",
         "domain": [
          0,
          0.98
         ],
         "title": {
          "text": "num_neurons"
         },
         "type": "category"
        },
        "xaxis2": {
         "anchor": "y2",
         "domain": [
          0,
          0.98
         ],
         "matches": "x",
         "showticklabels": false,
         "type": "category"
        },
        "xaxis3": {
         "anchor": "y3",
         "domain": [
          0,
          0.98
         ],
         "matches": "x",
         "showticklabels": false,
         "type": "category"
        },
        "xaxis4": {
         "anchor": "y4",
         "domain": [
          0,
          0.98
         ],
         "matches": "x",
         "showticklabels": false,
         "type": "category"
        },
        "xaxis5": {
         "anchor": "y5",
         "domain": [
          0,
          0.98
         ],
         "matches": "x",
         "showticklabels": false,
         "type": "category"
        },
        "xaxis6": {
         "anchor": "y6",
         "domain": [
          0,
          0.98
         ],
         "matches": "x",
         "showticklabels": false,
         "type": "category"
        },
        "xaxis7": {
         "anchor": "y7",
         "domain": [
          0,
          0.98
         ],
         "matches": "x",
         "showticklabels": false,
         "type": "category"
        },
        "yaxis": {
         "anchor": "x",
         "domain": [
          0,
          0.11714285714285715
         ],
         "range": [
          0,
          1
         ],
         "title": {
          "text": "final_score"
         }
        },
        "yaxis2": {
         "anchor": "x2",
         "domain": [
          0.14714285714285713,
          0.2642857142857143
         ],
         "matches": "y",
         "range": [
          0,
          1
         ],
         "title": {
          "text": "final_score"
         }
        },
        "yaxis3": {
         "anchor": "x3",
         "domain": [
          0.29428571428571426,
          0.4114285714285714
         ],
         "matches": "y",
         "range": [
          0,
          1
         ],
         "title": {
          "text": "final_score"
         }
        },
        "yaxis4": {
         "anchor": "x4",
         "domain": [
          0.4414285714285714,
          0.5585714285714285
         ],
         "matches": "y",
         "range": [
          0,
          1
         ],
         "title": {
          "text": "final_score"
         }
        },
        "yaxis5": {
         "anchor": "x5",
         "domain": [
          0.5885714285714285,
          0.7057142857142856
         ],
         "matches": "y",
         "range": [
          0,
          1
         ],
         "title": {
          "text": "final_score"
         }
        },
        "yaxis6": {
         "anchor": "x6",
         "domain": [
          0.7357142857142858,
          0.8528571428571429
         ],
         "matches": "y",
         "range": [
          0,
          1
         ],
         "title": {
          "text": "final_score"
         }
        },
        "yaxis7": {
         "anchor": "x7",
         "domain": [
          0.8828571428571428,
          0.9999999999999999
         ],
         "matches": "y",
         "range": [
          0,
          1
         ],
         "title": {
          "text": "final_score"
         }
        }
       }
      }
     },
     "metadata": {},
     "output_type": "display_data"
    }
   ],
   "source": [
    "title = \"Original_Brightness_Contrast\"\n",
    "\n",
    "df = dict_df.get(title)\n",
    "fig = px.bar(\n",
    "    df, \n",
    "    x=\"num_neurons\", \n",
    "    y=\"final_score\", \n",
    "    color=\"activation\",\n",
    "    facet_row=\"batch_size\",\n",
    "    barmode=\"group\", \n",
    "    text_auto=True, \n",
    "    range_y=(0, 1),\n",
    "    title=title.replace(\"_\", \" \"),\n",
    "    height=2000,\n",
    "    width=1000,\n",
    ")\n",
    "fig.update_xaxes(type=\"category\")\n",
    "fig.show()"
   ]
  },
  {
   "cell_type": "code",
   "execution_count": 13,
   "id": "1e9c207d",
   "metadata": {},
   "outputs": [
    {
     "data": {
      "application/vnd.plotly.v1+json": {
       "config": {
        "plotlyServerURL": "https://plot.ly"
       },
       "data": [
        {
         "alignmentgroup": "True",
         "hovertemplate": "activation=sigmoid<br>batch_size=32<br>num_neurons=%{x}<br>final_score=%{y}<extra></extra>",
         "legendgroup": "sigmoid",
         "marker": {
          "color": "#636efa",
          "pattern": {
           "shape": ""
          }
         },
         "name": "sigmoid",
         "offsetgroup": "sigmoid",
         "orientation": "v",
         "showlegend": true,
         "textposition": "auto",
         "texttemplate": "%{y}",
         "type": "bar",
         "x": {
          "bdata": "MgBkAMgAkAEgA0AGgAw=",
          "dtype": "i2"
         },
         "xaxis": "x7",
         "y": {
          "bdata": "8QUaRUSm0D9aHJktuHfSPwj2UCxGBdI/kT9ApKx1zD+dP/5tloHVPxf4fEWh+d0/1N0UC5v+4D8=",
          "dtype": "f8"
         },
         "yaxis": "y7"
        },
        {
         "alignmentgroup": "True",
         "hovertemplate": "activation=sigmoid<br>batch_size=64<br>num_neurons=%{x}<br>final_score=%{y}<extra></extra>",
         "legendgroup": "sigmoid",
         "marker": {
          "color": "#636efa",
          "pattern": {
           "shape": ""
          }
         },
         "name": "sigmoid",
         "offsetgroup": "sigmoid",
         "orientation": "v",
         "showlegend": false,
         "textposition": "auto",
         "texttemplate": "%{y}",
         "type": "bar",
         "x": {
          "bdata": "MgBkAMgAkAEgA0AGgAw=",
          "dtype": "i2"
         },
         "xaxis": "x6",
         "y": {
          "bdata": "TsnO7jF60D94vlbmOCrSP36Z9xBkf9I/kYUsZCELyT+MBHNPvdLWP5hDaC1TS9w/SGrBlx6X4D8=",
          "dtype": "f8"
         },
         "yaxis": "y6"
        },
        {
         "alignmentgroup": "True",
         "hovertemplate": "activation=sigmoid<br>batch_size=128<br>num_neurons=%{x}<br>final_score=%{y}<extra></extra>",
         "legendgroup": "sigmoid",
         "marker": {
          "color": "#636efa",
          "pattern": {
           "shape": ""
          }
         },
         "name": "sigmoid",
         "offsetgroup": "sigmoid",
         "orientation": "v",
         "showlegend": false,
         "textposition": "auto",
         "texttemplate": "%{y}",
         "type": "bar",
         "x": {
          "bdata": "MgBkAMgAkAEgA0AGgAw=",
          "dtype": "i2"
         },
         "xaxis": "x5",
         "y": {
          "bdata": "qOqueEEy0D+8cd1Ksq7RP7Rqtr/DftI/bbcJZuj3zT+quXS2V5jWPy8CGoxUE90/C0hf6TwG4T8=",
          "dtype": "f8"
         },
         "yaxis": "y5"
        },
        {
         "alignmentgroup": "True",
         "hovertemplate": "activation=sigmoid<br>batch_size=256<br>num_neurons=%{x}<br>final_score=%{y}<extra></extra>",
         "legendgroup": "sigmoid",
         "marker": {
          "color": "#636efa",
          "pattern": {
           "shape": ""
          }
         },
         "name": "sigmoid",
         "offsetgroup": "sigmoid",
         "orientation": "v",
         "showlegend": false,
         "textposition": "auto",
         "texttemplate": "%{y}",
         "type": "bar",
         "x": {
          "bdata": "MgBkAMgAkAEgA0AGgAw=",
          "dtype": "i2"
         },
         "xaxis": "x4",
         "y": {
          "bdata": "E6Uk5kADyz+9ebajgsrQP4L/ACStB9M/twKxPC8Vzj9vcx7wFczWP4k+qhd/e94/GH0zFPN84T8=",
          "dtype": "f8"
         },
         "yaxis": "y4"
        },
        {
         "alignmentgroup": "True",
         "hovertemplate": "activation=sigmoid<br>batch_size=512<br>num_neurons=%{x}<br>final_score=%{y}<extra></extra>",
         "legendgroup": "sigmoid",
         "marker": {
          "color": "#636efa",
          "pattern": {
           "shape": ""
          }
         },
         "name": "sigmoid",
         "offsetgroup": "sigmoid",
         "orientation": "v",
         "showlegend": false,
         "textposition": "auto",
         "texttemplate": "%{y}",
         "type": "bar",
         "x": {
          "bdata": "MgBkAMgAkAEgA0AGgAw=",
          "dtype": "i2"
         },
         "xaxis": "x3",
         "y": {
          "bdata": "4Ev8UAsryj+GzcipHX3PP6oJFSTdsNI/oD4AtvCQyz8tR7ypX7PVP4bhMAU/g94/Z89IhpVG4T8=",
          "dtype": "f8"
         },
         "yaxis": "y3"
        },
        {
         "alignmentgroup": "True",
         "hovertemplate": "activation=sigmoid<br>batch_size=1024<br>num_neurons=%{x}<br>final_score=%{y}<extra></extra>",
         "legendgroup": "sigmoid",
         "marker": {
          "color": "#636efa",
          "pattern": {
           "shape": ""
          }
         },
         "name": "sigmoid",
         "offsetgroup": "sigmoid",
         "orientation": "v",
         "showlegend": false,
         "textposition": "auto",
         "texttemplate": "%{y}",
         "type": "bar",
         "x": {
          "bdata": "MgBkAMgAkAEgA0AGgAw=",
          "dtype": "i2"
         },
         "xaxis": "x2",
         "y": {
          "bdata": "m7G3njtuyT8WyNM1jtHQP7+/yFhZYtI/JcRuUCiQyz+PbXtkTrXWP1SUl3Jald0/oQQ28/1m4T8=",
          "dtype": "f8"
         },
         "yaxis": "y2"
        },
        {
         "alignmentgroup": "True",
         "hovertemplate": "activation=sigmoid<br>batch_size=2048<br>num_neurons=%{x}<br>final_score=%{y}<extra></extra>",
         "legendgroup": "sigmoid",
         "marker": {
          "color": "#636efa",
          "pattern": {
           "shape": ""
          }
         },
         "name": "sigmoid",
         "offsetgroup": "sigmoid",
         "orientation": "v",
         "showlegend": false,
         "textposition": "auto",
         "texttemplate": "%{y}",
         "type": "bar",
         "x": {
          "bdata": "MgBkAMgAkAEgA0AGgAw=",
          "dtype": "i2"
         },
         "xaxis": "x",
         "y": {
          "bdata": "jNmjljJsyT9PvvaTGQTSP4H2cCOkd9I/nMBrmDa1zT/Bt4L6ucfVP0Fwc7HqRt0/lGvs+dFS4D8=",
          "dtype": "f8"
         },
         "yaxis": "y"
        },
        {
         "alignmentgroup": "True",
         "hovertemplate": "activation=tanh<br>batch_size=32<br>num_neurons=%{x}<br>final_score=%{y}<extra></extra>",
         "legendgroup": "tanh",
         "marker": {
          "color": "#EF553B",
          "pattern": {
           "shape": ""
          }
         },
         "name": "tanh",
         "offsetgroup": "tanh",
         "orientation": "v",
         "showlegend": true,
         "textposition": "auto",
         "texttemplate": "%{y}",
         "type": "bar",
         "x": {
          "bdata": "MgBkAMgAkAEgA0AGgAw=",
          "dtype": "i2"
         },
         "xaxis": "x7",
         "y": {
          "bdata": "nZib4fOozz/6Ea4h7BjSP6ogfIFGEdE/UVGEv8tXyz/pxnBRcjLVP4ym+4TX6dw/cYzznPAU4D8=",
          "dtype": "f8"
         },
         "yaxis": "y7"
        },
        {
         "alignmentgroup": "True",
         "hovertemplate": "activation=tanh<br>batch_size=64<br>num_neurons=%{x}<br>final_score=%{y}<extra></extra>",
         "legendgroup": "tanh",
         "marker": {
          "color": "#EF553B",
          "pattern": {
           "shape": ""
          }
         },
         "name": "tanh",
         "offsetgroup": "tanh",
         "orientation": "v",
         "showlegend": false,
         "textposition": "auto",
         "texttemplate": "%{y}",
         "type": "bar",
         "x": {
          "bdata": "MgBkAMgAkAEgA0AGgAw=",
          "dtype": "i2"
         },
         "xaxis": "x6",
         "y": {
          "bdata": "HQHsKp8Pyz91i4jfe6XQP1s72ePx888/MTN6Q6Cvyz8vkhW7jYvUP+Fh0vudGdw/THvj4IrG3z8=",
          "dtype": "f8"
         },
         "yaxis": "y6"
        },
        {
         "alignmentgroup": "True",
         "hovertemplate": "activation=tanh<br>batch_size=128<br>num_neurons=%{x}<br>final_score=%{y}<extra></extra>",
         "legendgroup": "tanh",
         "marker": {
          "color": "#EF553B",
          "pattern": {
           "shape": ""
          }
         },
         "name": "tanh",
         "offsetgroup": "tanh",
         "orientation": "v",
         "showlegend": false,
         "textposition": "auto",
         "texttemplate": "%{y}",
         "type": "bar",
         "x": {
          "bdata": "MgBkAMgAkAEgA0AGgAw=",
          "dtype": "i2"
         },
         "xaxis": "x5",
         "y": {
          "bdata": "/O7dtpPQyD+AUDJECZLLPzpNC3IK9c8/0pqUUj1CyT/dXz63yi7UP+AxlvFZcNw/g2HBkkRA4D8=",
          "dtype": "f8"
         },
         "yaxis": "y5"
        },
        {
         "alignmentgroup": "True",
         "hovertemplate": "activation=tanh<br>batch_size=256<br>num_neurons=%{x}<br>final_score=%{y}<extra></extra>",
         "legendgroup": "tanh",
         "marker": {
          "color": "#EF553B",
          "pattern": {
           "shape": ""
          }
         },
         "name": "tanh",
         "offsetgroup": "tanh",
         "orientation": "v",
         "showlegend": false,
         "textposition": "auto",
         "texttemplate": "%{y}",
         "type": "bar",
         "x": {
          "bdata": "MgBkAMgAkAEgA0AGgAw=",
          "dtype": "i2"
         },
         "xaxis": "x4",
         "y": {
          "bdata": "AK1gkDKNxD80DvV4aQLHP2BoYtaxR8o/ulq9/bXKyz88Pey6mj7UPy3sQ+HBJNs/d+sA9AP43z8=",
          "dtype": "f8"
         },
         "yaxis": "y4"
        },
        {
         "alignmentgroup": "True",
         "hovertemplate": "activation=tanh<br>batch_size=512<br>num_neurons=%{x}<br>final_score=%{y}<extra></extra>",
         "legendgroup": "tanh",
         "marker": {
          "color": "#EF553B",
          "pattern": {
           "shape": ""
          }
         },
         "name": "tanh",
         "offsetgroup": "tanh",
         "orientation": "v",
         "showlegend": false,
         "textposition": "auto",
         "texttemplate": "%{y}",
         "type": "bar",
         "x": {
          "bdata": "MgBkAMgAkAEgA0AGgAw=",
          "dtype": "i2"
         },
         "xaxis": "x3",
         "y": {
          "bdata": "KuhnQt9TxT8gdxT1V07HP8OkZEECt8o/87Uyx1ERzD/2iokDKa3TPw7qDRS5H9w/M1wnl30y4D8=",
          "dtype": "f8"
         },
         "yaxis": "y3"
        },
        {
         "alignmentgroup": "True",
         "hovertemplate": "activation=tanh<br>batch_size=1024<br>num_neurons=%{x}<br>final_score=%{y}<extra></extra>",
         "legendgroup": "tanh",
         "marker": {
          "color": "#EF553B",
          "pattern": {
           "shape": ""
          }
         },
         "name": "tanh",
         "offsetgroup": "tanh",
         "orientation": "v",
         "showlegend": false,
         "textposition": "auto",
         "texttemplate": "%{y}",
         "type": "bar",
         "x": {
          "bdata": "MgBkAMgAkAEgA0AGgAw=",
          "dtype": "i2"
         },
         "xaxis": "x2",
         "y": {
          "bdata": "8ZgUdsV4xz+IdpmFMT7IP5N4DK/5rsw/zNETKSQNyj8Iqa/ACEfVPzpuk4JTV9s/Q0d/TaBH4D8=",
          "dtype": "f8"
         },
         "yaxis": "y2"
        },
        {
         "alignmentgroup": "True",
         "hovertemplate": "activation=tanh<br>batch_size=2048<br>num_neurons=%{x}<br>final_score=%{y}<extra></extra>",
         "legendgroup": "tanh",
         "marker": {
          "color": "#EF553B",
          "pattern": {
           "shape": ""
          }
         },
         "name": "tanh",
         "offsetgroup": "tanh",
         "orientation": "v",
         "showlegend": false,
         "textposition": "auto",
         "texttemplate": "%{y}",
         "type": "bar",
         "x": {
          "bdata": "MgBkAMgAkAEgA0AGgAw=",
          "dtype": "i2"
         },
         "xaxis": "x",
         "y": {
          "bdata": "m/2hYkC4xD93hPkoFX/FP9ucB3wFs80/HRB6LzhUyj9TGwOhin3UP3J1Hzq4Ndw/esnnMOQj4D8=",
          "dtype": "f8"
         },
         "yaxis": "y"
        },
        {
         "alignmentgroup": "True",
         "hovertemplate": "activation=relu<br>batch_size=32<br>num_neurons=%{x}<br>final_score=%{y}<extra></extra>",
         "legendgroup": "relu",
         "marker": {
          "color": "#00cc96",
          "pattern": {
           "shape": ""
          }
         },
         "name": "relu",
         "offsetgroup": "relu",
         "orientation": "v",
         "showlegend": true,
         "textposition": "auto",
         "texttemplate": "%{y}",
         "type": "bar",
         "x": {
          "bdata": "MgBkAMgAkAEgA0AGgAw=",
          "dtype": "i2"
         },
         "xaxis": "x7",
         "y": {
          "bdata": "TWcOgJpB0z89YlBqxnHVP2QVfFZ3WNY/ryugxiKMyT8MsUEJbObbPwdE8E8ptOA/FiKVVvPr4T8=",
          "dtype": "f8"
         },
         "yaxis": "y7"
        },
        {
         "alignmentgroup": "True",
         "hovertemplate": "activation=relu<br>batch_size=64<br>num_neurons=%{x}<br>final_score=%{y}<extra></extra>",
         "legendgroup": "relu",
         "marker": {
          "color": "#00cc96",
          "pattern": {
           "shape": ""
          }
         },
         "name": "relu",
         "offsetgroup": "relu",
         "orientation": "v",
         "showlegend": false,
         "textposition": "auto",
         "texttemplate": "%{y}",
         "type": "bar",
         "x": {
          "bdata": "MgBkAMgAkAEgA0AGgAw=",
          "dtype": "i2"
         },
         "xaxis": "x6",
         "y": {
          "bdata": "nGJh0x9L0T+sIcYjsAbVP2Uqm1nR0tY/rfjRv2UHyD9O9wmv07naPwEVHwNaeuA/XYPG7Qjz4T8=",
          "dtype": "f8"
         },
         "yaxis": "y6"
        },
        {
         "alignmentgroup": "True",
         "hovertemplate": "activation=relu<br>batch_size=128<br>num_neurons=%{x}<br>final_score=%{y}<extra></extra>",
         "legendgroup": "relu",
         "marker": {
          "color": "#00cc96",
          "pattern": {
           "shape": ""
          }
         },
         "name": "relu",
         "offsetgroup": "relu",
         "orientation": "v",
         "showlegend": false,
         "textposition": "auto",
         "texttemplate": "%{y}",
         "type": "bar",
         "x": {
          "bdata": "MgBkAMgAkAEgA0AGgAw=",
          "dtype": "i2"
         },
         "xaxis": "x5",
         "y": {
          "bdata": "dqw25SYK0T9P2+7vQ5rRPzQ5xDH0aNQ/aF6NDZZKxz9pcEAJ2evaP7WZOyLPs+A/Ojh/aeH74T8=",
          "dtype": "f8"
         },
         "yaxis": "y5"
        },
        {
         "alignmentgroup": "True",
         "hovertemplate": "activation=relu<br>batch_size=256<br>num_neurons=%{x}<br>final_score=%{y}<extra></extra>",
         "legendgroup": "relu",
         "marker": {
          "color": "#00cc96",
          "pattern": {
           "shape": ""
          }
         },
         "name": "relu",
         "offsetgroup": "relu",
         "orientation": "v",
         "showlegend": false,
         "textposition": "auto",
         "texttemplate": "%{y}",
         "type": "bar",
         "x": {
          "bdata": "MgBkAMgAkAEgA0AGgAw=",
          "dtype": "i2"
         },
         "xaxis": "x4",
         "y": {
          "bdata": "PKY74JidzD9RC5j/VsLOP9jBH0Ft4dQ/jAdyUQUtxj/c0YrioJzaPxZHZgvuneA/RiFD2zAm4j8=",
          "dtype": "f8"
         },
         "yaxis": "y4"
        },
        {
         "alignmentgroup": "True",
         "hovertemplate": "activation=relu<br>batch_size=512<br>num_neurons=%{x}<br>final_score=%{y}<extra></extra>",
         "legendgroup": "relu",
         "marker": {
          "color": "#00cc96",
          "pattern": {
           "shape": ""
          }
         },
         "name": "relu",
         "offsetgroup": "relu",
         "orientation": "v",
         "showlegend": false,
         "textposition": "auto",
         "texttemplate": "%{y}",
         "type": "bar",
         "x": {
          "bdata": "MgBkAMgAkAEgA0AGgAw=",
          "dtype": "i2"
         },
         "xaxis": "x3",
         "y": {
          "bdata": "gX3cUdRfyT+o7PbSUBjOP7RGCbjQv9I/UaNsh2BWxT9uEhUptwfbP52eLOC03uA/ypoicxc74j8=",
          "dtype": "f8"
         },
         "yaxis": "y3"
        },
        {
         "alignmentgroup": "True",
         "hovertemplate": "activation=relu<br>batch_size=1024<br>num_neurons=%{x}<br>final_score=%{y}<extra></extra>",
         "legendgroup": "relu",
         "marker": {
          "color": "#00cc96",
          "pattern": {
           "shape": ""
          }
         },
         "name": "relu",
         "offsetgroup": "relu",
         "orientation": "v",
         "showlegend": false,
         "textposition": "auto",
         "texttemplate": "%{y}",
         "type": "bar",
         "x": {
          "bdata": "MgBkAMgAkAEgA0AGgAw=",
          "dtype": "i2"
         },
         "xaxis": "x2",
         "y": {
          "bdata": "IZGgSWsLyj/oFuvJlUjMP5vpOQcfstU/KYuBKtDcxz+SsUW/FWfaPzYwWiZN2+A/XZjl8GJt4j8=",
          "dtype": "f8"
         },
         "yaxis": "y2"
        },
        {
         "alignmentgroup": "True",
         "hovertemplate": "activation=relu<br>batch_size=2048<br>num_neurons=%{x}<br>final_score=%{y}<extra></extra>",
         "legendgroup": "relu",
         "marker": {
          "color": "#00cc96",
          "pattern": {
           "shape": ""
          }
         },
         "name": "relu",
         "offsetgroup": "relu",
         "orientation": "v",
         "showlegend": false,
         "textposition": "auto",
         "texttemplate": "%{y}",
         "type": "bar",
         "x": {
          "bdata": "MgBkAMgAkAEgA0AGgAw=",
          "dtype": "i2"
         },
         "xaxis": "x",
         "y": {
          "bdata": "W/k1yC6uxj9uAxofT0TOP3r42Zi+19M/aKDpGOwTyD+RMvr5IhfbP9UUBsGn0OA/k7FFvxVn4j8=",
          "dtype": "f8"
         },
         "yaxis": "y"
        },
        {
         "alignmentgroup": "True",
         "hovertemplate": "activation=leaky_relu<br>batch_size=32<br>num_neurons=%{x}<br>final_score=%{y}<extra></extra>",
         "legendgroup": "leaky_relu",
         "marker": {
          "color": "#ab63fa",
          "pattern": {
           "shape": ""
          }
         },
         "name": "leaky_relu",
         "offsetgroup": "leaky_relu",
         "orientation": "v",
         "showlegend": true,
         "textposition": "auto",
         "texttemplate": "%{y}",
         "type": "bar",
         "x": {
          "bdata": "MgBkAMgAkAEgA0AGgAw=",
          "dtype": "i2"
         },
         "xaxis": "x7",
         "y": {
          "bdata": "K3AdE3kx0D8/5wY5GPXQPyqvwSz0HMo/rGLYjJza0T9oEX+ciQ3dPw2ZSfkrFOE/c1GYJyd54T8=",
          "dtype": "f8"
         },
         "yaxis": "y7"
        },
        {
         "alignmentgroup": "True",
         "hovertemplate": "activation=leaky_relu<br>batch_size=64<br>num_neurons=%{x}<br>final_score=%{y}<extra></extra>",
         "legendgroup": "leaky_relu",
         "marker": {
          "color": "#ab63fa",
          "pattern": {
           "shape": ""
          }
         },
         "name": "leaky_relu",
         "offsetgroup": "leaky_relu",
         "orientation": "v",
         "showlegend": false,
         "textposition": "auto",
         "texttemplate": "%{y}",
         "type": "bar",
         "x": {
          "bdata": "MgBkAMgAkAEgA0AGgAw=",
          "dtype": "i2"
         },
         "xaxis": "x6",
         "y": {
          "bdata": "zvLBLs9xyj83QucsLnrHP6z+z8P1u8Y/iPEIrEG90T9/GB3h9MzcPz4tzQMriOA/TZhuN+bd4T8=",
          "dtype": "f8"
         },
         "yaxis": "y6"
        },
        {
         "alignmentgroup": "True",
         "hovertemplate": "activation=leaky_relu<br>batch_size=128<br>num_neurons=%{x}<br>final_score=%{y}<extra></extra>",
         "legendgroup": "leaky_relu",
         "marker": {
          "color": "#ab63fa",
          "pattern": {
           "shape": ""
          }
         },
         "name": "leaky_relu",
         "offsetgroup": "leaky_relu",
         "orientation": "v",
         "showlegend": false,
         "textposition": "auto",
         "texttemplate": "%{y}",
         "type": "bar",
         "x": {
          "bdata": "MgBkAMgAkAEgA0AGgAw=",
          "dtype": "i2"
         },
         "xaxis": "x5",
         "y": {
          "bdata": "HRZ4M8gIyT9tSeDpYdfFPz9iUGrGccU/CiaNNoqu0T8hPgHanZjeP6ZOJEe3z+A/fZGLvWLi4D8=",
          "dtype": "f8"
         },
         "yaxis": "y5"
        },
        {
         "alignmentgroup": "True",
         "hovertemplate": "activation=leaky_relu<br>batch_size=256<br>num_neurons=%{x}<br>final_score=%{y}<extra></extra>",
         "legendgroup": "leaky_relu",
         "marker": {
          "color": "#ab63fa",
          "pattern": {
           "shape": ""
          }
         },
         "name": "leaky_relu",
         "offsetgroup": "leaky_relu",
         "orientation": "v",
         "showlegend": false,
         "textposition": "auto",
         "texttemplate": "%{y}",
         "type": "bar",
         "x": {
          "bdata": "MgBkAMgAkAEgA0AGgAw=",
          "dtype": "i2"
         },
         "xaxis": "x4",
         "y": {
          "bdata": "iKRnQAT/xD+mU2ujDhDGPwrxCdDuxMQ/lqOUVxeZ0T8FvDp/j9bdP6GIoh/m9OA/1q9sRSpA4T8=",
          "dtype": "f8"
         },
         "yaxis": "y4"
        },
        {
         "alignmentgroup": "True",
         "hovertemplate": "activation=leaky_relu<br>batch_size=512<br>num_neurons=%{x}<br>final_score=%{y}<extra></extra>",
         "legendgroup": "leaky_relu",
         "marker": {
          "color": "#ab63fa",
          "pattern": {
           "shape": ""
          }
         },
         "name": "leaky_relu",
         "offsetgroup": "leaky_relu",
         "orientation": "v",
         "showlegend": false,
         "textposition": "auto",
         "texttemplate": "%{y}",
         "type": "bar",
         "x": {
          "bdata": "MgBkAMgAkAEgA0AGgAw=",
          "dtype": "i2"
         },
         "xaxis": "x3",
         "y": {
          "bdata": "7EqWbe1DxD8kFlcYvY7FP9Z5xTGHY8U/B9ihKOP60D8smRF3wzDdPyh+znp3/+A/PYDZeMd54T8=",
          "dtype": "f8"
         },
         "yaxis": "y3"
        },
        {
         "alignmentgroup": "True",
         "hovertemplate": "activation=leaky_relu<br>batch_size=1024<br>num_neurons=%{x}<br>final_score=%{y}<extra></extra>",
         "legendgroup": "leaky_relu",
         "marker": {
          "color": "#ab63fa",
          "pattern": {
           "shape": ""
          }
         },
         "name": "leaky_relu",
         "offsetgroup": "leaky_relu",
         "orientation": "v",
         "showlegend": false,
         "textposition": "auto",
         "texttemplate": "%{y}",
         "type": "bar",
         "x": {
          "bdata": "MgBkAMgAkAEgA0AGgAw=",
          "dtype": "i2"
         },
         "xaxis": "x2",
         "y": {
          "bdata": "6tL/U8McxT9a5xXHHI7FP1IJ4594XcM/mflYvo5o0T+FzBEC5QjeP40Ouvf+1uA/nQlXWvOk4T8=",
          "dtype": "f8"
         },
         "yaxis": "y2"
        },
        {
         "alignmentgroup": "True",
         "hovertemplate": "activation=leaky_relu<br>batch_size=2048<br>num_neurons=%{x}<br>final_score=%{y}<extra></extra>",
         "legendgroup": "leaky_relu",
         "marker": {
          "color": "#ab63fa",
          "pattern": {
           "shape": ""
          }
         },
         "name": "leaky_relu",
         "offsetgroup": "leaky_relu",
         "orientation": "v",
         "showlegend": false,
         "textposition": "auto",
         "texttemplate": "%{y}",
         "type": "bar",
         "x": {
          "bdata": "MgBkAMgAkAEgA0AGgAw=",
          "dtype": "i2"
         },
         "xaxis": "x",
         "y": {
          "bdata": "WIGfrgSHxz87IPRecKjEPz1oTm5WJsQ/HGSqUdw40j8UjHUuyLzeP344gUQ2POE/xhNrWiNO4T8=",
          "dtype": "f8"
         },
         "yaxis": "y"
        },
        {
         "alignmentgroup": "True",
         "hovertemplate": "activation=silu<br>batch_size=32<br>num_neurons=%{x}<br>final_score=%{y}<extra></extra>",
         "legendgroup": "silu",
         "marker": {
          "color": "#FFA15A",
          "pattern": {
           "shape": ""
          }
         },
         "name": "silu",
         "offsetgroup": "silu",
         "orientation": "v",
         "showlegend": true,
         "textposition": "auto",
         "texttemplate": "%{y}",
         "type": "bar",
         "x": {
          "bdata": "MgBkAMgAkAEgA0AGgAw=",
          "dtype": "i2"
         },
         "xaxis": "x7",
         "y": {
          "bdata": "J8JM63qs0j8R1INT6jXUP5QvR+KewdU/JTcFHmjzxT/N6TEuxuHZP1ACm/l+s+A/WWYVokvZ4j8=",
          "dtype": "f8"
         },
         "yaxis": "y7"
        },
        {
         "alignmentgroup": "True",
         "hovertemplate": "activation=silu<br>batch_size=64<br>num_neurons=%{x}<br>final_score=%{y}<extra></extra>",
         "legendgroup": "silu",
         "marker": {
          "color": "#FFA15A",
          "pattern": {
           "shape": ""
          }
         },
         "name": "silu",
         "offsetgroup": "silu",
         "orientation": "v",
         "showlegend": false,
         "textposition": "auto",
         "texttemplate": "%{y}",
         "type": "bar",
         "x": {
          "bdata": "MgBkAMgAkAEgA0AGgAw=",
          "dtype": "i2"
         },
         "xaxis": "x6",
         "y": {
          "bdata": "TY66idVa0j8dNtyWCXjVPzq9fEig+9U/wcYQ/1IMxT9qoHwTHZXaP/WP0F+A7eA/PifP/5rT4T8=",
          "dtype": "f8"
         },
         "yaxis": "y6"
        },
        {
         "alignmentgroup": "True",
         "hovertemplate": "activation=silu<br>batch_size=128<br>num_neurons=%{x}<br>final_score=%{y}<extra></extra>",
         "legendgroup": "silu",
         "marker": {
          "color": "#FFA15A",
          "pattern": {
           "shape": ""
          }
         },
         "name": "silu",
         "offsetgroup": "silu",
         "orientation": "v",
         "showlegend": false,
         "textposition": "auto",
         "texttemplate": "%{y}",
         "type": "bar",
         "x": {
          "bdata": "MgBkAMgAkAEgA0AGgAw=",
          "dtype": "i2"
         },
         "xaxis": "x5",
         "y": {
          "bdata": "8qfIb8C/yz+DU+o15G/SP2HirU+609Q/2wwMTcw6xj9GCAEph17bP/9LV8nTyOA/FislV/x74j8=",
          "dtype": "f8"
         },
         "yaxis": "y5"
        },
        {
         "alignmentgroup": "True",
         "hovertemplate": "activation=silu<br>batch_size=256<br>num_neurons=%{x}<br>final_score=%{y}<extra></extra>",
         "legendgroup": "silu",
         "marker": {
          "color": "#FFA15A",
          "pattern": {
           "shape": ""
          }
         },
         "name": "silu",
         "offsetgroup": "silu",
         "orientation": "v",
         "showlegend": false,
         "textposition": "auto",
         "texttemplate": "%{y}",
         "type": "bar",
         "x": {
          "bdata": "MgBkAMgAkAEgA0AGgAw=",
          "dtype": "i2"
         },
         "xaxis": "x4",
         "y": {
          "bdata": "xj7NDd81yT+kuSjMk5PMP1rkg8qjstM/rRDwxAfcxz+qur5YwY3aP763XAVYxeA/vW7eSGpU4j8=",
          "dtype": "f8"
         },
         "yaxis": "y4"
        },
        {
         "alignmentgroup": "True",
         "hovertemplate": "activation=silu<br>batch_size=512<br>num_neurons=%{x}<br>final_score=%{y}<extra></extra>",
         "legendgroup": "silu",
         "marker": {
          "color": "#FFA15A",
          "pattern": {
           "shape": ""
          }
         },
         "name": "silu",
         "offsetgroup": "silu",
         "orientation": "v",
         "showlegend": false,
         "textposition": "auto",
         "texttemplate": "%{y}",
         "type": "bar",
         "x": {
          "bdata": "MgBkAMgAkAEgA0AGgAw=",
          "dtype": "i2"
         },
         "xaxis": "x3",
         "y": {
          "bdata": "EqiQ7Vfcxz8WJksAdLrKP0VlwUs009M/Qa08diXLxj93GvNb3qvbP0EXQ0NcnuA//fZJCpVt4j8=",
          "dtype": "f8"
         },
         "yaxis": "y3"
        },
        {
         "alignmentgroup": "True",
         "hovertemplate": "activation=silu<br>batch_size=1024<br>num_neurons=%{x}<br>final_score=%{y}<extra></extra>",
         "legendgroup": "silu",
         "marker": {
          "color": "#FFA15A",
          "pattern": {
           "shape": ""
          }
         },
         "name": "silu",
         "offsetgroup": "silu",
         "orientation": "v",
         "showlegend": false,
         "textposition": "auto",
         "texttemplate": "%{y}",
         "type": "bar",
         "x": {
          "bdata": "MgBkAMgAkAEgA0AGgAw=",
          "dtype": "i2"
         },
         "xaxis": "x2",
         "y": {
          "bdata": "QbM6erV/xT8fKJg02ijKP/aKiQMprdM/WsBpveF0xj8Je3QAZwfbP1YxbEZO7eA/i60dNm+R4j8=",
          "dtype": "f8"
         },
         "yaxis": "y2"
        },
        {
         "alignmentgroup": "True",
         "hovertemplate": "activation=silu<br>batch_size=2048<br>num_neurons=%{x}<br>final_score=%{y}<extra></extra>",
         "legendgroup": "silu",
         "marker": {
          "color": "#FFA15A",
          "pattern": {
           "shape": ""
          }
         },
         "name": "silu",
         "offsetgroup": "silu",
         "orientation": "v",
         "showlegend": false,
         "textposition": "auto",
         "texttemplate": "%{y}",
         "type": "bar",
         "x": {
          "bdata": "MgBkAMgAkAEgA0AGgAw=",
          "dtype": "i2"
         },
         "xaxis": "x",
         "y": {
          "bdata": "Dj+I2Mb5xz+4Sy/5HIbMP2rk+oMgQtQ/xTKrEF3Kxj9ILK4weh3bP8qzZCXBAuE/p0gmQycb4j8=",
          "dtype": "f8"
         },
         "yaxis": "y"
        },
        {
         "alignmentgroup": "True",
         "hovertemplate": "activation=mish<br>batch_size=32<br>num_neurons=%{x}<br>final_score=%{y}<extra></extra>",
         "legendgroup": "mish",
         "marker": {
          "color": "#19d3f3",
          "pattern": {
           "shape": ""
          }
         },
         "name": "mish",
         "offsetgroup": "mish",
         "orientation": "v",
         "showlegend": true,
         "textposition": "auto",
         "texttemplate": "%{y}",
         "type": "bar",
         "x": {
          "bdata": "MgBkAMgAkAEgA0AGgAw=",
          "dtype": "i2"
         },
         "xaxis": "x7",
         "y": {
          "bdata": "MhWEL9Ao0j+j8GCSDeLUP6whxiOwBtU/9k91nsyNxT+TpJIPvYnbP1arJMUl+OA/WjLc3Rnl4T8=",
          "dtype": "f8"
         },
         "yaxis": "y7"
        },
        {
         "alignmentgroup": "True",
         "hovertemplate": "activation=mish<br>batch_size=64<br>num_neurons=%{x}<br>final_score=%{y}<extra></extra>",
         "legendgroup": "mish",
         "marker": {
          "color": "#19d3f3",
          "pattern": {
           "shape": ""
          }
         },
         "name": "mish",
         "offsetgroup": "mish",
         "orientation": "v",
         "showlegend": false,
         "textposition": "auto",
         "texttemplate": "%{y}",
         "type": "bar",
         "x": {
          "bdata": "MgBkAMgAkAEgA0AGgAw=",
          "dtype": "i2"
         },
         "xaxis": "x6",
         "y": {
          "bdata": "lF45Snl10T8rIH2l8xjUP9LX8BGpR9U/L12SVPKhxz/08EYsrjDaP7x+kPoKjOA/opMNdS/s4T8=",
          "dtype": "f8"
         },
         "yaxis": "y6"
        },
        {
         "alignmentgroup": "True",
         "hovertemplate": "activation=mish<br>batch_size=128<br>num_neurons=%{x}<br>final_score=%{y}<extra></extra>",
         "legendgroup": "mish",
         "marker": {
          "color": "#19d3f3",
          "pattern": {
           "shape": ""
          }
         },
         "name": "mish",
         "offsetgroup": "mish",
         "orientation": "v",
         "showlegend": false,
         "textposition": "auto",
         "texttemplate": "%{y}",
         "type": "bar",
         "x": {
          "bdata": "MgBkAMgAkAEgA0AGgAw=",
          "dtype": "i2"
         },
         "xaxis": "x5",
         "y": {
          "bdata": "K0W7X71J0D+jOgP8AkbSP+ZJAOG/SdY/xkrJFf+exj9uBoYmZh3bP0NcnlD6weA/bRM51r764T8=",
          "dtype": "f8"
         },
         "yaxis": "y5"
        },
        {
         "alignmentgroup": "True",
         "hovertemplate": "activation=mish<br>batch_size=256<br>num_neurons=%{x}<br>final_score=%{y}<extra></extra>",
         "legendgroup": "mish",
         "marker": {
          "color": "#19d3f3",
          "pattern": {
           "shape": ""
          }
         },
         "name": "mish",
         "offsetgroup": "mish",
         "orientation": "v",
         "showlegend": false,
         "textposition": "auto",
         "texttemplate": "%{y}",
         "type": "bar",
         "x": {
          "bdata": "MgBkAMgAkAEgA0AGgAw=",
          "dtype": "i2"
         },
         "xaxis": "x4",
         "y": {
          "bdata": "iY/bN9sFxz9JJNXXqQHMP3H0sQ8YAtQ/v28o69NJxj/W5YBenJvaP8IgZRrpp+A/fzddly5J4j8=",
          "dtype": "f8"
         },
         "yaxis": "y4"
        },
        {
         "alignmentgroup": "True",
         "hovertemplate": "activation=mish<br>batch_size=512<br>num_neurons=%{x}<br>final_score=%{y}<extra></extra>",
         "legendgroup": "mish",
         "marker": {
          "color": "#19d3f3",
          "pattern": {
           "shape": ""
          }
         },
         "name": "mish",
         "offsetgroup": "mish",
         "orientation": "v",
         "showlegend": false,
         "textposition": "auto",
         "texttemplate": "%{y}",
         "type": "bar",
         "x": {
          "bdata": "MgBkAMgAkAEgA0AGgAw=",
          "dtype": "i2"
         },
         "xaxis": "x3",
         "y": {
          "bdata": "EvboAM4Oxj8Ow2EKfgbNP7LnR0uB4dQ/7la4am+vxj+RShj/xOvaP4YnisqCl+A/1q5ImCJN4j8=",
          "dtype": "f8"
         },
         "yaxis": "y3"
        },
        {
         "alignmentgroup": "True",
         "hovertemplate": "activation=mish<br>batch_size=1024<br>num_neurons=%{x}<br>final_score=%{y}<extra></extra>",
         "legendgroup": "mish",
         "marker": {
          "color": "#19d3f3",
          "pattern": {
           "shape": ""
          }
         },
         "name": "mish",
         "offsetgroup": "mish",
         "orientation": "v",
         "showlegend": false,
         "textposition": "auto",
         "texttemplate": "%{y}",
         "type": "bar",
         "x": {
          "bdata": "MgBkAMgAkAEgA0AGgAw=",
          "dtype": "i2"
         },
         "xaxis": "x2",
         "y": {
          "bdata": "aGSLESb/xT8020xnDoDKPx1u8fkdPdQ/ZM7Y7slOyD/qmDWR0PLaP6EaeaNf1OA/2f8yqBFb4j8=",
          "dtype": "f8"
         },
         "yaxis": "y2"
        },
        {
         "alignmentgroup": "True",
         "hovertemplate": "activation=mish<br>batch_size=2048<br>num_neurons=%{x}<br>final_score=%{y}<extra></extra>",
         "legendgroup": "mish",
         "marker": {
          "color": "#19d3f3",
          "pattern": {
           "shape": ""
          }
         },
         "name": "mish",
         "offsetgroup": "mish",
         "orientation": "v",
         "showlegend": false,
         "textposition": "auto",
         "texttemplate": "%{y}",
         "type": "bar",
         "x": {
          "bdata": "MgBkAMgAkAEgA0AGgAw=",
          "dtype": "i2"
         },
         "xaxis": "x",
         "y": {
          "bdata": "RO+YgXuUxz9ODyi0dY7KP5DSOtUtSNM/RShljMjNxz8t3P408GvaP7GLGNuq3uA/RG6+UQzi4T8=",
          "dtype": "f8"
         },
         "yaxis": "y"
        }
       ],
       "layout": {
        "annotations": [
         {
          "font": {},
          "showarrow": false,
          "text": "batch_size=2048",
          "textangle": 90,
          "x": 0.98,
          "xanchor": "left",
          "xref": "paper",
          "y": 0.05857142857142857,
          "yanchor": "middle",
          "yref": "paper"
         },
         {
          "font": {},
          "showarrow": false,
          "text": "batch_size=1024",
          "textangle": 90,
          "x": 0.98,
          "xanchor": "left",
          "xref": "paper",
          "y": 0.2057142857142857,
          "yanchor": "middle",
          "yref": "paper"
         },
         {
          "font": {},
          "showarrow": false,
          "text": "batch_size=512",
          "textangle": 90,
          "x": 0.98,
          "xanchor": "left",
          "xref": "paper",
          "y": 0.35285714285714287,
          "yanchor": "middle",
          "yref": "paper"
         },
         {
          "font": {},
          "showarrow": false,
          "text": "batch_size=256",
          "textangle": 90,
          "x": 0.98,
          "xanchor": "left",
          "xref": "paper",
          "y": 0.49999999999999994,
          "yanchor": "middle",
          "yref": "paper"
         },
         {
          "font": {},
          "showarrow": false,
          "text": "batch_size=128",
          "textangle": 90,
          "x": 0.98,
          "xanchor": "left",
          "xref": "paper",
          "y": 0.647142857142857,
          "yanchor": "middle",
          "yref": "paper"
         },
         {
          "font": {},
          "showarrow": false,
          "text": "batch_size=64",
          "textangle": 90,
          "x": 0.98,
          "xanchor": "left",
          "xref": "paper",
          "y": 0.7942857142857143,
          "yanchor": "middle",
          "yref": "paper"
         },
         {
          "font": {},
          "showarrow": false,
          "text": "batch_size=32",
          "textangle": 90,
          "x": 0.98,
          "xanchor": "left",
          "xref": "paper",
          "y": 0.9414285714285713,
          "yanchor": "middle",
          "yref": "paper"
         }
        ],
        "barmode": "group",
        "height": 2000,
        "legend": {
         "title": {
          "text": "activation"
         },
         "tracegroupgap": 0
        },
        "template": {
         "data": {
          "bar": [
           {
            "error_x": {
             "color": "#2a3f5f"
            },
            "error_y": {
             "color": "#2a3f5f"
            },
            "marker": {
             "line": {
              "color": "#E5ECF6",
              "width": 0.5
             },
             "pattern": {
              "fillmode": "overlay",
              "size": 10,
              "solidity": 0.2
             }
            },
            "type": "bar"
           }
          ],
          "barpolar": [
           {
            "marker": {
             "line": {
              "color": "#E5ECF6",
              "width": 0.5
             },
             "pattern": {
              "fillmode": "overlay",
              "size": 10,
              "solidity": 0.2
             }
            },
            "type": "barpolar"
           }
          ],
          "carpet": [
           {
            "aaxis": {
             "endlinecolor": "#2a3f5f",
             "gridcolor": "white",
             "linecolor": "white",
             "minorgridcolor": "white",
             "startlinecolor": "#2a3f5f"
            },
            "baxis": {
             "endlinecolor": "#2a3f5f",
             "gridcolor": "white",
             "linecolor": "white",
             "minorgridcolor": "white",
             "startlinecolor": "#2a3f5f"
            },
            "type": "carpet"
           }
          ],
          "choropleth": [
           {
            "colorbar": {
             "outlinewidth": 0,
             "ticks": ""
            },
            "type": "choropleth"
           }
          ],
          "contour": [
           {
            "colorbar": {
             "outlinewidth": 0,
             "ticks": ""
            },
            "colorscale": [
             [
              0,
              "#0d0887"
             ],
             [
              0.1111111111111111,
              "#46039f"
             ],
             [
              0.2222222222222222,
              "#7201a8"
             ],
             [
              0.3333333333333333,
              "#9c179e"
             ],
             [
              0.4444444444444444,
              "#bd3786"
             ],
             [
              0.5555555555555556,
              "#d8576b"
             ],
             [
              0.6666666666666666,
              "#ed7953"
             ],
             [
              0.7777777777777778,
              "#fb9f3a"
             ],
             [
              0.8888888888888888,
              "#fdca26"
             ],
             [
              1,
              "#f0f921"
             ]
            ],
            "type": "contour"
           }
          ],
          "contourcarpet": [
           {
            "colorbar": {
             "outlinewidth": 0,
             "ticks": ""
            },
            "type": "contourcarpet"
           }
          ],
          "heatmap": [
           {
            "colorbar": {
             "outlinewidth": 0,
             "ticks": ""
            },
            "colorscale": [
             [
              0,
              "#0d0887"
             ],
             [
              0.1111111111111111,
              "#46039f"
             ],
             [
              0.2222222222222222,
              "#7201a8"
             ],
             [
              0.3333333333333333,
              "#9c179e"
             ],
             [
              0.4444444444444444,
              "#bd3786"
             ],
             [
              0.5555555555555556,
              "#d8576b"
             ],
             [
              0.6666666666666666,
              "#ed7953"
             ],
             [
              0.7777777777777778,
              "#fb9f3a"
             ],
             [
              0.8888888888888888,
              "#fdca26"
             ],
             [
              1,
              "#f0f921"
             ]
            ],
            "type": "heatmap"
           }
          ],
          "histogram": [
           {
            "marker": {
             "pattern": {
              "fillmode": "overlay",
              "size": 10,
              "solidity": 0.2
             }
            },
            "type": "histogram"
           }
          ],
          "histogram2d": [
           {
            "colorbar": {
             "outlinewidth": 0,
             "ticks": ""
            },
            "colorscale": [
             [
              0,
              "#0d0887"
             ],
             [
              0.1111111111111111,
              "#46039f"
             ],
             [
              0.2222222222222222,
              "#7201a8"
             ],
             [
              0.3333333333333333,
              "#9c179e"
             ],
             [
              0.4444444444444444,
              "#bd3786"
             ],
             [
              0.5555555555555556,
              "#d8576b"
             ],
             [
              0.6666666666666666,
              "#ed7953"
             ],
             [
              0.7777777777777778,
              "#fb9f3a"
             ],
             [
              0.8888888888888888,
              "#fdca26"
             ],
             [
              1,
              "#f0f921"
             ]
            ],
            "type": "histogram2d"
           }
          ],
          "histogram2dcontour": [
           {
            "colorbar": {
             "outlinewidth": 0,
             "ticks": ""
            },
            "colorscale": [
             [
              0,
              "#0d0887"
             ],
             [
              0.1111111111111111,
              "#46039f"
             ],
             [
              0.2222222222222222,
              "#7201a8"
             ],
             [
              0.3333333333333333,
              "#9c179e"
             ],
             [
              0.4444444444444444,
              "#bd3786"
             ],
             [
              0.5555555555555556,
              "#d8576b"
             ],
             [
              0.6666666666666666,
              "#ed7953"
             ],
             [
              0.7777777777777778,
              "#fb9f3a"
             ],
             [
              0.8888888888888888,
              "#fdca26"
             ],
             [
              1,
              "#f0f921"
             ]
            ],
            "type": "histogram2dcontour"
           }
          ],
          "mesh3d": [
           {
            "colorbar": {
             "outlinewidth": 0,
             "ticks": ""
            },
            "type": "mesh3d"
           }
          ],
          "parcoords": [
           {
            "line": {
             "colorbar": {
              "outlinewidth": 0,
              "ticks": ""
             }
            },
            "type": "parcoords"
           }
          ],
          "pie": [
           {
            "automargin": true,
            "type": "pie"
           }
          ],
          "scatter": [
           {
            "fillpattern": {
             "fillmode": "overlay",
             "size": 10,
             "solidity": 0.2
            },
            "type": "scatter"
           }
          ],
          "scatter3d": [
           {
            "line": {
             "colorbar": {
              "outlinewidth": 0,
              "ticks": ""
             }
            },
            "marker": {
             "colorbar": {
              "outlinewidth": 0,
              "ticks": ""
             }
            },
            "type": "scatter3d"
           }
          ],
          "scattercarpet": [
           {
            "marker": {
             "colorbar": {
              "outlinewidth": 0,
              "ticks": ""
             }
            },
            "type": "scattercarpet"
           }
          ],
          "scattergeo": [
           {
            "marker": {
             "colorbar": {
              "outlinewidth": 0,
              "ticks": ""
             }
            },
            "type": "scattergeo"
           }
          ],
          "scattergl": [
           {
            "marker": {
             "colorbar": {
              "outlinewidth": 0,
              "ticks": ""
             }
            },
            "type": "scattergl"
           }
          ],
          "scattermap": [
           {
            "marker": {
             "colorbar": {
              "outlinewidth": 0,
              "ticks": ""
             }
            },
            "type": "scattermap"
           }
          ],
          "scattermapbox": [
           {
            "marker": {
             "colorbar": {
              "outlinewidth": 0,
              "ticks": ""
             }
            },
            "type": "scattermapbox"
           }
          ],
          "scatterpolar": [
           {
            "marker": {
             "colorbar": {
              "outlinewidth": 0,
              "ticks": ""
             }
            },
            "type": "scatterpolar"
           }
          ],
          "scatterpolargl": [
           {
            "marker": {
             "colorbar": {
              "outlinewidth": 0,
              "ticks": ""
             }
            },
            "type": "scatterpolargl"
           }
          ],
          "scatterternary": [
           {
            "marker": {
             "colorbar": {
              "outlinewidth": 0,
              "ticks": ""
             }
            },
            "type": "scatterternary"
           }
          ],
          "surface": [
           {
            "colorbar": {
             "outlinewidth": 0,
             "ticks": ""
            },
            "colorscale": [
             [
              0,
              "#0d0887"
             ],
             [
              0.1111111111111111,
              "#46039f"
             ],
             [
              0.2222222222222222,
              "#7201a8"
             ],
             [
              0.3333333333333333,
              "#9c179e"
             ],
             [
              0.4444444444444444,
              "#bd3786"
             ],
             [
              0.5555555555555556,
              "#d8576b"
             ],
             [
              0.6666666666666666,
              "#ed7953"
             ],
             [
              0.7777777777777778,
              "#fb9f3a"
             ],
             [
              0.8888888888888888,
              "#fdca26"
             ],
             [
              1,
              "#f0f921"
             ]
            ],
            "type": "surface"
           }
          ],
          "table": [
           {
            "cells": {
             "fill": {
              "color": "#EBF0F8"
             },
             "line": {
              "color": "white"
             }
            },
            "header": {
             "fill": {
              "color": "#C8D4E3"
             },
             "line": {
              "color": "white"
             }
            },
            "type": "table"
           }
          ]
         },
         "layout": {
          "annotationdefaults": {
           "arrowcolor": "#2a3f5f",
           "arrowhead": 0,
           "arrowwidth": 1
          },
          "autotypenumbers": "strict",
          "coloraxis": {
           "colorbar": {
            "outlinewidth": 0,
            "ticks": ""
           }
          },
          "colorscale": {
           "diverging": [
            [
             0,
             "#8e0152"
            ],
            [
             0.1,
             "#c51b7d"
            ],
            [
             0.2,
             "#de77ae"
            ],
            [
             0.3,
             "#f1b6da"
            ],
            [
             0.4,
             "#fde0ef"
            ],
            [
             0.5,
             "#f7f7f7"
            ],
            [
             0.6,
             "#e6f5d0"
            ],
            [
             0.7,
             "#b8e186"
            ],
            [
             0.8,
             "#7fbc41"
            ],
            [
             0.9,
             "#4d9221"
            ],
            [
             1,
             "#276419"
            ]
           ],
           "sequential": [
            [
             0,
             "#0d0887"
            ],
            [
             0.1111111111111111,
             "#46039f"
            ],
            [
             0.2222222222222222,
             "#7201a8"
            ],
            [
             0.3333333333333333,
             "#9c179e"
            ],
            [
             0.4444444444444444,
             "#bd3786"
            ],
            [
             0.5555555555555556,
             "#d8576b"
            ],
            [
             0.6666666666666666,
             "#ed7953"
            ],
            [
             0.7777777777777778,
             "#fb9f3a"
            ],
            [
             0.8888888888888888,
             "#fdca26"
            ],
            [
             1,
             "#f0f921"
            ]
           ],
           "sequentialminus": [
            [
             0,
             "#0d0887"
            ],
            [
             0.1111111111111111,
             "#46039f"
            ],
            [
             0.2222222222222222,
             "#7201a8"
            ],
            [
             0.3333333333333333,
             "#9c179e"
            ],
            [
             0.4444444444444444,
             "#bd3786"
            ],
            [
             0.5555555555555556,
             "#d8576b"
            ],
            [
             0.6666666666666666,
             "#ed7953"
            ],
            [
             0.7777777777777778,
             "#fb9f3a"
            ],
            [
             0.8888888888888888,
             "#fdca26"
            ],
            [
             1,
             "#f0f921"
            ]
           ]
          },
          "colorway": [
           "#636efa",
           "#EF553B",
           "#00cc96",
           "#ab63fa",
           "#FFA15A",
           "#19d3f3",
           "#FF6692",
           "#B6E880",
           "#FF97FF",
           "#FECB52"
          ],
          "font": {
           "color": "#2a3f5f"
          },
          "geo": {
           "bgcolor": "white",
           "lakecolor": "white",
           "landcolor": "#E5ECF6",
           "showlakes": true,
           "showland": true,
           "subunitcolor": "white"
          },
          "hoverlabel": {
           "align": "left"
          },
          "hovermode": "closest",
          "mapbox": {
           "style": "light"
          },
          "paper_bgcolor": "white",
          "plot_bgcolor": "#E5ECF6",
          "polar": {
           "angularaxis": {
            "gridcolor": "white",
            "linecolor": "white",
            "ticks": ""
           },
           "bgcolor": "#E5ECF6",
           "radialaxis": {
            "gridcolor": "white",
            "linecolor": "white",
            "ticks": ""
           }
          },
          "scene": {
           "xaxis": {
            "backgroundcolor": "#E5ECF6",
            "gridcolor": "white",
            "gridwidth": 2,
            "linecolor": "white",
            "showbackground": true,
            "ticks": "",
            "zerolinecolor": "white"
           },
           "yaxis": {
            "backgroundcolor": "#E5ECF6",
            "gridcolor": "white",
            "gridwidth": 2,
            "linecolor": "white",
            "showbackground": true,
            "ticks": "",
            "zerolinecolor": "white"
           },
           "zaxis": {
            "backgroundcolor": "#E5ECF6",
            "gridcolor": "white",
            "gridwidth": 2,
            "linecolor": "white",
            "showbackground": true,
            "ticks": "",
            "zerolinecolor": "white"
           }
          },
          "shapedefaults": {
           "line": {
            "color": "#2a3f5f"
           }
          },
          "ternary": {
           "aaxis": {
            "gridcolor": "white",
            "linecolor": "white",
            "ticks": ""
           },
           "baxis": {
            "gridcolor": "white",
            "linecolor": "white",
            "ticks": ""
           },
           "bgcolor": "#E5ECF6",
           "caxis": {
            "gridcolor": "white",
            "linecolor": "white",
            "ticks": ""
           }
          },
          "title": {
           "x": 0.05
          },
          "xaxis": {
           "automargin": true,
           "gridcolor": "white",
           "linecolor": "white",
           "ticks": "",
           "title": {
            "standoff": 15
           },
           "zerolinecolor": "white",
           "zerolinewidth": 2
          },
          "yaxis": {
           "automargin": true,
           "gridcolor": "white",
           "linecolor": "white",
           "ticks": "",
           "title": {
            "standoff": 15
           },
           "zerolinecolor": "white",
           "zerolinewidth": 2
          }
         }
        },
        "title": {
         "text": "Original"
        },
        "width": 1000,
        "xaxis": {
         "anchor": "y",
         "domain": [
          0,
          0.98
         ],
         "title": {
          "text": "num_neurons"
         },
         "type": "category"
        },
        "xaxis2": {
         "anchor": "y2",
         "domain": [
          0,
          0.98
         ],
         "matches": "x",
         "showticklabels": false,
         "type": "category"
        },
        "xaxis3": {
         "anchor": "y3",
         "domain": [
          0,
          0.98
         ],
         "matches": "x",
         "showticklabels": false,
         "type": "category"
        },
        "xaxis4": {
         "anchor": "y4",
         "domain": [
          0,
          0.98
         ],
         "matches": "x",
         "showticklabels": false,
         "type": "category"
        },
        "xaxis5": {
         "anchor": "y5",
         "domain": [
          0,
          0.98
         ],
         "matches": "x",
         "showticklabels": false,
         "type": "category"
        },
        "xaxis6": {
         "anchor": "y6",
         "domain": [
          0,
          0.98
         ],
         "matches": "x",
         "showticklabels": false,
         "type": "category"
        },
        "xaxis7": {
         "anchor": "y7",
         "domain": [
          0,
          0.98
         ],
         "matches": "x",
         "showticklabels": false,
         "type": "category"
        },
        "yaxis": {
         "anchor": "x",
         "domain": [
          0,
          0.11714285714285715
         ],
         "range": [
          0,
          1
         ],
         "title": {
          "text": "final_score"
         }
        },
        "yaxis2": {
         "anchor": "x2",
         "domain": [
          0.14714285714285713,
          0.2642857142857143
         ],
         "matches": "y",
         "range": [
          0,
          1
         ],
         "title": {
          "text": "final_score"
         }
        },
        "yaxis3": {
         "anchor": "x3",
         "domain": [
          0.29428571428571426,
          0.4114285714285714
         ],
         "matches": "y",
         "range": [
          0,
          1
         ],
         "title": {
          "text": "final_score"
         }
        },
        "yaxis4": {
         "anchor": "x4",
         "domain": [
          0.4414285714285714,
          0.5585714285714285
         ],
         "matches": "y",
         "range": [
          0,
          1
         ],
         "title": {
          "text": "final_score"
         }
        },
        "yaxis5": {
         "anchor": "x5",
         "domain": [
          0.5885714285714285,
          0.7057142857142856
         ],
         "matches": "y",
         "range": [
          0,
          1
         ],
         "title": {
          "text": "final_score"
         }
        },
        "yaxis6": {
         "anchor": "x6",
         "domain": [
          0.7357142857142858,
          0.8528571428571429
         ],
         "matches": "y",
         "range": [
          0,
          1
         ],
         "title": {
          "text": "final_score"
         }
        },
        "yaxis7": {
         "anchor": "x7",
         "domain": [
          0.8828571428571428,
          0.9999999999999999
         ],
         "matches": "y",
         "range": [
          0,
          1
         ],
         "title": {
          "text": "final_score"
         }
        }
       }
      }
     },
     "metadata": {},
     "output_type": "display_data"
    }
   ],
   "source": [
    "title = \"Original\"\n",
    "\n",
    "df = dict_df.get(title)\n",
    "fig = px.bar(\n",
    "    df, \n",
    "    x=\"num_neurons\", \n",
    "    y=\"final_score\", \n",
    "    color=\"activation\",\n",
    "    facet_row=\"batch_size\",\n",
    "    barmode=\"group\", \n",
    "    text_auto=True, \n",
    "    range_y=(0, 1),\n",
    "    title=title.replace(\"_\", \" \"),\n",
    "    height=2000,\n",
    "    width=1000,\n",
    ")\n",
    "fig.update_xaxes(type=\"category\")\n",
    "fig.show()"
   ]
  },
  {
   "cell_type": "code",
   "execution_count": 14,
   "id": "53792470",
   "metadata": {},
   "outputs": [
    {
     "data": {
      "application/vnd.plotly.v1+json": {
       "config": {
        "plotlyServerURL": "https://plot.ly"
       },
       "data": [
        {
         "alignmentgroup": "True",
         "hovertemplate": "activation=sigmoid<br>batch_size=32<br>num_neurons=%{x}<br>final_score=%{y}<extra></extra>",
         "legendgroup": "sigmoid",
         "marker": {
          "color": "#636efa",
          "pattern": {
           "shape": ""
          }
         },
         "name": "sigmoid",
         "offsetgroup": "sigmoid",
         "orientation": "v",
         "showlegend": true,
         "textposition": "auto",
         "texttemplate": "%{y}",
         "type": "bar",
         "x": {
          "bdata": "MgBkAMgAkAEgA0AGgAw=",
          "dtype": "i2"
         },
         "xaxis": "x7",
         "y": {
          "bdata": "CSKbgDSl1D8yz0KererWP+xNWWNgY9c/sfiVwtOB2j8RiQGz+GzTP/EaRm6lkeQ/TR7zUNoT6j8=",
          "dtype": "f8"
         },
         "yaxis": "y7"
        },
        {
         "alignmentgroup": "True",
         "hovertemplate": "activation=sigmoid<br>batch_size=64<br>num_neurons=%{x}<br>final_score=%{y}<extra></extra>",
         "legendgroup": "sigmoid",
         "marker": {
          "color": "#636efa",
          "pattern": {
           "shape": ""
          }
         },
         "name": "sigmoid",
         "offsetgroup": "sigmoid",
         "orientation": "v",
         "showlegend": false,
         "textposition": "auto",
         "texttemplate": "%{y}",
         "type": "bar",
         "x": {
          "bdata": "MgBkAMgAkAEgA0AGgAw=",
          "dtype": "i2"
         },
         "xaxis": "x6",
         "y": {
          "bdata": "EwHJxRzY0z/jWqKTR2nXP6Fnl+MXJto/3Ag+byqW1j/O02abz3vSPw2VR3Qq9uQ/RHpPbErY6T8=",
          "dtype": "f8"
         },
         "yaxis": "y6"
        },
        {
         "alignmentgroup": "True",
         "hovertemplate": "activation=sigmoid<br>batch_size=128<br>num_neurons=%{x}<br>final_score=%{y}<extra></extra>",
         "legendgroup": "sigmoid",
         "marker": {
          "color": "#636efa",
          "pattern": {
           "shape": ""
          }
         },
         "name": "sigmoid",
         "offsetgroup": "sigmoid",
         "orientation": "v",
         "showlegend": false,
         "textposition": "auto",
         "texttemplate": "%{y}",
         "type": "bar",
         "x": {
          "bdata": "MgBkAMgAkAEgA0AGgAw=",
          "dtype": "i2"
         },
         "xaxis": "x5",
         "y": {
          "bdata": "Nu2rHZp+0z/trNn9h8XVPxiswNtzc9c/3L0h+4iQ1z9rDu/GQPPRP5i11Yc4euQ/enSRP8kc6j8=",
          "dtype": "f8"
         },
         "yaxis": "y5"
        },
        {
         "alignmentgroup": "True",
         "hovertemplate": "activation=sigmoid<br>batch_size=256<br>num_neurons=%{x}<br>final_score=%{y}<extra></extra>",
         "legendgroup": "sigmoid",
         "marker": {
          "color": "#636efa",
          "pattern": {
           "shape": ""
          }
         },
         "name": "sigmoid",
         "offsetgroup": "sigmoid",
         "orientation": "v",
         "showlegend": false,
         "textposition": "auto",
         "texttemplate": "%{y}",
         "type": "bar",
         "x": {
          "bdata": "MgBkAMgAkAEgA0AGgAw=",
          "dtype": "i2"
         },
         "xaxis": "x4",
         "y": {
          "bdata": "6I9RRk8u0D//EfCJjL7UP0ZhKS3fs9g/E8yeZcpA1T+9Fqn4H67SPyoLUgPIoeQ/V9kqXPPb6T8=",
          "dtype": "f8"
         },
         "yaxis": "y4"
        },
        {
         "alignmentgroup": "True",
         "hovertemplate": "activation=sigmoid<br>batch_size=512<br>num_neurons=%{x}<br>final_score=%{y}<extra></extra>",
         "legendgroup": "sigmoid",
         "marker": {
          "color": "#636efa",
          "pattern": {
           "shape": ""
          }
         },
         "name": "sigmoid",
         "offsetgroup": "sigmoid",
         "orientation": "v",
         "showlegend": false,
         "textposition": "auto",
         "texttemplate": "%{y}",
         "type": "bar",
         "x": {
          "bdata": "MgBkAMgAkAEgA0AGgAw=",
          "dtype": "i2"
         },
         "xaxis": "x3",
         "y": {
          "bdata": "kZ4VFUMSyT/aOYCWifHPP3phXNRkGNU/aJ13usph1D8q4zvDTY3SP90/T8OOkeQ/zRxdZuU+6j8=",
          "dtype": "f8"
         },
         "yaxis": "y3"
        },
        {
         "alignmentgroup": "True",
         "hovertemplate": "activation=sigmoid<br>batch_size=1024<br>num_neurons=%{x}<br>final_score=%{y}<extra></extra>",
         "legendgroup": "sigmoid",
         "marker": {
          "color": "#636efa",
          "pattern": {
           "shape": ""
          }
         },
         "name": "sigmoid",
         "offsetgroup": "sigmoid",
         "orientation": "v",
         "showlegend": false,
         "textposition": "auto",
         "texttemplate": "%{y}",
         "type": "bar",
         "x": {
          "bdata": "MgBkAMgAkAEgA0AGgAw=",
          "dtype": "i2"
         },
         "xaxis": "x2",
         "y": {
          "bdata": "bYlZMYBUxz8OBL47v6/MP+Q9N+qGMNI/jOj/EBrV0z8f5MTyKNPRPygOBJnXFOU/cg0GqVrq6T8=",
          "dtype": "f8"
         },
         "yaxis": "y2"
        },
        {
         "alignmentgroup": "True",
         "hovertemplate": "activation=sigmoid<br>batch_size=2048<br>num_neurons=%{x}<br>final_score=%{y}<extra></extra>",
         "legendgroup": "sigmoid",
         "marker": {
          "color": "#636efa",
          "pattern": {
           "shape": ""
          }
         },
         "name": "sigmoid",
         "offsetgroup": "sigmoid",
         "orientation": "v",
         "showlegend": false,
         "textposition": "auto",
         "texttemplate": "%{y}",
         "type": "bar",
         "x": {
          "bdata": "MgBkAMgAkAEgA0AGgAw=",
          "dtype": "i2"
         },
         "xaxis": "x",
         "y": {
          "bdata": "GvVzxvbRxj83ZvvxKJTMPw2jpKDzRNI/7pfTxMdK1z+pd4W6UnHSPw9H99RsOuU/KFCqXT/+6T8=",
          "dtype": "f8"
         },
         "yaxis": "y"
        },
        {
         "alignmentgroup": "True",
         "hovertemplate": "activation=tanh<br>batch_size=32<br>num_neurons=%{x}<br>final_score=%{y}<extra></extra>",
         "legendgroup": "tanh",
         "marker": {
          "color": "#EF553B",
          "pattern": {
           "shape": ""
          }
         },
         "name": "tanh",
         "offsetgroup": "tanh",
         "orientation": "v",
         "showlegend": true,
         "textposition": "auto",
         "texttemplate": "%{y}",
         "type": "bar",
         "x": {
          "bdata": "MgBkAMgAkAEgA0AGgAw=",
          "dtype": "i2"
         },
         "xaxis": "x7",
         "y": {
          "bdata": "5BSoJpbu0j+jMtGc6dfUP1LXVtHuetY/3e/yyxQH1D8JR/QXxE/LP8Z9NI+O4OI/vYLKWwfN6D8=",
          "dtype": "f8"
         },
         "yaxis": "y7"
        },
        {
         "alignmentgroup": "True",
         "hovertemplate": "activation=tanh<br>batch_size=64<br>num_neurons=%{x}<br>final_score=%{y}<extra></extra>",
         "legendgroup": "tanh",
         "marker": {
          "color": "#EF553B",
          "pattern": {
           "shape": ""
          }
         },
         "name": "tanh",
         "offsetgroup": "tanh",
         "orientation": "v",
         "showlegend": false,
         "textposition": "auto",
         "texttemplate": "%{y}",
         "type": "bar",
         "x": {
          "bdata": "MgBkAMgAkAEgA0AGgAw=",
          "dtype": "i2"
         },
         "xaxis": "x6",
         "y": {
          "bdata": "dAfhMrXi0D+6ogHspuzUP3o3uKYh8tE/+GlRA/xD0z+vQjmz/lnMP35+I0EXjuI/e40MWmQN6T8=",
          "dtype": "f8"
         },
         "yaxis": "y6"
        },
        {
         "alignmentgroup": "True",
         "hovertemplate": "activation=tanh<br>batch_size=128<br>num_neurons=%{x}<br>final_score=%{y}<extra></extra>",
         "legendgroup": "tanh",
         "marker": {
          "color": "#EF553B",
          "pattern": {
           "shape": ""
          }
         },
         "name": "tanh",
         "offsetgroup": "tanh",
         "orientation": "v",
         "showlegend": false,
         "textposition": "auto",
         "texttemplate": "%{y}",
         "type": "bar",
         "x": {
          "bdata": "MgBkAMgAkAEgA0AGgAw=",
          "dtype": "i2"
         },
         "xaxis": "x5",
         "y": {
          "bdata": "5A/Q5/o4yz/Y01oahOnQPyGfOPYSj88/ashRi/FQzD+gFNdJ/IPMP/nQv4vyF+M/IWw4amXA6D8=",
          "dtype": "f8"
         },
         "yaxis": "y5"
        },
        {
         "alignmentgroup": "True",
         "hovertemplate": "activation=tanh<br>batch_size=256<br>num_neurons=%{x}<br>final_score=%{y}<extra></extra>",
         "legendgroup": "tanh",
         "marker": {
          "color": "#EF553B",
          "pattern": {
           "shape": ""
          }
         },
         "name": "tanh",
         "offsetgroup": "tanh",
         "orientation": "v",
         "showlegend": false,
         "textposition": "auto",
         "texttemplate": "%{y}",
         "type": "bar",
         "x": {
          "bdata": "MgBkAMgAkAEgA0AGgAw=",
          "dtype": "i2"
         },
         "xaxis": "x4",
         "y": {
          "bdata": "JN+alQY8xj9KLyuidsbJP0bxaVlZLtA/fXxw76MR0D9JJ7ALwBrNP/D6ek1cx+I//NVuO8rc6D8=",
          "dtype": "f8"
         },
         "yaxis": "y4"
        },
        {
         "alignmentgroup": "True",
         "hovertemplate": "activation=tanh<br>batch_size=512<br>num_neurons=%{x}<br>final_score=%{y}<extra></extra>",
         "legendgroup": "tanh",
         "marker": {
          "color": "#EF553B",
          "pattern": {
           "shape": ""
          }
         },
         "name": "tanh",
         "offsetgroup": "tanh",
         "orientation": "v",
         "showlegend": false,
         "textposition": "auto",
         "texttemplate": "%{y}",
         "type": "bar",
         "x": {
          "bdata": "MgBkAMgAkAEgA0AGgAw=",
          "dtype": "i2"
         },
         "xaxis": "x3",
         "y": {
          "bdata": "6iIXTvykxT+TZaZKm2bGPyw3W48Q6cY/QXouM7nzyD92iPmQaP/JP77XpYvTuuI/ppzeUeIb6T8=",
          "dtype": "f8"
         },
         "yaxis": "y3"
        },
        {
         "alignmentgroup": "True",
         "hovertemplate": "activation=tanh<br>batch_size=1024<br>num_neurons=%{x}<br>final_score=%{y}<extra></extra>",
         "legendgroup": "tanh",
         "marker": {
          "color": "#EF553B",
          "pattern": {
           "shape": ""
          }
         },
         "name": "tanh",
         "offsetgroup": "tanh",
         "orientation": "v",
         "showlegend": false,
         "textposition": "auto",
         "texttemplate": "%{y}",
         "type": "bar",
         "x": {
          "bdata": "MgBkAMgAkAEgA0AGgAw=",
          "dtype": "i2"
         },
         "xaxis": "x2",
         "y": {
          "bdata": "5Ozf2Yk1xD8f+T2DARTFP5YH6fs+B8g/CIywi1/1yT8BLJY0MIHNP8XxhsDX1eI/SN6JyST26D8=",
          "dtype": "f8"
         },
         "yaxis": "y2"
        },
        {
         "alignmentgroup": "True",
         "hovertemplate": "activation=tanh<br>batch_size=2048<br>num_neurons=%{x}<br>final_score=%{y}<extra></extra>",
         "legendgroup": "tanh",
         "marker": {
          "color": "#EF553B",
          "pattern": {
           "shape": ""
          }
         },
         "name": "tanh",
         "offsetgroup": "tanh",
         "orientation": "v",
         "showlegend": false,
         "textposition": "auto",
         "texttemplate": "%{y}",
         "type": "bar",
         "x": {
          "bdata": "MgBkAMgAkAEgA0AGgAw=",
          "dtype": "i2"
         },
         "xaxis": "x",
         "y": {
          "bdata": "OP1ilY33xD87hoMy3/nFP5ywBDFfNcc/201I1jOXyD/818iG9AbNP2ZTVl+szOI/4QgGonIo6T8=",
          "dtype": "f8"
         },
         "yaxis": "y"
        },
        {
         "alignmentgroup": "True",
         "hovertemplate": "activation=relu<br>batch_size=32<br>num_neurons=%{x}<br>final_score=%{y}<extra></extra>",
         "legendgroup": "relu",
         "marker": {
          "color": "#00cc96",
          "pattern": {
           "shape": ""
          }
         },
         "name": "relu",
         "offsetgroup": "relu",
         "orientation": "v",
         "showlegend": true,
         "textposition": "auto",
         "texttemplate": "%{y}",
         "type": "bar",
         "x": {
          "bdata": "MgBkAMgAkAEgA0AGgAw=",
          "dtype": "i2"
         },
         "xaxis": "x7",
         "y": {
          "bdata": "KDpqVoI01j+gR5ggMHTbP9oZXG/31N8/53edopjG4T8pOCYxDvjHP1GcTgajxuc/bd4aEH3O6j8=",
          "dtype": "f8"
         },
         "yaxis": "y7"
        },
        {
         "alignmentgroup": "True",
         "hovertemplate": "activation=relu<br>batch_size=64<br>num_neurons=%{x}<br>final_score=%{y}<extra></extra>",
         "legendgroup": "relu",
         "marker": {
          "color": "#00cc96",
          "pattern": {
           "shape": ""
          }
         },
         "name": "relu",
         "offsetgroup": "relu",
         "orientation": "v",
         "showlegend": false,
         "textposition": "auto",
         "texttemplate": "%{y}",
         "type": "bar",
         "x": {
          "bdata": "MgBkAMgAkAEgA0AGgAw=",
          "dtype": "i2"
         },
         "xaxis": "x6",
         "y": {
          "bdata": "0Q5gKCez1T+GCghvFWvZPwmQGlpfdN8/ylXBHbLz4T9argmAIALJP/huXeQ14ec/gBvnuWjL6j8=",
          "dtype": "f8"
         },
         "yaxis": "y6"
        },
        {
         "alignmentgroup": "True",
         "hovertemplate": "activation=relu<br>batch_size=128<br>num_neurons=%{x}<br>final_score=%{y}<extra></extra>",
         "legendgroup": "relu",
         "marker": {
          "color": "#00cc96",
          "pattern": {
           "shape": ""
          }
         },
         "name": "relu",
         "offsetgroup": "relu",
         "orientation": "v",
         "showlegend": false,
         "textposition": "auto",
         "texttemplate": "%{y}",
         "type": "bar",
         "x": {
          "bdata": "MgBkAMgAkAEgA0AGgAw=",
          "dtype": "i2"
         },
         "xaxis": "x5",
         "y": {
          "bdata": "NeXik3V30z98ge8n9nTZP9opoI/Sh9w/bio9sHw74j/2yG2E/1zIPzxiMMettuc/374yOsLu6j8=",
          "dtype": "f8"
         },
         "yaxis": "y5"
        },
        {
         "alignmentgroup": "True",
         "hovertemplate": "activation=relu<br>batch_size=256<br>num_neurons=%{x}<br>final_score=%{y}<extra></extra>",
         "legendgroup": "relu",
         "marker": {
          "color": "#00cc96",
          "pattern": {
           "shape": ""
          }
         },
         "name": "relu",
         "offsetgroup": "relu",
         "orientation": "v",
         "showlegend": false,
         "textposition": "auto",
         "texttemplate": "%{y}",
         "type": "bar",
         "x": {
          "bdata": "MgBkAMgAkAEgA0AGgAw=",
          "dtype": "i2"
         },
         "xaxis": "x4",
         "y": {
          "bdata": "xh9hGnyTzj/jigrbtDjUP5pyc1/H/tk/vBFEEZ2+3z+hxhd+P4jIP9FB7Vy8u+c//N4joH3X6j8=",
          "dtype": "f8"
         },
         "yaxis": "y4"
        },
        {
         "alignmentgroup": "True",
         "hovertemplate": "activation=relu<br>batch_size=512<br>num_neurons=%{x}<br>final_score=%{y}<extra></extra>",
         "legendgroup": "relu",
         "marker": {
          "color": "#00cc96",
          "pattern": {
           "shape": ""
          }
         },
         "name": "relu",
         "offsetgroup": "relu",
         "orientation": "v",
         "showlegend": false,
         "textposition": "auto",
         "texttemplate": "%{y}",
         "type": "bar",
         "x": {
          "bdata": "MgBkAMgAkAEgA0AGgAw=",
          "dtype": "i2"
         },
         "xaxis": "x3",
         "y": {
          "bdata": "r2VDEj/RyT9DcEboyhrMP+8cZS9vY9E/T0+VZkQy3D+3+I1soXXJP82S75GJ6uc/m/1+G0Tr6j8=",
          "dtype": "f8"
         },
         "yaxis": "y3"
        },
        {
         "alignmentgroup": "True",
         "hovertemplate": "activation=relu<br>batch_size=1024<br>num_neurons=%{x}<br>final_score=%{y}<extra></extra>",
         "legendgroup": "relu",
         "marker": {
          "color": "#00cc96",
          "pattern": {
           "shape": ""
          }
         },
         "name": "relu",
         "offsetgroup": "relu",
         "orientation": "v",
         "showlegend": false,
         "textposition": "auto",
         "texttemplate": "%{y}",
         "type": "bar",
         "x": {
          "bdata": "MgBkAMgAkAEgA0AGgAw=",
          "dtype": "i2"
         },
         "xaxis": "x2",
         "y": {
          "bdata": "1hcRYsEnxz/Mo3GrenLKP7LUn4gEF8s/r2HkVhpJ3z83RCBOCnXJP6MRslzUSuc/JtKnrr+d6j8=",
          "dtype": "f8"
         },
         "yaxis": "y2"
        },
        {
         "alignmentgroup": "True",
         "hovertemplate": "activation=relu<br>batch_size=2048<br>num_neurons=%{x}<br>final_score=%{y}<extra></extra>",
         "legendgroup": "relu",
         "marker": {
          "color": "#00cc96",
          "pattern": {
           "shape": ""
          }
         },
         "name": "relu",
         "offsetgroup": "relu",
         "orientation": "v",
         "showlegend": false,
         "textposition": "auto",
         "texttemplate": "%{y}",
         "type": "bar",
         "x": {
          "bdata": "MgBkAMgAkAEgA0AGgAw=",
          "dtype": "i2"
         },
         "xaxis": "x",
         "y": {
          "bdata": "W34qtoHmxj9qAU7+gDbKPxHNT7b4288/Y2/vfq2F3D9OtpTCO8bHP6Brwvydxuc/EoPgZ2zr6j8=",
          "dtype": "f8"
         },
         "yaxis": "y"
        },
        {
         "alignmentgroup": "True",
         "hovertemplate": "activation=leaky_relu<br>batch_size=32<br>num_neurons=%{x}<br>final_score=%{y}<extra></extra>",
         "legendgroup": "leaky_relu",
         "marker": {
          "color": "#ab63fa",
          "pattern": {
           "shape": ""
          }
         },
         "name": "leaky_relu",
         "offsetgroup": "leaky_relu",
         "orientation": "v",
         "showlegend": true,
         "textposition": "auto",
         "texttemplate": "%{y}",
         "type": "bar",
         "x": {
          "bdata": "MgBkAMgAkAEgA0AGgAw=",
          "dtype": "i2"
         },
         "xaxis": "x7",
         "y": {
          "bdata": "T2MT3pkC0j/JMKtmta3TP79tqtF33tM/HWqUVubA0T+O+E5E0H7bPzTmeZPUnuc/exHxnvYQ6T8=",
          "dtype": "f8"
         },
         "yaxis": "y7"
        },
        {
         "alignmentgroup": "True",
         "hovertemplate": "activation=leaky_relu<br>batch_size=64<br>num_neurons=%{x}<br>final_score=%{y}<extra></extra>",
         "legendgroup": "leaky_relu",
         "marker": {
          "color": "#ab63fa",
          "pattern": {
           "shape": ""
          }
         },
         "name": "leaky_relu",
         "offsetgroup": "leaky_relu",
         "orientation": "v",
         "showlegend": false,
         "textposition": "auto",
         "texttemplate": "%{y}",
         "type": "bar",
         "x": {
          "bdata": "MgBkAMgAkAEgA0AGgAw=",
          "dtype": "i2"
         },
         "xaxis": "x6",
         "y": {
          "bdata": "tqnIdIYSzT+vRH3YcpbKP795uMXx+cc/rhRURn+lxT/dJmxkttHbP10nb3plBeg/JM1rVgCf6T8=",
          "dtype": "f8"
         },
         "yaxis": "y6"
        },
        {
         "alignmentgroup": "True",
         "hovertemplate": "activation=leaky_relu<br>batch_size=128<br>num_neurons=%{x}<br>final_score=%{y}<extra></extra>",
         "legendgroup": "leaky_relu",
         "marker": {
          "color": "#ab63fa",
          "pattern": {
           "shape": ""
          }
         },
         "name": "leaky_relu",
         "offsetgroup": "leaky_relu",
         "orientation": "v",
         "showlegend": false,
         "textposition": "auto",
         "texttemplate": "%{y}",
         "type": "bar",
         "x": {
          "bdata": "MgBkAMgAkAEgA0AGgAw=",
          "dtype": "i2"
         },
         "xaxis": "x5",
         "y": {
          "bdata": "4G9Es+OazD/zGCet27/HP1ZOU0IV18U/yA2lMo68xj/IDFETwvnaP/Mvu9NkTOc/FIkX2a5a6T8=",
          "dtype": "f8"
         },
         "yaxis": "y5"
        },
        {
         "alignmentgroup": "True",
         "hovertemplate": "activation=leaky_relu<br>batch_size=256<br>num_neurons=%{x}<br>final_score=%{y}<extra></extra>",
         "legendgroup": "leaky_relu",
         "marker": {
          "color": "#ab63fa",
          "pattern": {
           "shape": ""
          }
         },
         "name": "leaky_relu",
         "offsetgroup": "leaky_relu",
         "orientation": "v",
         "showlegend": false,
         "textposition": "auto",
         "texttemplate": "%{y}",
         "type": "bar",
         "x": {
          "bdata": "MgBkAMgAkAEgA0AGgAw=",
          "dtype": "i2"
         },
         "xaxis": "x4",
         "y": {
          "bdata": "pUzfi8ppxz+BR7W7ULrFP/aMzrlUgcU//VecA9DdxT/dZcjXSxfaP00rrmppROg/+65IAfhB6T8=",
          "dtype": "f8"
         },
         "yaxis": "y4"
        },
        {
         "alignmentgroup": "True",
         "hovertemplate": "activation=leaky_relu<br>batch_size=512<br>num_neurons=%{x}<br>final_score=%{y}<extra></extra>",
         "legendgroup": "leaky_relu",
         "marker": {
          "color": "#ab63fa",
          "pattern": {
           "shape": ""
          }
         },
         "name": "leaky_relu",
         "offsetgroup": "leaky_relu",
         "orientation": "v",
         "showlegend": false,
         "textposition": "auto",
         "texttemplate": "%{y}",
         "type": "bar",
         "x": {
          "bdata": "MgBkAMgAkAEgA0AGgAw=",
          "dtype": "i2"
         },
         "xaxis": "x3",
         "y": {
          "bdata": "ePiEwk+dxT+NzwJhcqHEP48BHvpS7cM/kkP0NUA4xT+sDzI/jxrbP1rhSMFHr+c//WLjgGVw6T8=",
          "dtype": "f8"
         },
         "yaxis": "y3"
        },
        {
         "alignmentgroup": "True",
         "hovertemplate": "activation=leaky_relu<br>batch_size=1024<br>num_neurons=%{x}<br>final_score=%{y}<extra></extra>",
         "legendgroup": "leaky_relu",
         "marker": {
          "color": "#ab63fa",
          "pattern": {
           "shape": ""
          }
         },
         "name": "leaky_relu",
         "offsetgroup": "leaky_relu",
         "orientation": "v",
         "showlegend": false,
         "textposition": "auto",
         "texttemplate": "%{y}",
         "type": "bar",
         "x": {
          "bdata": "MgBkAMgAkAEgA0AGgAw=",
          "dtype": "i2"
         },
         "xaxis": "x2",
         "y": {
          "bdata": "14lTEDXIxT+P6onTyWDEP1PMNLgDU8Q/KeNkUhF+xD9N3Qjwe7zaP1h3qjhOq+c/oRSJVo4o6T8=",
          "dtype": "f8"
         },
         "yaxis": "y2"
        },
        {
         "alignmentgroup": "True",
         "hovertemplate": "activation=leaky_relu<br>batch_size=2048<br>num_neurons=%{x}<br>final_score=%{y}<extra></extra>",
         "legendgroup": "leaky_relu",
         "marker": {
          "color": "#ab63fa",
          "pattern": {
           "shape": ""
          }
         },
         "name": "leaky_relu",
         "offsetgroup": "leaky_relu",
         "orientation": "v",
         "showlegend": false,
         "textposition": "auto",
         "texttemplate": "%{y}",
         "type": "bar",
         "x": {
          "bdata": "MgBkAMgAkAEgA0AGgAw=",
          "dtype": "i2"
         },
         "xaxis": "x",
         "y": {
          "bdata": "RkJZJRlaxD+lSlGeAVjGPx17O9SBs8U/peO5hkeTxD/pbzgymAjbP7uvL11O4+c/YAqcjGf96D8=",
          "dtype": "f8"
         },
         "yaxis": "y"
        },
        {
         "alignmentgroup": "True",
         "hovertemplate": "activation=silu<br>batch_size=32<br>num_neurons=%{x}<br>final_score=%{y}<extra></extra>",
         "legendgroup": "silu",
         "marker": {
          "color": "#FFA15A",
          "pattern": {
           "shape": ""
          }
         },
         "name": "silu",
         "offsetgroup": "silu",
         "orientation": "v",
         "showlegend": true,
         "textposition": "auto",
         "texttemplate": "%{y}",
         "type": "bar",
         "x": {
          "bdata": "MgBkAMgAkAEgA0AGgAw=",
          "dtype": "i2"
         },
         "xaxis": "x7",
         "y": {
          "bdata": "hnEsL7dp1j/JffGu+3vaPwD4Nnbb+N8/+o7lJOxG4T898Q2WZ/HHP10vOASKDOg/+iddSyb/6j8=",
          "dtype": "f8"
         },
         "yaxis": "y7"
        },
        {
         "alignmentgroup": "True",
         "hovertemplate": "activation=silu<br>batch_size=64<br>num_neurons=%{x}<br>final_score=%{y}<extra></extra>",
         "legendgroup": "silu",
         "marker": {
          "color": "#FFA15A",
          "pattern": {
           "shape": ""
          }
         },
         "name": "silu",
         "offsetgroup": "silu",
         "orientation": "v",
         "showlegend": false,
         "textposition": "auto",
         "texttemplate": "%{y}",
         "type": "bar",
         "x": {
          "bdata": "MgBkAMgAkAEgA0AGgAw=",
          "dtype": "i2"
         },
         "xaxis": "x6",
         "y": {
          "bdata": "rfLGlc7h1T/U39+QL1HaP2YXOSoONOA/gulfsTEq4T8RRiEglDTJPzT7pDA/hOc/bNUMpYCB6j8=",
          "dtype": "f8"
         },
         "yaxis": "y6"
        },
        {
         "alignmentgroup": "True",
         "hovertemplate": "activation=silu<br>batch_size=128<br>num_neurons=%{x}<br>final_score=%{y}<extra></extra>",
         "legendgroup": "silu",
         "marker": {
          "color": "#FFA15A",
          "pattern": {
           "shape": ""
          }
         },
         "name": "silu",
         "offsetgroup": "silu",
         "orientation": "v",
         "showlegend": false,
         "textposition": "auto",
         "texttemplate": "%{y}",
         "type": "bar",
         "x": {
          "bdata": "MgBkAMgAkAEgA0AGgAw=",
          "dtype": "i2"
         },
         "xaxis": "x5",
         "y": {
          "bdata": "QsWuwH5C0T/pyUSnSP7aP/ewqqJUeN4/OgVcljdg4T8jfer626nHP2QO7AmYCOg/BaKmysfp6j8=",
          "dtype": "f8"
         },
         "yaxis": "y5"
        },
        {
         "alignmentgroup": "True",
         "hovertemplate": "activation=silu<br>batch_size=256<br>num_neurons=%{x}<br>final_score=%{y}<extra></extra>",
         "legendgroup": "silu",
         "marker": {
          "color": "#FFA15A",
          "pattern": {
           "shape": ""
          }
         },
         "name": "silu",
         "offsetgroup": "silu",
         "orientation": "v",
         "showlegend": false,
         "textposition": "auto",
         "texttemplate": "%{y}",
         "type": "bar",
         "x": {
          "bdata": "MgBkAMgAkAEgA0AGgAw=",
          "dtype": "i2"
         },
         "xaxis": "x4",
         "y": {
          "bdata": "0WzalvCtyz8jOG08uuLQP1c/rQlbvNc/TK/Vj46s4D8gkhnDXxXIP8jCBingc+c/JXtJpAWV6j8=",
          "dtype": "f8"
         },
         "yaxis": "y4"
        },
        {
         "alignmentgroup": "True",
         "hovertemplate": "activation=silu<br>batch_size=512<br>num_neurons=%{x}<br>final_score=%{y}<extra></extra>",
         "legendgroup": "silu",
         "marker": {
          "color": "#FFA15A",
          "pattern": {
           "shape": ""
          }
         },
         "name": "silu",
         "offsetgroup": "silu",
         "orientation": "v",
         "showlegend": false,
         "textposition": "auto",
         "texttemplate": "%{y}",
         "type": "bar",
         "x": {
          "bdata": "MgBkAMgAkAEgA0AGgAw=",
          "dtype": "i2"
         },
         "xaxis": "x3",
         "y": {
          "bdata": "5qObGwYXyT9cO/wvr1LJP8Fw5eRVBc8/fwvMKFEJ4D+oSptmVi3JP5dI01ydXuc/inJep4Gs6j8=",
          "dtype": "f8"
         },
         "yaxis": "y3"
        },
        {
         "alignmentgroup": "True",
         "hovertemplate": "activation=silu<br>batch_size=1024<br>num_neurons=%{x}<br>final_score=%{y}<extra></extra>",
         "legendgroup": "silu",
         "marker": {
          "color": "#FFA15A",
          "pattern": {
           "shape": ""
          }
         },
         "name": "silu",
         "offsetgroup": "silu",
         "orientation": "v",
         "showlegend": false,
         "textposition": "auto",
         "texttemplate": "%{y}",
         "type": "bar",
         "x": {
          "bdata": "MgBkAMgAkAEgA0AGgAw=",
          "dtype": "i2"
         },
         "xaxis": "x2",
         "y": {
          "bdata": "YbZ8wKShxD+jJPYFLczHP8tqRcFlK9A/iPCNEN6D3D8M+5mqDHXGP32zZ/I4mec/0t34nB3t6j8=",
          "dtype": "f8"
         },
         "yaxis": "y2"
        },
        {
         "alignmentgroup": "True",
         "hovertemplate": "activation=silu<br>batch_size=2048<br>num_neurons=%{x}<br>final_score=%{y}<extra></extra>",
         "legendgroup": "silu",
         "marker": {
          "color": "#FFA15A",
          "pattern": {
           "shape": ""
          }
         },
         "name": "silu",
         "offsetgroup": "silu",
         "orientation": "v",
         "showlegend": false,
         "textposition": "auto",
         "texttemplate": "%{y}",
         "type": "bar",
         "x": {
          "bdata": "MgBkAMgAkAEgA0AGgAw=",
          "dtype": "i2"
         },
         "xaxis": "x",
         "y": {
          "bdata": "/5fkUfQWxj+mo7sAeC/HPx07sKXKFc0/6b33/VQE3z/R6mnuV0jGPzRazMQdlOc/7H1dkanp6j8=",
          "dtype": "f8"
         },
         "yaxis": "y"
        },
        {
         "alignmentgroup": "True",
         "hovertemplate": "activation=mish<br>batch_size=32<br>num_neurons=%{x}<br>final_score=%{y}<extra></extra>",
         "legendgroup": "mish",
         "marker": {
          "color": "#19d3f3",
          "pattern": {
           "shape": ""
          }
         },
         "name": "mish",
         "offsetgroup": "mish",
         "orientation": "v",
         "showlegend": true,
         "textposition": "auto",
         "texttemplate": "%{y}",
         "type": "bar",
         "x": {
          "bdata": "MgBkAMgAkAEgA0AGgAw=",
          "dtype": "i2"
         },
         "xaxis": "x7",
         "y": {
          "bdata": "XSscKfjo1T+2LqjSm4baP44PVsJx0d8/rUHpvksd4T9lCC/YL9DIP+9xcNbAsuc/VnMF4O3T6j8=",
          "dtype": "f8"
         },
         "yaxis": "y7"
        },
        {
         "alignmentgroup": "True",
         "hovertemplate": "activation=mish<br>batch_size=64<br>num_neurons=%{x}<br>final_score=%{y}<extra></extra>",
         "legendgroup": "mish",
         "marker": {
          "color": "#19d3f3",
          "pattern": {
           "shape": ""
          }
         },
         "name": "mish",
         "offsetgroup": "mish",
         "orientation": "v",
         "showlegend": false,
         "textposition": "auto",
         "texttemplate": "%{y}",
         "type": "bar",
         "x": {
          "bdata": "MgBkAMgAkAEgA0AGgAw=",
          "dtype": "i2"
         },
         "xaxis": "x6",
         "y": {
          "bdata": "smaTBvIN1T8AIhpZmP3aPyXL847tet4/L5ApC6sJ4T+qbCTs7WrIP9PjCqq18ec/mKBCppDF6j8=",
          "dtype": "f8"
         },
         "yaxis": "y6"
        },
        {
         "alignmentgroup": "True",
         "hovertemplate": "activation=mish<br>batch_size=128<br>num_neurons=%{x}<br>final_score=%{y}<extra></extra>",
         "legendgroup": "mish",
         "marker": {
          "color": "#19d3f3",
          "pattern": {
           "shape": ""
          }
         },
         "name": "mish",
         "offsetgroup": "mish",
         "orientation": "v",
         "showlegend": false,
         "textposition": "auto",
         "texttemplate": "%{y}",
         "type": "bar",
         "x": {
          "bdata": "MgBkAMgAkAEgA0AGgAw=",
          "dtype": "i2"
         },
         "xaxis": "x5",
         "y": {
          "bdata": "TZefVssB0j/IlSfovibZP6ZGF0eHOt0/VaYFbJui4T94qPQoNyvIP/t0O08v/uc/ZYjoAzwz6z8=",
          "dtype": "f8"
         },
         "yaxis": "y5"
        },
        {
         "alignmentgroup": "True",
         "hovertemplate": "activation=mish<br>batch_size=256<br>num_neurons=%{x}<br>final_score=%{y}<extra></extra>",
         "legendgroup": "mish",
         "marker": {
          "color": "#19d3f3",
          "pattern": {
           "shape": ""
          }
         },
         "name": "mish",
         "offsetgroup": "mish",
         "orientation": "v",
         "showlegend": false,
         "textposition": "auto",
         "texttemplate": "%{y}",
         "type": "bar",
         "x": {
          "bdata": "MgBkAMgAkAEgA0AGgAw=",
          "dtype": "i2"
         },
         "xaxis": "x4",
         "y": {
          "bdata": "Ixutt8ndzT/m51FjQ1XPPwafdsrEudo/+n/1I91W4D8pEQD3O13IPwyegpkDuuc/nax85na86j8=",
          "dtype": "f8"
         },
         "yaxis": "y4"
        },
        {
         "alignmentgroup": "True",
         "hovertemplate": "activation=mish<br>batch_size=512<br>num_neurons=%{x}<br>final_score=%{y}<extra></extra>",
         "legendgroup": "mish",
         "marker": {
          "color": "#19d3f3",
          "pattern": {
           "shape": ""
          }
         },
         "name": "mish",
         "offsetgroup": "mish",
         "orientation": "v",
         "showlegend": false,
         "textposition": "auto",
         "texttemplate": "%{y}",
         "type": "bar",
         "x": {
          "bdata": "MgBkAMgAkAEgA0AGgAw=",
          "dtype": "i2"
         },
         "xaxis": "x3",
         "y": {
          "bdata": "G07eKG2pxz9qFbIkB5PJP9VBz+DTwdA/XBBS1g3F3T/0+ExOnnjKP65hpaGgauc/DZfKThgR6z8=",
          "dtype": "f8"
         },
         "yaxis": "y3"
        },
        {
         "alignmentgroup": "True",
         "hovertemplate": "activation=mish<br>batch_size=1024<br>num_neurons=%{x}<br>final_score=%{y}<extra></extra>",
         "legendgroup": "mish",
         "marker": {
          "color": "#19d3f3",
          "pattern": {
           "shape": ""
          }
         },
         "name": "mish",
         "offsetgroup": "mish",
         "orientation": "v",
         "showlegend": false,
         "textposition": "auto",
         "texttemplate": "%{y}",
         "type": "bar",
         "x": {
          "bdata": "MgBkAMgAkAEgA0AGgAw=",
          "dtype": "i2"
         },
         "xaxis": "x2",
         "y": {
          "bdata": "GKybd8kIxj/GQvghpETHP3KZf9VyDc0/V4LmoghH4D+qJdqKibPIP++4PM0xrec/BrI43hD46j8=",
          "dtype": "f8"
         },
         "yaxis": "y2"
        },
        {
         "alignmentgroup": "True",
         "hovertemplate": "activation=mish<br>batch_size=2048<br>num_neurons=%{x}<br>final_score=%{y}<extra></extra>",
         "legendgroup": "mish",
         "marker": {
          "color": "#19d3f3",
          "pattern": {
           "shape": ""
          }
         },
         "name": "mish",
         "offsetgroup": "mish",
         "orientation": "v",
         "showlegend": false,
         "textposition": "auto",
         "texttemplate": "%{y}",
         "type": "bar",
         "x": {
          "bdata": "MgBkAMgAkAEgA0AGgAw=",
          "dtype": "i2"
         },
         "xaxis": "x",
         "y": {
          "bdata": "LX6l8HSgxj/c2wUowPbJPxc8Wg43QM0/RNPiXYSg3D+Befnj9PbGPyobsHRyyOc/PAjwr17Z6j8=",
          "dtype": "f8"
         },
         "yaxis": "y"
        }
       ],
       "layout": {
        "annotations": [
         {
          "font": {},
          "showarrow": false,
          "text": "batch_size=2048",
          "textangle": 90,
          "x": 0.98,
          "xanchor": "left",
          "xref": "paper",
          "y": 0.05857142857142857,
          "yanchor": "middle",
          "yref": "paper"
         },
         {
          "font": {},
          "showarrow": false,
          "text": "batch_size=1024",
          "textangle": 90,
          "x": 0.98,
          "xanchor": "left",
          "xref": "paper",
          "y": 0.2057142857142857,
          "yanchor": "middle",
          "yref": "paper"
         },
         {
          "font": {},
          "showarrow": false,
          "text": "batch_size=512",
          "textangle": 90,
          "x": 0.98,
          "xanchor": "left",
          "xref": "paper",
          "y": 0.35285714285714287,
          "yanchor": "middle",
          "yref": "paper"
         },
         {
          "font": {},
          "showarrow": false,
          "text": "batch_size=256",
          "textangle": 90,
          "x": 0.98,
          "xanchor": "left",
          "xref": "paper",
          "y": 0.49999999999999994,
          "yanchor": "middle",
          "yref": "paper"
         },
         {
          "font": {},
          "showarrow": false,
          "text": "batch_size=128",
          "textangle": 90,
          "x": 0.98,
          "xanchor": "left",
          "xref": "paper",
          "y": 0.647142857142857,
          "yanchor": "middle",
          "yref": "paper"
         },
         {
          "font": {},
          "showarrow": false,
          "text": "batch_size=64",
          "textangle": 90,
          "x": 0.98,
          "xanchor": "left",
          "xref": "paper",
          "y": 0.7942857142857143,
          "yanchor": "middle",
          "yref": "paper"
         },
         {
          "font": {},
          "showarrow": false,
          "text": "batch_size=32",
          "textangle": 90,
          "x": 0.98,
          "xanchor": "left",
          "xref": "paper",
          "y": 0.9414285714285713,
          "yanchor": "middle",
          "yref": "paper"
         }
        ],
        "barmode": "group",
        "height": 2000,
        "legend": {
         "title": {
          "text": "activation"
         },
         "tracegroupgap": 0
        },
        "template": {
         "data": {
          "bar": [
           {
            "error_x": {
             "color": "#2a3f5f"
            },
            "error_y": {
             "color": "#2a3f5f"
            },
            "marker": {
             "line": {
              "color": "#E5ECF6",
              "width": 0.5
             },
             "pattern": {
              "fillmode": "overlay",
              "size": 10,
              "solidity": 0.2
             }
            },
            "type": "bar"
           }
          ],
          "barpolar": [
           {
            "marker": {
             "line": {
              "color": "#E5ECF6",
              "width": 0.5
             },
             "pattern": {
              "fillmode": "overlay",
              "size": 10,
              "solidity": 0.2
             }
            },
            "type": "barpolar"
           }
          ],
          "carpet": [
           {
            "aaxis": {
             "endlinecolor": "#2a3f5f",
             "gridcolor": "white",
             "linecolor": "white",
             "minorgridcolor": "white",
             "startlinecolor": "#2a3f5f"
            },
            "baxis": {
             "endlinecolor": "#2a3f5f",
             "gridcolor": "white",
             "linecolor": "white",
             "minorgridcolor": "white",
             "startlinecolor": "#2a3f5f"
            },
            "type": "carpet"
           }
          ],
          "choropleth": [
           {
            "colorbar": {
             "outlinewidth": 0,
             "ticks": ""
            },
            "type": "choropleth"
           }
          ],
          "contour": [
           {
            "colorbar": {
             "outlinewidth": 0,
             "ticks": ""
            },
            "colorscale": [
             [
              0,
              "#0d0887"
             ],
             [
              0.1111111111111111,
              "#46039f"
             ],
             [
              0.2222222222222222,
              "#7201a8"
             ],
             [
              0.3333333333333333,
              "#9c179e"
             ],
             [
              0.4444444444444444,
              "#bd3786"
             ],
             [
              0.5555555555555556,
              "#d8576b"
             ],
             [
              0.6666666666666666,
              "#ed7953"
             ],
             [
              0.7777777777777778,
              "#fb9f3a"
             ],
             [
              0.8888888888888888,
              "#fdca26"
             ],
             [
              1,
              "#f0f921"
             ]
            ],
            "type": "contour"
           }
          ],
          "contourcarpet": [
           {
            "colorbar": {
             "outlinewidth": 0,
             "ticks": ""
            },
            "type": "contourcarpet"
           }
          ],
          "heatmap": [
           {
            "colorbar": {
             "outlinewidth": 0,
             "ticks": ""
            },
            "colorscale": [
             [
              0,
              "#0d0887"
             ],
             [
              0.1111111111111111,
              "#46039f"
             ],
             [
              0.2222222222222222,
              "#7201a8"
             ],
             [
              0.3333333333333333,
              "#9c179e"
             ],
             [
              0.4444444444444444,
              "#bd3786"
             ],
             [
              0.5555555555555556,
              "#d8576b"
             ],
             [
              0.6666666666666666,
              "#ed7953"
             ],
             [
              0.7777777777777778,
              "#fb9f3a"
             ],
             [
              0.8888888888888888,
              "#fdca26"
             ],
             [
              1,
              "#f0f921"
             ]
            ],
            "type": "heatmap"
           }
          ],
          "histogram": [
           {
            "marker": {
             "pattern": {
              "fillmode": "overlay",
              "size": 10,
              "solidity": 0.2
             }
            },
            "type": "histogram"
           }
          ],
          "histogram2d": [
           {
            "colorbar": {
             "outlinewidth": 0,
             "ticks": ""
            },
            "colorscale": [
             [
              0,
              "#0d0887"
             ],
             [
              0.1111111111111111,
              "#46039f"
             ],
             [
              0.2222222222222222,
              "#7201a8"
             ],
             [
              0.3333333333333333,
              "#9c179e"
             ],
             [
              0.4444444444444444,
              "#bd3786"
             ],
             [
              0.5555555555555556,
              "#d8576b"
             ],
             [
              0.6666666666666666,
              "#ed7953"
             ],
             [
              0.7777777777777778,
              "#fb9f3a"
             ],
             [
              0.8888888888888888,
              "#fdca26"
             ],
             [
              1,
              "#f0f921"
             ]
            ],
            "type": "histogram2d"
           }
          ],
          "histogram2dcontour": [
           {
            "colorbar": {
             "outlinewidth": 0,
             "ticks": ""
            },
            "colorscale": [
             [
              0,
              "#0d0887"
             ],
             [
              0.1111111111111111,
              "#46039f"
             ],
             [
              0.2222222222222222,
              "#7201a8"
             ],
             [
              0.3333333333333333,
              "#9c179e"
             ],
             [
              0.4444444444444444,
              "#bd3786"
             ],
             [
              0.5555555555555556,
              "#d8576b"
             ],
             [
              0.6666666666666666,
              "#ed7953"
             ],
             [
              0.7777777777777778,
              "#fb9f3a"
             ],
             [
              0.8888888888888888,
              "#fdca26"
             ],
             [
              1,
              "#f0f921"
             ]
            ],
            "type": "histogram2dcontour"
           }
          ],
          "mesh3d": [
           {
            "colorbar": {
             "outlinewidth": 0,
             "ticks": ""
            },
            "type": "mesh3d"
           }
          ],
          "parcoords": [
           {
            "line": {
             "colorbar": {
              "outlinewidth": 0,
              "ticks": ""
             }
            },
            "type": "parcoords"
           }
          ],
          "pie": [
           {
            "automargin": true,
            "type": "pie"
           }
          ],
          "scatter": [
           {
            "fillpattern": {
             "fillmode": "overlay",
             "size": 10,
             "solidity": 0.2
            },
            "type": "scatter"
           }
          ],
          "scatter3d": [
           {
            "line": {
             "colorbar": {
              "outlinewidth": 0,
              "ticks": ""
             }
            },
            "marker": {
             "colorbar": {
              "outlinewidth": 0,
              "ticks": ""
             }
            },
            "type": "scatter3d"
           }
          ],
          "scattercarpet": [
           {
            "marker": {
             "colorbar": {
              "outlinewidth": 0,
              "ticks": ""
             }
            },
            "type": "scattercarpet"
           }
          ],
          "scattergeo": [
           {
            "marker": {
             "colorbar": {
              "outlinewidth": 0,
              "ticks": ""
             }
            },
            "type": "scattergeo"
           }
          ],
          "scattergl": [
           {
            "marker": {
             "colorbar": {
              "outlinewidth": 0,
              "ticks": ""
             }
            },
            "type": "scattergl"
           }
          ],
          "scattermap": [
           {
            "marker": {
             "colorbar": {
              "outlinewidth": 0,
              "ticks": ""
             }
            },
            "type": "scattermap"
           }
          ],
          "scattermapbox": [
           {
            "marker": {
             "colorbar": {
              "outlinewidth": 0,
              "ticks": ""
             }
            },
            "type": "scattermapbox"
           }
          ],
          "scatterpolar": [
           {
            "marker": {
             "colorbar": {
              "outlinewidth": 0,
              "ticks": ""
             }
            },
            "type": "scatterpolar"
           }
          ],
          "scatterpolargl": [
           {
            "marker": {
             "colorbar": {
              "outlinewidth": 0,
              "ticks": ""
             }
            },
            "type": "scatterpolargl"
           }
          ],
          "scatterternary": [
           {
            "marker": {
             "colorbar": {
              "outlinewidth": 0,
              "ticks": ""
             }
            },
            "type": "scatterternary"
           }
          ],
          "surface": [
           {
            "colorbar": {
             "outlinewidth": 0,
             "ticks": ""
            },
            "colorscale": [
             [
              0,
              "#0d0887"
             ],
             [
              0.1111111111111111,
              "#46039f"
             ],
             [
              0.2222222222222222,
              "#7201a8"
             ],
             [
              0.3333333333333333,
              "#9c179e"
             ],
             [
              0.4444444444444444,
              "#bd3786"
             ],
             [
              0.5555555555555556,
              "#d8576b"
             ],
             [
              0.6666666666666666,
              "#ed7953"
             ],
             [
              0.7777777777777778,
              "#fb9f3a"
             ],
             [
              0.8888888888888888,
              "#fdca26"
             ],
             [
              1,
              "#f0f921"
             ]
            ],
            "type": "surface"
           }
          ],
          "table": [
           {
            "cells": {
             "fill": {
              "color": "#EBF0F8"
             },
             "line": {
              "color": "white"
             }
            },
            "header": {
             "fill": {
              "color": "#C8D4E3"
             },
             "line": {
              "color": "white"
             }
            },
            "type": "table"
           }
          ]
         },
         "layout": {
          "annotationdefaults": {
           "arrowcolor": "#2a3f5f",
           "arrowhead": 0,
           "arrowwidth": 1
          },
          "autotypenumbers": "strict",
          "coloraxis": {
           "colorbar": {
            "outlinewidth": 0,
            "ticks": ""
           }
          },
          "colorscale": {
           "diverging": [
            [
             0,
             "#8e0152"
            ],
            [
             0.1,
             "#c51b7d"
            ],
            [
             0.2,
             "#de77ae"
            ],
            [
             0.3,
             "#f1b6da"
            ],
            [
             0.4,
             "#fde0ef"
            ],
            [
             0.5,
             "#f7f7f7"
            ],
            [
             0.6,
             "#e6f5d0"
            ],
            [
             0.7,
             "#b8e186"
            ],
            [
             0.8,
             "#7fbc41"
            ],
            [
             0.9,
             "#4d9221"
            ],
            [
             1,
             "#276419"
            ]
           ],
           "sequential": [
            [
             0,
             "#0d0887"
            ],
            [
             0.1111111111111111,
             "#46039f"
            ],
            [
             0.2222222222222222,
             "#7201a8"
            ],
            [
             0.3333333333333333,
             "#9c179e"
            ],
            [
             0.4444444444444444,
             "#bd3786"
            ],
            [
             0.5555555555555556,
             "#d8576b"
            ],
            [
             0.6666666666666666,
             "#ed7953"
            ],
            [
             0.7777777777777778,
             "#fb9f3a"
            ],
            [
             0.8888888888888888,
             "#fdca26"
            ],
            [
             1,
             "#f0f921"
            ]
           ],
           "sequentialminus": [
            [
             0,
             "#0d0887"
            ],
            [
             0.1111111111111111,
             "#46039f"
            ],
            [
             0.2222222222222222,
             "#7201a8"
            ],
            [
             0.3333333333333333,
             "#9c179e"
            ],
            [
             0.4444444444444444,
             "#bd3786"
            ],
            [
             0.5555555555555556,
             "#d8576b"
            ],
            [
             0.6666666666666666,
             "#ed7953"
            ],
            [
             0.7777777777777778,
             "#fb9f3a"
            ],
            [
             0.8888888888888888,
             "#fdca26"
            ],
            [
             1,
             "#f0f921"
            ]
           ]
          },
          "colorway": [
           "#636efa",
           "#EF553B",
           "#00cc96",
           "#ab63fa",
           "#FFA15A",
           "#19d3f3",
           "#FF6692",
           "#B6E880",
           "#FF97FF",
           "#FECB52"
          ],
          "font": {
           "color": "#2a3f5f"
          },
          "geo": {
           "bgcolor": "white",
           "lakecolor": "white",
           "landcolor": "#E5ECF6",
           "showlakes": true,
           "showland": true,
           "subunitcolor": "white"
          },
          "hoverlabel": {
           "align": "left"
          },
          "hovermode": "closest",
          "mapbox": {
           "style": "light"
          },
          "paper_bgcolor": "white",
          "plot_bgcolor": "#E5ECF6",
          "polar": {
           "angularaxis": {
            "gridcolor": "white",
            "linecolor": "white",
            "ticks": ""
           },
           "bgcolor": "#E5ECF6",
           "radialaxis": {
            "gridcolor": "white",
            "linecolor": "white",
            "ticks": ""
           }
          },
          "scene": {
           "xaxis": {
            "backgroundcolor": "#E5ECF6",
            "gridcolor": "white",
            "gridwidth": 2,
            "linecolor": "white",
            "showbackground": true,
            "ticks": "",
            "zerolinecolor": "white"
           },
           "yaxis": {
            "backgroundcolor": "#E5ECF6",
            "gridcolor": "white",
            "gridwidth": 2,
            "linecolor": "white",
            "showbackground": true,
            "ticks": "",
            "zerolinecolor": "white"
           },
           "zaxis": {
            "backgroundcolor": "#E5ECF6",
            "gridcolor": "white",
            "gridwidth": 2,
            "linecolor": "white",
            "showbackground": true,
            "ticks": "",
            "zerolinecolor": "white"
           }
          },
          "shapedefaults": {
           "line": {
            "color": "#2a3f5f"
           }
          },
          "ternary": {
           "aaxis": {
            "gridcolor": "white",
            "linecolor": "white",
            "ticks": ""
           },
           "baxis": {
            "gridcolor": "white",
            "linecolor": "white",
            "ticks": ""
           },
           "bgcolor": "#E5ECF6",
           "caxis": {
            "gridcolor": "white",
            "linecolor": "white",
            "ticks": ""
           }
          },
          "title": {
           "x": 0.05
          },
          "xaxis": {
           "automargin": true,
           "gridcolor": "white",
           "linecolor": "white",
           "ticks": "",
           "title": {
            "standoff": 15
           },
           "zerolinecolor": "white",
           "zerolinewidth": 2
          },
          "yaxis": {
           "automargin": true,
           "gridcolor": "white",
           "linecolor": "white",
           "ticks": "",
           "title": {
            "standoff": 15
           },
           "zerolinecolor": "white",
           "zerolinewidth": 2
          }
         }
        },
        "title": {
         "text": "Original Hflip"
        },
        "width": 1000,
        "xaxis": {
         "anchor": "y",
         "domain": [
          0,
          0.98
         ],
         "title": {
          "text": "num_neurons"
         },
         "type": "category"
        },
        "xaxis2": {
         "anchor": "y2",
         "domain": [
          0,
          0.98
         ],
         "matches": "x",
         "showticklabels": false,
         "type": "category"
        },
        "xaxis3": {
         "anchor": "y3",
         "domain": [
          0,
          0.98
         ],
         "matches": "x",
         "showticklabels": false,
         "type": "category"
        },
        "xaxis4": {
         "anchor": "y4",
         "domain": [
          0,
          0.98
         ],
         "matches": "x",
         "showticklabels": false,
         "type": "category"
        },
        "xaxis5": {
         "anchor": "y5",
         "domain": [
          0,
          0.98
         ],
         "matches": "x",
         "showticklabels": false,
         "type": "category"
        },
        "xaxis6": {
         "anchor": "y6",
         "domain": [
          0,
          0.98
         ],
         "matches": "x",
         "showticklabels": false,
         "type": "category"
        },
        "xaxis7": {
         "anchor": "y7",
         "domain": [
          0,
          0.98
         ],
         "matches": "x",
         "showticklabels": false,
         "type": "category"
        },
        "yaxis": {
         "anchor": "x",
         "domain": [
          0,
          0.11714285714285715
         ],
         "range": [
          0,
          1
         ],
         "title": {
          "text": "final_score"
         }
        },
        "yaxis2": {
         "anchor": "x2",
         "domain": [
          0.14714285714285713,
          0.2642857142857143
         ],
         "matches": "y",
         "range": [
          0,
          1
         ],
         "title": {
          "text": "final_score"
         }
        },
        "yaxis3": {
         "anchor": "x3",
         "domain": [
          0.29428571428571426,
          0.4114285714285714
         ],
         "matches": "y",
         "range": [
          0,
          1
         ],
         "title": {
          "text": "final_score"
         }
        },
        "yaxis4": {
         "anchor": "x4",
         "domain": [
          0.4414285714285714,
          0.5585714285714285
         ],
         "matches": "y",
         "range": [
          0,
          1
         ],
         "title": {
          "text": "final_score"
         }
        },
        "yaxis5": {
         "anchor": "x5",
         "domain": [
          0.5885714285714285,
          0.7057142857142856
         ],
         "matches": "y",
         "range": [
          0,
          1
         ],
         "title": {
          "text": "final_score"
         }
        },
        "yaxis6": {
         "anchor": "x6",
         "domain": [
          0.7357142857142858,
          0.8528571428571429
         ],
         "matches": "y",
         "range": [
          0,
          1
         ],
         "title": {
          "text": "final_score"
         }
        },
        "yaxis7": {
         "anchor": "x7",
         "domain": [
          0.8828571428571428,
          0.9999999999999999
         ],
         "matches": "y",
         "range": [
          0,
          1
         ],
         "title": {
          "text": "final_score"
         }
        }
       }
      }
     },
     "metadata": {},
     "output_type": "display_data"
    }
   ],
   "source": [
    "title = \"Original_Hflip\"\n",
    "\n",
    "df = dict_df.get(title)\n",
    "fig = px.bar(\n",
    "    df, \n",
    "    x=\"num_neurons\", \n",
    "    y=\"final_score\", \n",
    "    color=\"activation\",\n",
    "    facet_row=\"batch_size\",\n",
    "    barmode=\"group\", \n",
    "    text_auto=True, \n",
    "    range_y=(0, 1),\n",
    "    title=title.replace(\"_\", \" \"),\n",
    "    height=2000,\n",
    "    width=1000,\n",
    ")\n",
    "fig.update_xaxes(type=\"category\")\n",
    "fig.show()"
   ]
  }
 ],
 "metadata": {
  "kernelspec": {
   "display_name": ".venv",
   "language": "python",
   "name": "python3"
  },
  "language_info": {
   "codemirror_mode": {
    "name": "ipython",
    "version": 3
   },
   "file_extension": ".py",
   "mimetype": "text/x-python",
   "name": "python",
   "nbconvert_exporter": "python",
   "pygments_lexer": "ipython3",
   "version": "3.12.3"
  }
 },
 "nbformat": 4,
 "nbformat_minor": 5
}
