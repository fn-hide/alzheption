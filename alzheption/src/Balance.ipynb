{
 "cells": [
  {
   "cell_type": "code",
   "execution_count": 50,
   "metadata": {},
   "outputs": [],
   "source": [
    "import os\n",
    "import shutil\n",
    "import numpy as np\n",
    "import pandas as pd\n",
    "from glob import glob"
   ]
  },
  {
   "cell_type": "code",
   "execution_count": 51,
   "metadata": {},
   "outputs": [],
   "source": [
    "dir_dataset = \"../../asset/dataset_jpg_brightness/\"\n",
    "data = {}\n",
    "for label in os.listdir(dir_dataset):\n",
    "    dir_label = os.path.join(dir_dataset, label)\n",
    "    list_path_label = glob(f\"{dir_label}/*/*.jpg\")\n",
    "    data[label] = list_path_label"
   ]
  },
  {
   "cell_type": "code",
   "execution_count": 52,
   "metadata": {},
   "outputs": [
    {
     "data": {
      "text/plain": [
       "4415"
      ]
     },
     "execution_count": 52,
     "metadata": {},
     "output_type": "execute_result"
    }
   ],
   "source": [
    "sum([len(data.get(item)) for item in data])"
   ]
  },
  {
   "cell_type": "code",
   "execution_count": 53,
   "metadata": {},
   "outputs": [
    {
     "data": {
      "text/plain": [
       "[95, 310, 1145, 630, 810, 1425]"
      ]
     },
     "execution_count": 53,
     "metadata": {},
     "output_type": "execute_result"
    }
   ],
   "source": [
    "[len(data.get(item)) for item in data]"
   ]
  },
  {
   "cell_type": "code",
   "execution_count": 54,
   "metadata": {},
   "outputs": [],
   "source": [
    "minval = np.inf\n",
    "for key, val in data.items():\n",
    "    if len(val) < minval:\n",
    "        minval = len(val)"
   ]
  },
  {
   "cell_type": "code",
   "execution_count": 55,
   "metadata": {},
   "outputs": [
    {
     "data": {
      "text/plain": [
       "95"
      ]
     },
     "execution_count": 55,
     "metadata": {},
     "output_type": "execute_result"
    }
   ],
   "source": [
    "minval"
   ]
  },
  {
   "cell_type": "code",
   "execution_count": 56,
   "metadata": {},
   "outputs": [
    {
     "name": "stdout",
     "output_type": "stream",
     "text": [
      "MCI 95\n",
      "SMC 95\n",
      "CN 95\n",
      "AD 95\n",
      "LMCI 95\n",
      "EMCI 95\n"
     ]
    }
   ],
   "source": [
    "data = {key: val[:minval] for key, val in data.items()}\n",
    "\n",
    "for key, val in data.items():\n",
    "    print(key, len(val))"
   ]
  },
  {
   "cell_type": "code",
   "execution_count": 57,
   "metadata": {},
   "outputs": [],
   "source": [
    "pd.DataFrame(data).to_csv(\"result/path_balance.csv\", index=False)"
   ]
  },
  {
   "cell_type": "code",
   "execution_count": 58,
   "metadata": {},
   "outputs": [],
   "source": [
    "for item in data:\n",
    "    for path in data.get(item):\n",
    "        dst_path = path.replace(\"dataset_jpg_brightness\", \"dataset_jpg_brightness_balance\")\n",
    "        dst_dir = os.path.split(dst_path)[0]\n",
    "        os.makedirs(dst_dir, exist_ok=True)\n",
    "        \n",
    "        shutil.copyfile(path, dst_path)"
   ]
  },
  {
   "cell_type": "code",
   "execution_count": null,
   "metadata": {},
   "outputs": [],
   "source": []
  },
  {
   "cell_type": "code",
   "execution_count": null,
   "metadata": {},
   "outputs": [],
   "source": []
  }
 ],
 "metadata": {
  "kernelspec": {
   "display_name": ".venv",
   "language": "python",
   "name": "python3"
  },
  "language_info": {
   "codemirror_mode": {
    "name": "ipython",
    "version": 3
   },
   "file_extension": ".py",
   "mimetype": "text/x-python",
   "name": "python",
   "nbconvert_exporter": "python",
   "pygments_lexer": "ipython3",
   "version": "3.12.3"
  }
 },
 "nbformat": 4,
 "nbformat_minor": 2
}
